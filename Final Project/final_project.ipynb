{
 "cells": [
  {
   "cell_type": "code",
   "execution_count": 5,
   "id": "ee29c6f3-002f-4f15-9c20-6792f6c4368e",
   "metadata": {},
   "outputs": [],
   "source": [
    "import torch, torch.nn as nn, torch.nn.functional as F, numpy as np\n",
    "from sklearn import preprocessing\n",
    "from sklearn.decomposition import PCA\n",
    "import matplotlib.pyplot as plt # for making figures\n",
    "from glob import glob\n",
    "%matplotlib inline"
   ]
  },
  {
   "cell_type": "code",
   "execution_count": 6,
   "id": "c4221f47-ea62-4668-a474-d5d34816e6c3",
   "metadata": {},
   "outputs": [],
   "source": [
    "txt = ''\n",
    "for speech in sorted(glob('trump/*')):\n",
    "    txt += open(speech).read()\n",
    "    #     allcount += Counter([txt[i:i+3] for i in range(len(txt)-2)])"
   ]
  },
  {
   "cell_type": "code",
   "execution_count": 7,
   "id": "0c842c6b-3271-4863-ae2c-6bc87196c96e",
   "metadata": {},
   "outputs": [
    {
     "data": {
      "text/plain": [
       "(2021490,\n",
       " \"Thank you. Thank you. Thank you to Vice President Pence. He's a good guy. We've done a great job tog\")"
      ]
     },
     "execution_count": 7,
     "metadata": {},
     "output_type": "execute_result"
    }
   ],
   "source": [
    "len(txt), txt[:100]"
   ]
  },
  {
   "cell_type": "code",
   "execution_count": 47,
   "id": "a68dccc1-826c-405e-94b6-1fc1d322bb1e",
   "metadata": {},
   "outputs": [
    {
     "name": "stdout",
     "output_type": "stream",
     "text": [
      "{1: ' ', 2: '\"', 3: '$', 4: '%', 5: \"'\", 6: ',', 7: '-', 8: '.', 9: '0', 10: '1', 11: '2', 12: '3', 13: '4', 14: '5', 15: '6', 16: '7', 17: '8', 18: '9', 19: '?', 20: 'A', 21: 'B', 22: 'C', 23: 'D', 24: 'E', 25: 'F', 26: 'G', 27: 'H', 28: 'I', 29: 'J', 30: 'K', 31: 'L', 32: 'M', 33: 'N', 34: 'O', 35: 'P', 36: 'Q', 37: 'R', 38: 'S', 39: 'T', 40: 'U', 41: 'V', 42: 'W', 43: 'Y', 44: 'Z', 45: 'a', 46: 'b', 47: 'c', 48: 'd', 49: 'e', 50: 'f', 51: 'g', 52: 'h', 53: 'i', 54: 'j', 55: 'k', 56: 'l', 57: 'm', 58: 'n', 59: 'o', 60: 'p', 61: 'q', 62: 'r', 63: 's', 64: 't', 65: 'u', 66: 'v', 67: 'w', 68: 'x', 69: 'y', 70: 'z', 71: '…'}\n"
     ]
    }
   ],
   "source": [
    "# build the vocabulary of characters and mappings to/from integers\n",
    "chars = sorted(list(set(''.join(txt)))) # 26 characters\n",
    "stoi = {s:i+1 for i,s in enumerate(chars)}  # string to integer conversion\n",
    "itos = {i:s for s,i in stoi.items()}  # integer back to string\n",
    "encode = lambda s: [stoi[c] for c in s] # encoder: take a string, output a list of integers\n",
    "decode = lambda l: ''.join([itos[i] for i in l]) \n",
    "print(itos)"
   ]
  },
  {
   "cell_type": "code",
   "execution_count": 48,
   "id": "7be070ed-f9cd-4d0b-88e3-e30b78a06160",
   "metadata": {},
   "outputs": [
    {
     "data": {
      "text/plain": [
       "[52, 49, 56, 56, 59]"
      ]
     },
     "execution_count": 48,
     "metadata": {},
     "output_type": "execute_result"
    }
   ],
   "source": [
    "encode('hello')"
   ]
  },
  {
   "cell_type": "code",
   "execution_count": 49,
   "id": "9581d060-2ee2-46f3-9c98-5e0dff27e20e",
   "metadata": {},
   "outputs": [
    {
     "data": {
      "text/plain": [
       "'hello'"
      ]
     },
     "execution_count": 49,
     "metadata": {},
     "output_type": "execute_result"
    }
   ],
   "source": [
    "decode(encode('hello'))"
   ]
  },
  {
   "cell_type": "code",
   "execution_count": 50,
   "id": "1f4a1220-1e2b-441e-84d7-40033fa5818f",
   "metadata": {},
   "outputs": [
    {
     "name": "stdout",
     "output_type": "stream",
     "text": [
      "torch.Size([1206450]) torch.int64\n",
      "tensor([34, 52,  6,  1, 64, 52, 45, 58, 55,  1, 69, 59, 65,  1, 66, 49, 62, 69,\n",
      "         1, 57, 65, 47, 52,  6,  1, 49, 66, 49, 62, 69, 46, 59, 48, 69,  8,  1,\n",
      "        39, 52, 45, 58, 55,  1, 69, 59, 65,  8,  1, 42, 49, 56, 56,  6,  1, 64,\n",
      "        52, 45, 58, 55,  1, 69, 59, 65,  1, 66, 49, 62, 69,  1, 57, 65, 47, 52,\n",
      "         8,  1, 39, 52, 45, 58, 55,  1, 69, 59, 65,  1, 66, 49, 62, 69,  1, 57,\n",
      "        65, 47, 52,  8,  1, 20, 58, 48,  1, 47])\n"
     ]
    }
   ],
   "source": [
    "data = torch.tensor(encode(txt), dtype=torch.long)\n",
    "print(data.shape, data.dtype)\n",
    "print(data[:100])"
   ]
  },
  {
   "cell_type": "code",
   "execution_count": 54,
   "id": "924a5d81-81bf-4a83-9ad9-590667c5c4dd",
   "metadata": {},
   "outputs": [],
   "source": [
    "# build the dataset\n",
    "block_size = 8 # context length: how many characters do we take to predict the next one?\n",
    "\n",
    "def build_dataset(words):  \n",
    "    X, Y = [], []\n",
    "    for w in words:\n",
    "        context = [0] * block_size\n",
    "        for ch in w:\n",
    "            ix = stoi[ch]\n",
    "            X.append(context)\n",
    "            Y.append(ix)\n",
    "            context = context[1:] + [ix] # crop and append\n",
    "\n",
    "    X = torch.tensor(X)\n",
    "    Y = torch.tensor(Y)\n",
    "    print(X.shape, Y.shape)\n",
    "    return X, Y"
   ]
  },
  {
   "cell_type": "code",
   "execution_count": 55,
   "id": "4c2e5d1a-6cbe-48fa-aa51-87788f7d53e7",
   "metadata": {},
   "outputs": [
    {
     "name": "stdout",
     "output_type": "stream",
     "text": [
      "torch.Size([965160, 8]) torch.Size([965160])\n",
      "torch.Size([120645, 8]) torch.Size([120645])\n",
      "torch.Size([120645, 8]) torch.Size([120645])\n"
     ]
    }
   ],
   "source": [
    "# import random\n",
    "# random.seed(42)\n",
    "# random.shuffle(words)  #instead use in original order\n",
    "\n",
    "n1 = int(0.8*len(txt)) #80% train\n",
    "n2 = int(0.9*len(txt)) #10% validation / dev\n",
    "\n",
    "X_train, y_train = build_dataset(txt[:n1]) #80%\n",
    "X_dev, y_dev = build_dataset(txt[n1:n2])  #10%\n",
    "X_test, y_test = build_dataset(txt[n2:])  #10%"
   ]
  },
  {
   "cell_type": "code",
   "execution_count": 56,
   "id": "53039f2c-5d2d-4858-9337-1ab52869749b",
   "metadata": {},
   "outputs": [
    {
     "data": {
      "text/plain": [
       "(tensor([[0, 0, 0, 0, 0, 0, 0, 0],\n",
       "         [0, 0, 0, 0, 0, 0, 0, 0],\n",
       "         [0, 0, 0, 0, 0, 0, 0, 0],\n",
       "         [0, 0, 0, 0, 0, 0, 0, 0],\n",
       "         [0, 0, 0, 0, 0, 0, 0, 0],\n",
       "         [0, 0, 0, 0, 0, 0, 0, 0],\n",
       "         [0, 0, 0, 0, 0, 0, 0, 0],\n",
       "         [0, 0, 0, 0, 0, 0, 0, 0],\n",
       "         [0, 0, 0, 0, 0, 0, 0, 0],\n",
       "         [0, 0, 0, 0, 0, 0, 0, 0],\n",
       "         [0, 0, 0, 0, 0, 0, 0, 0],\n",
       "         [0, 0, 0, 0, 0, 0, 0, 0]]),\n",
       " tensor([34, 52,  6,  1, 64, 52, 45, 58, 55,  1, 69, 59]))"
      ]
     },
     "execution_count": 56,
     "metadata": {},
     "output_type": "execute_result"
    }
   ],
   "source": [
    "X_train[:12], y_train[:12]"
   ]
  },
  {
   "cell_type": "code",
   "execution_count": 57,
   "id": "b68e0f2b-425e-40e5-969e-17e9f6cb9dd5",
   "metadata": {},
   "outputs": [
    {
     "ename": "KeyError",
     "evalue": "0",
     "output_type": "error",
     "traceback": [
      "\u001b[0;31m---------------------------------------------------------------------------\u001b[0m",
      "\u001b[0;31mKeyError\u001b[0m                                  Traceback (most recent call last)",
      "Cell \u001b[0;32mIn[57], line 2\u001b[0m\n\u001b[1;32m      1\u001b[0m \u001b[38;5;28;01mfor\u001b[39;00m i \u001b[38;5;129;01min\u001b[39;00m \u001b[38;5;28mrange\u001b[39m(\u001b[38;5;241m12\u001b[39m):\n\u001b[0;32m----> 2\u001b[0m     \u001b[38;5;28mprint\u001b[39m (\u001b[38;5;124;43m'\u001b[39;49m\u001b[38;5;124;43m'\u001b[39;49m\u001b[38;5;241;43m.\u001b[39;49m\u001b[43mjoin\u001b[49m\u001b[43m(\u001b[49m\u001b[43mitos\u001b[49m\u001b[43m[\u001b[49m\u001b[43mi\u001b[49m\u001b[38;5;241;43m.\u001b[39;49m\u001b[43mitem\u001b[49m\u001b[43m(\u001b[49m\u001b[43m)\u001b[49m\u001b[43m]\u001b[49m\u001b[43m \u001b[49m\u001b[38;5;28;43;01mfor\u001b[39;49;00m\u001b[43m \u001b[49m\u001b[43mi\u001b[49m\u001b[43m \u001b[49m\u001b[38;5;129;43;01min\u001b[39;49;00m\u001b[43m \u001b[49m\u001b[43mX_train\u001b[49m\u001b[43m[\u001b[49m\u001b[43mi\u001b[49m\u001b[43m]\u001b[49m\u001b[43m)\u001b[49m, \u001b[38;5;124m'\u001b[39m\u001b[38;5;124m->\u001b[39m\u001b[38;5;124m'\u001b[39m, itos[y_train[i]\u001b[38;5;241m.\u001b[39mitem()])\n",
      "Cell \u001b[0;32mIn[57], line 2\u001b[0m, in \u001b[0;36m<genexpr>\u001b[0;34m(.0)\u001b[0m\n\u001b[1;32m      1\u001b[0m \u001b[38;5;28;01mfor\u001b[39;00m i \u001b[38;5;129;01min\u001b[39;00m \u001b[38;5;28mrange\u001b[39m(\u001b[38;5;241m12\u001b[39m):\n\u001b[0;32m----> 2\u001b[0m     \u001b[38;5;28mprint\u001b[39m (\u001b[38;5;124m'\u001b[39m\u001b[38;5;124m'\u001b[39m\u001b[38;5;241m.\u001b[39mjoin(\u001b[43mitos\u001b[49m\u001b[43m[\u001b[49m\u001b[43mi\u001b[49m\u001b[38;5;241;43m.\u001b[39;49m\u001b[43mitem\u001b[49m\u001b[43m(\u001b[49m\u001b[43m)\u001b[49m\u001b[43m]\u001b[49m \u001b[38;5;28;01mfor\u001b[39;00m i \u001b[38;5;129;01min\u001b[39;00m X_train[i]), \u001b[38;5;124m'\u001b[39m\u001b[38;5;124m->\u001b[39m\u001b[38;5;124m'\u001b[39m, itos[y_train[i]\u001b[38;5;241m.\u001b[39mitem()])\n",
      "\u001b[0;31mKeyError\u001b[0m: 0"
     ]
    }
   ],
   "source": [
    "for i in range(12):\n",
    "    print (''.join(itos[i.item()] for i in X_train[i]), '->', itos[y_train[i].item()])"
   ]
  },
  {
   "cell_type": "code",
   "execution_count": null,
   "id": "77759e2f-f954-4d3a-819d-3e6482cd15d0",
   "metadata": {},
   "outputs": [],
   "source": []
  }
 ],
 "metadata": {
  "kernelspec": {
   "display_name": "Python 3 (ipykernel)",
   "language": "python",
   "name": "python3"
  },
  "language_info": {
   "codemirror_mode": {
    "name": "ipython",
    "version": 3
   },
   "file_extension": ".py",
   "mimetype": "text/x-python",
   "name": "python",
   "nbconvert_exporter": "python",
   "pygments_lexer": "ipython3",
   "version": "3.8.16"
  }
 },
 "nbformat": 4,
 "nbformat_minor": 5
}
