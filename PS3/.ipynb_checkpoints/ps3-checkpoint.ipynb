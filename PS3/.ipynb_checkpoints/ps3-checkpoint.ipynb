{
 "cells": [
  {
   "cell_type": "markdown",
   "metadata": {},
   "source": [
    "Alex Weseley alw269"
   ]
  },
  {
   "cell_type": "markdown",
   "metadata": {},
   "source": [
    "# Info 3950 Problem Set 3\n",
    "\n",
    "**due Tue evening 7 Mar 2023 23:00**\n",
    "\n",
    "Remember to include your name and netid in the first cell.\n",
    "\n",
    "Submit via [gradescope](https://gradescope.com/).<br>\n",
    "Remember to save your notebook before uploading, and then after uploading click the code button on gradescope to verify that your notebook renders properly, and is your latest version.\n",
    "\n",
    "<font size=\"-1\">[Also note that these problem sets are not intended as group projects: the work you submit must be your own. You can discuss with other students at a high level, for example general methods or strategies to solve a problem, but you must cite the other student(s) in your submission. Any work you submit must be your own understanding of the solution, the details of which you personally and individually worked out, and written in your own words. In no cases should notebooks or code be shared.]</font>"
   ]
  },
  {
   "cell_type": "markdown",
   "metadata": {
    "problem": "1"
   },
   "source": [
    "## 1) logistic regression, Challenger data\n",
    "\n",
    "[For additional introduction to scikit-learn, see\n",
    "[05.02-introducing-scikit-learn](https://jakevdp.github.io/PythonDataScienceHandbook/05.02-introducing-scikit-learn.html) (Vanderplas)]"
   ]
  },
  {
   "cell_type": "markdown",
   "metadata": {
    "problem": "1A"
   },
   "source": [
    "**A.**\n",
    "Redo the fit of the logistic parameters from\n",
    "[lec9_logistic.ipynb](https://nbviewer.jupyter.org/url/courses.cit.cornell.edu/info3950_2023sp/lec9_logistic.ipynb)\n",
    "using [sklearn.linear_model.LogisticRegression](http://scikit-learn.org/stable/modules/generated/sklearn.linear_model.LogisticRegression.html)\n",
    "(see also [plot_logistic](http://scikit-learn.org/stable/auto_examples/linear_model/plot_logistic.html)).\n",
    "\n",
    "There are two minor subtleties:<br>\n",
    "     $\\quad\\bullet$ For the xdata the scikit learn functions expect multi-dimensional data, so one-dimensional temperature data `[70, 57, 63, 70, 53, ...]` would instead have to be in the form `[[70], [57], [63], [70], [53], ...]`, which can be created from the lists above via `X = np.array(xdata)[:, None]`, i.e., adding an empty second dimension to each data point (or via `X=[[x] for x in xdata]`. The attributes `.coef_` and `.intercept_` of the fitted logistic classifier give respectively `a` and `-a*t0`, since they appear as `(coef *t + intercept) = a*(t - t0)` in the argument of the exponential.<br>\n",
    "     $\\quad\\bullet$ By default scikit-learn's `LogisticRegression()` comes with a \"regularization\" parameter `C` turned on, to prevent overfitting by constraining the parameters to be small. That isn't a concern here with only two parameters, so the regularization can be disabled by initializing with a large value of `C`, e.g., `LogisticRegression(C=1e6)`. You can also increase the accuracy of the result by lowering the tolerance from the default to, say, `tol=1e-6` (though that may require increasing `max_iter`).  [We'll cover regularization more carefully after the break, and with a problem on ps4.]\n",
    "\n",
    "You should find slightly different values for `a` and `t0` than found using the coarse grid -- check that they give a slightly better fit in the sense that they give a slightly higher probability of the data."
   ]
  },
  {
   "cell_type": "code",
   "execution_count": 1,
   "metadata": {},
   "outputs": [],
   "source": [
    "from sklearn.linear_model import LogisticRegression\n",
    "import numpy as np\n",
    "import matplotlib.pyplot as plt"
   ]
  },
  {
   "cell_type": "code",
   "execution_count": 2,
   "metadata": {},
   "outputs": [],
   "source": [
    "fail_data = np.array([70, 57, 63, 70, 53, 75, 58])\n",
    "success_data = np.array([66, 69, 68, 67, 72, 73, 70, 78, 67, 67, 75, 70, 81, 76, 79, 76])"
   ]
  },
  {
   "cell_type": "code",
   "execution_count": 3,
   "metadata": {},
   "outputs": [
    {
     "data": {
      "image/png": "[encoded data removed]",
      "text/plain": [
       "<Figure size 1250x400 with 1 Axes>"
      ]
     },
     "metadata": {},
     "output_type": "display_data"
    }
   ],
   "source": [
    "def p(t, a=1., t0=0.): return 1 / (1 + np.exp(-a*(t-t0))) #lecture 9 code\n",
    "plt.figure(figsize=(12.5,4))\n",
    "xr=np.arange(-7.,7.1,.1)\n",
    "plt.plot(xr, p(xr), 'b--');"
   ]
  },
  {
   "cell_type": "code",
   "execution_count": 4,
   "metadata": {},
   "outputs": [],
   "source": [
    "clf = LogisticRegression(tol = 1e-6, C=1e6)"
   ]
  },
  {
   "cell_type": "code",
   "execution_count": 5,
   "metadata": {},
   "outputs": [],
   "source": [
    "y = np.append(np.ones(len(success_data)), np.zeros(len(fail_data)))[:,None]"
   ]
  },
  {
   "cell_type": "code",
   "execution_count": 6,
   "metadata": {},
   "outputs": [
    {
     "data": {
      "text/plain": [
       "23"
      ]
     },
     "execution_count": 6,
     "metadata": {},
     "output_type": "execute_result"
    }
   ],
   "source": [
    "len(y)"
   ]
  },
  {
   "cell_type": "code",
   "execution_count": 7,
   "metadata": {},
   "outputs": [],
   "source": [
    "X = np.append(success_data, fail_data)[:,None]"
   ]
  },
  {
   "cell_type": "code",
   "execution_count": 8,
   "metadata": {},
   "outputs": [
    {
     "data": {
      "text/plain": [
       "23"
      ]
     },
     "execution_count": 8,
     "metadata": {},
     "output_type": "execute_result"
    }
   ],
   "source": [
    "len(X)"
   ]
  },
  {
   "cell_type": "code",
   "execution_count": 9,
   "metadata": {},
   "outputs": [
    {
     "name": "stderr",
     "output_type": "stream",
     "text": [
      "/Users/alexweseley/opt/anaconda3/lib/python3.8/site-packages/sklearn/utils/validation.py:993: DataConversionWarning: A column-vector y was passed when a 1d array was expected. Please change the shape of y to (n_samples, ), for example using ravel().\n",
      "  y = column_or_1d(y, warn=True)\n"
     ]
    },
    {
     "data": {
      "text/plain": [
       "LogisticRegression(C=1000000.0, tol=1e-06)"
      ]
     },
     "execution_count": 9,
     "metadata": {},
     "output_type": "execute_result"
    }
   ],
   "source": [
    "clf.fit(X,y)"
   ]
  },
  {
   "cell_type": "code",
   "execution_count": 10,
   "metadata": {},
   "outputs": [],
   "source": [
    "def logit(x): return 1 / (1 + np.exp(-x))"
   ]
  },
  {
   "cell_type": "code",
   "execution_count": 11,
   "metadata": {},
   "outputs": [
    {
     "data": {
      "image/png": "[encoded data removed]",
      "text/plain": [
       "<Figure size 1250x400 with 1 Axes>"
      ]
     },
     "metadata": {},
     "output_type": "display_data"
    }
   ],
   "source": [
    "# https://scikit-learn.org/stable/auto_examples/linear_model/plot_logistic.html\n",
    "# lecture 9 code\n",
    "\n",
    "X_test = np.linspace(50, 85, 300)\n",
    "\n",
    "loss = logit(X_test * clf.coef_ + clf.intercept_).ravel()\n",
    "plt.figure(figsize=(12.5,4))\n",
    "plt.plot(X_test, loss, label=\"Logistic Regression Model\", color=\"blue\", linewidth=2)\n",
    "plt.title(\"O-ring Data Logistic Regression Model\")\n",
    "plt.xlabel(\"Temperature\")\n",
    "plt.ylabel(\"Probability\")\n",
    "plt.xlim(50,85)\n",
    "plt.text(-.04,.93,'S', transform=plt.gca().transAxes, fontsize=20, c='g', ha='right')\n",
    "plt.text(-.04,.02,'F', transform=plt.gca().transAxes, fontsize=20, c='r', ha='right')\n",
    "\n",
    "plt.plot(success_data, np.ones(len(success_data)), 'go',\n",
    "        fail_data, np.zeros(len(fail_data)), 'ro', alpha=.33)\n",
    "plt.grid('on')\n",
    "\n",
    "plt.show()"
   ]
  },
  {
   "cell_type": "code",
   "execution_count": 12,
   "metadata": {},
   "outputs": [
    {
     "data": {
      "text/plain": [
       "(array([[64.79464085]]), array([[0.23216274]]))"
      ]
     },
     "execution_count": 12,
     "metadata": {},
     "output_type": "execute_result"
    }
   ],
   "source": [
    "clf.intercept_/-clf.coef_, clf.coef_"
   ]
  },
  {
   "cell_type": "code",
   "execution_count": 13,
   "metadata": {},
   "outputs": [],
   "source": [
    "def logprob(a,t0):\n",
    "   return np.log(p(success_data, a, t0)).sum() + np.log(1-p(fail_data, a, t0)).sum()"
   ]
  },
  {
   "cell_type": "code",
   "execution_count": 14,
   "metadata": {},
   "outputs": [],
   "source": [
    "ar = np.arange(.01, 1., .001)\n",
    "t0r = np.arange(50, 85.001, .1)\n",
    "\n",
    "logprobs = np.array([[logprob(a,t0) for t0 in t0r] for a in ar])"
   ]
  },
  {
   "cell_type": "code",
   "execution_count": 15,
   "metadata": {},
   "outputs": [
    {
     "name": "stdout",
     "output_type": "stream",
     "text": [
      "Highest probability of data -10.1576 Found at indices [[222 148]]\n"
     ]
    }
   ],
   "source": [
    "new_max_prob = logprobs.max()\n",
    "print(\"Highest probability of data\", round(new_max_prob, 5), \"Found at indices\", np.argwhere(logprobs==logprobs.max()))"
   ]
  },
  {
   "cell_type": "code",
   "execution_count": 16,
   "metadata": {},
   "outputs": [
    {
     "name": "stdout",
     "output_type": "stream",
     "text": [
      "Old highest probability (coarse grid) -10.16112\n"
     ]
    }
   ],
   "source": [
    "old_max_prob = logprob(.24, 65)\n",
    "print(\"Old highest probability (coarse grid)\", round(old_max_prob,5))"
   ]
  },
  {
   "cell_type": "code",
   "execution_count": 17,
   "metadata": {},
   "outputs": [
    {
     "name": "stdout",
     "output_type": "stream",
     "text": [
      "Difference in probabilities: 0.00352\n"
     ]
    }
   ],
   "source": [
    "diff = new_max_prob - old_max_prob\n",
    "print('Difference in probabilities:', round(diff, 5))"
   ]
  },
  {
   "cell_type": "markdown",
   "metadata": {
    "problem": "1B"
   },
   "source": [
    "**B.**\n",
    "Redraw the right hand contour plot in cell [14] of [lec9_logistic.ipynb](https://nbviewer.jupyter.org/url/courses.cit.cornell.edu/info3950_2023sp/lec9_logistic.ipynb)\n",
    "(the plot after the markdown cell \"They're peaked fairly strongly in the neighborhood of the maximum:\"), but with a finer grid to show the position of the best value found by the sklearn algorithm.  Also plot a point showing as above the location of the former best maximum found in problem lec9_logistic, it might looks something like the fake data below:"
   ]
  },
  {
   "cell_type": "code",
   "execution_count": 18,
   "metadata": {},
   "outputs": [
    {
     "data": {
      "text/plain": [
       "0.232"
      ]
     },
     "execution_count": 18,
     "metadata": {},
     "output_type": "execute_result"
    }
   ],
   "source": [
    "a = round(ar[222],3)\n",
    "a"
   ]
  },
  {
   "cell_type": "code",
   "execution_count": 19,
   "metadata": {},
   "outputs": [
    {
     "data": {
      "text/plain": [
       "64.8"
      ]
     },
     "execution_count": 19,
     "metadata": {},
     "output_type": "execute_result"
    }
   ],
   "source": [
    "t0 = t0r[148]\n",
    "round(t0, 3)"
   ]
  },
  {
   "cell_type": "code",
   "execution_count": 20,
   "metadata": {},
   "outputs": [
    {
     "name": "stdout",
     "output_type": "stream",
     "text": [
      "a_avg=0.236,  t0_avg=63.82\n"
     ]
    }
   ],
   "source": [
    "pprobs = np.exp(logprobs) / np.exp(logprobs).sum()  #now consider normalized posterior probs\n",
    "\n",
    "a_avg = np.average([[a for t0 in t0r] for a in ar], weights=pprobs)  #weighted average\n",
    "t0_avg = np.average([[t0 for t0 in t0r] for a in ar], weights=pprobs)\n",
    "\n",
    "print ('a_avg={:.3f},  t0_avg={:.2f}'.format(a_avg, t0_avg))"
   ]
  },
  {
   "cell_type": "code",
   "execution_count": 21,
   "metadata": {},
   "outputs": [
    {
     "data": {
      "text/plain": [
       "990"
      ]
     },
     "execution_count": 21,
     "metadata": {},
     "output_type": "execute_result"
    }
   ],
   "source": [
    "len(pprobs)"
   ]
  },
  {
   "cell_type": "code",
   "execution_count": 22,
   "metadata": {},
   "outputs": [
    {
     "data": {
      "image/png": "[encoded data removed]",
      "text/plain": [
       "<Figure size 800x600 with 2 Axes>"
      ]
     },
     "metadata": {},
     "output_type": "display_data"
    }
   ],
   "source": [
    "#look directly at the overall probability of the data for all values of t0, a\n",
    "plt.figure(figsize=(8, 6))\n",
    "\n",
    "plt.contourf(t0r[135:170], ar[200:270], pprobs[200:270,135:170], cmap='jet')\n",
    "plt.grid('on', color='w', linestyle='dotted')\n",
    "plt.title('zoomed near max (a={:.2f}, t0={:.2f})'.format(ar[222], t0r[148]))\n",
    "plt.xlabel('t0'), plt.ylabel('a')\n",
    "plt.plot([65], [.24], marker='o', color = 'black', label='former best')\n",
    "plt.plot(t0r[148], ar[222], marker='o', color = 'grey', label='new best')\n",
    "plt.legend()\n",
    "plt.colorbar();"
   ]
  },
  {
   "cell_type": "markdown",
   "metadata": {
    "problem": "1C"
   },
   "source": [
    "**C.** Use the `.score()` method to determine how many of the points the trained classifier gets wrong on the training set. What are the X and y values of those points (temperatures and training values)?"
   ]
  },
  {
   "cell_type": "code",
   "execution_count": 23,
   "metadata": {},
   "outputs": [
    {
     "data": {
      "text/plain": [
       "'The classifier misclassified 3.0 points in the training set with an accuracy of 86.96%'"
      ]
     },
     "execution_count": 23,
     "metadata": {},
     "output_type": "execute_result"
    }
   ],
   "source": [
    "n_correct = clf.score(X, y) * 23\n",
    "f\"The classifier misclassified {23 - n_correct} points in the training set with an accuracy of {round(clf.score(X,y)*100,2)}%\""
   ]
  },
  {
   "cell_type": "code",
   "execution_count": 24,
   "metadata": {},
   "outputs": [],
   "source": [
    "training_accuracy = clf.predict(X) != y.flatten()"
   ]
  },
  {
   "cell_type": "code",
   "execution_count": 25,
   "metadata": {},
   "outputs": [],
   "source": [
    "incorrect_indices = np.argwhere(training_accuracy == True)"
   ]
  },
  {
   "cell_type": "code",
   "execution_count": 26,
   "metadata": {},
   "outputs": [
    {
     "name": "stdout",
     "output_type": "stream",
     "text": [
      "X values:  [70 70 75] \n",
      "Y values:  [0. 0. 0.]\n"
     ]
    }
   ],
   "source": [
    "print(\"X values: \", X[incorrect_indices].flatten(), \"\\nY values: \", np.zeros(3).flatten())"
   ]
  },
  {
   "cell_type": "code",
   "execution_count": 27,
   "metadata": {
    "tags": []
   },
   "outputs": [],
   "source": [
    "# from IPython.display import Image\n",
    "# Image(filename='fakemax.png')"
   ]
  },
  {
   "cell_type": "markdown",
   "metadata": {
    "problem": "3"
   },
   "source": [
    "## 2) OVR regression and adversarial digit recognition\n",
    "\n",
    "\n",
    "[Some of what is requested is already implemented in the lec10_digits.ipynb notebook used in class. We'll return to discuss a bit more about multinomial logistic regression after the break, and ps4 will continue this example with a 'multinomial' version of the logistic classifier, rather than the 'ovr' = \"one versus rest\"]\n",
    "\n",
    "In the [digits_classification_exercise](http://scikit-learn.org/stable/auto_examples/exercises/plot_digits_classification_exercise.html) discussed in class (see [lec10_digits.ipynb](https://nbviewer.jupyter.org/url/courses.cit.cornell.edu/info3950_2023sp/lec10_digits.ipynb)), [logistic regression](http://scikit-learn.org/stable/modules/generated/sklearn.linear_model.LogisticRegression.html) was used to classify 8x8 images of handwritten digits."
   ]
  },
  {
   "cell_type": "markdown",
   "metadata": {
    "problem": "2A"
   },
   "source": [
    "**A.** First train the logistic regression `logreg_ovr` as in the digits.ipynb notebook (using same training and test set). Check that you get the same .938888 = 169/180 score, meaning that it gets 11 of the 180 test images incorrect.  [you need to have `multi_class='ovr'` as an argument to `LogisticRegression()`, as discussed in class]. What are the indices of the `X_test array` corresponding to the ones that it gets wrong? Visualize those 11 to see why they might be ambiguous"
   ]
  },
  {
   "cell_type": "code",
   "execution_count": 28,
   "metadata": {},
   "outputs": [],
   "source": [
    "# Your visualization might look something like this, but with all eleven filled in:"
   ]
  },
  {
   "cell_type": "code",
   "execution_count": 29,
   "metadata": {},
   "outputs": [],
   "source": [
    "from sklearn import datasets, neighbors, linear_model"
   ]
  },
  {
   "cell_type": "code",
   "execution_count": 30,
   "metadata": {},
   "outputs": [],
   "source": [
    "digits = datasets.load_digits()\n",
    "X_digits = digits.data\n",
    "y_digits = digits.target"
   ]
  },
  {
   "cell_type": "code",
   "execution_count": 31,
   "metadata": {},
   "outputs": [
    {
     "data": {
      "text/plain": [
       "2028"
      ]
     },
     "execution_count": 31,
     "metadata": {},
     "output_type": "execute_result"
    }
   ],
   "source": [
    "len(digits.DESCR)"
   ]
  },
  {
   "cell_type": "code",
   "execution_count": 32,
   "metadata": {
    "tags": []
   },
   "outputs": [
    {
     "data": {
      "text/plain": [
       "\u001b[0;31mSignature:\u001b[0m \u001b[0mplt\u001b[0m\u001b[0;34m.\u001b[0m\u001b[0mmatshow\u001b[0m\u001b[0;34m(\u001b[0m\u001b[0mA\u001b[0m\u001b[0;34m,\u001b[0m \u001b[0mfignum\u001b[0m\u001b[0;34m=\u001b[0m\u001b[0;32mNone\u001b[0m\u001b[0;34m,\u001b[0m \u001b[0;34m**\u001b[0m\u001b[0mkwargs\u001b[0m\u001b[0;34m)\u001b[0m\u001b[0;34m\u001b[0m\u001b[0;34m\u001b[0m\u001b[0m\n",
       "\u001b[0;31mDocstring:\u001b[0m\n",
       "Display an array as a matrix in a new figure window.\n",
       "\n",
       "The origin is set at the upper left hand corner and rows (first\n",
       "dimension of the array) are displayed horizontally.  The aspect\n",
       "ratio of the figure window is that of the array, unless this would\n",
       "make an excessively short or narrow figure.\n",
       "\n",
       "Tick labels for the xaxis are placed on top.\n",
       "\n",
       "Parameters\n",
       "----------\n",
       "A : 2D array-like\n",
       "    The matrix to be displayed.\n",
       "\n",
       "fignum : None or int or False\n",
       "    If *None*, create a new figure window with automatic numbering.\n",
       "\n",
       "    If a nonzero integer, draw into the figure with the given number\n",
       "    (create it if it does not exist).\n",
       "\n",
       "    If 0, use the current axes (or create one if it does not exist).\n",
       "\n",
       "    .. note::\n",
       "\n",
       "       Because of how `.Axes.matshow` tries to set the figure aspect\n",
       "       ratio to be the one of the array, strange things may happen if you\n",
       "       reuse an existing figure.\n",
       "\n",
       "Returns\n",
       "-------\n",
       "`~matplotlib.image.AxesImage`\n",
       "\n",
       "Other Parameters\n",
       "----------------\n",
       "**kwargs : `~matplotlib.axes.Axes.imshow` arguments\n",
       "\u001b[0;31mFile:\u001b[0m      ~/opt/anaconda3/lib/python3.8/site-packages/matplotlib/pyplot.py\n",
       "\u001b[0;31mType:\u001b[0m      function"
      ]
     },
     "metadata": {},
     "output_type": "display_data"
    }
   ],
   "source": [
    "plt.matshow?"
   ]
  },
  {
   "cell_type": "code",
   "execution_count": 33,
   "metadata": {},
   "outputs": [
    {
     "data": {
      "image/png": "[encoded data removed]",
      "text/plain": [
       "<Figure size 480x480 with 2 Axes>"
      ]
     },
     "metadata": {},
     "output_type": "display_data"
    }
   ],
   "source": [
    "plt.matshow(X_digits[0].reshape(8,8),cmap='Greys')\n",
    "plt.colorbar();"
   ]
  },
  {
   "cell_type": "code",
   "execution_count": 34,
   "metadata": {},
   "outputs": [
    {
     "data": {
      "text/plain": [
       "3"
      ]
     },
     "execution_count": 34,
     "metadata": {},
     "output_type": "execute_result"
    }
   ],
   "source": [
    "y_digits[999]"
   ]
  },
  {
   "cell_type": "code",
   "execution_count": 35,
   "metadata": {},
   "outputs": [
    {
     "data": {
      "image/png": "[encoded data removed]",
      "text/plain": [
       "<Figure size 800x320 with 10 Axes>"
      ]
     },
     "metadata": {},
     "output_type": "display_data"
    }
   ],
   "source": [
    "plt.figure(figsize=(8,3.2))\n",
    "for i in range(10):\n",
    "    plt.subplot(2,5,i+1)\n",
    "    plt.imshow(X_digits[i].reshape(8,8),cmap='Greys')"
   ]
  },
  {
   "cell_type": "code",
   "execution_count": 36,
   "metadata": {},
   "outputs": [
    {
     "name": "stdout",
     "output_type": "stream",
     "text": [
      "90% = first 1617 samples of 1797\n"
     ]
    }
   ],
   "source": [
    "n_samples = len(X_digits)\n",
    "\n",
    "f = int(.9 * n_samples)\n",
    "print ('90% = first', f, 'samples of', n_samples)\n",
    "\n",
    "X_train = X_digits[:f] #first 90%\n",
    "y_train = y_digits[:f]\n",
    "\n",
    "X_test = X_digits[f:]  #last 10%\n",
    "y_test = y_digits[f:]"
   ]
  },
  {
   "cell_type": "code",
   "execution_count": 37,
   "metadata": {},
   "outputs": [],
   "source": [
    "logreg_ovr = LogisticRegression(multi_class='ovr', max_iter = 10000)"
   ]
  },
  {
   "cell_type": "code",
   "execution_count": 38,
   "metadata": {},
   "outputs": [
    {
     "data": {
      "text/plain": [
       "LogisticRegression(max_iter=10000, multi_class='ovr')"
      ]
     },
     "execution_count": 38,
     "metadata": {},
     "output_type": "execute_result"
    }
   ],
   "source": [
    "logreg_ovr.fit(X_train, y_train)"
   ]
  },
  {
   "cell_type": "code",
   "execution_count": 39,
   "metadata": {},
   "outputs": [
    {
     "name": "stdout",
     "output_type": "stream",
     "text": [
      "model accuracy on test set: 0.93889\n"
     ]
    }
   ],
   "source": [
    "print(f'model accuracy on test set: {np.around(logreg_ovr.score(X_test, y_test),5)}')"
   ]
  },
  {
   "cell_type": "code",
   "execution_count": 40,
   "metadata": {},
   "outputs": [
    {
     "name": "stdout",
     "output_type": "stream",
     "text": [
      "number of incorrect predictions in test set: 11\n"
     ]
    }
   ],
   "source": [
    "accuracy_matrix = logreg_ovr.predict(X_test) != y_test\n",
    "print(f'number of incorrect predictions in test set: {np.sum(accuracy_matrix)}')"
   ]
  },
  {
   "cell_type": "code",
   "execution_count": 41,
   "metadata": {},
   "outputs": [
    {
     "name": "stdout",
     "output_type": "stream",
     "text": [
      "incorrect indices:  [ 11  41  43  71  73 109 110 112 113 130 148] \n",
      "\n"
     ]
    },
    {
     "data": {
      "image/png": "[encoded data removed]",
      "text/plain": [
       "<Figure size 800x320 with 11 Axes>"
      ]
     },
     "metadata": {},
     "output_type": "display_data"
    }
   ],
   "source": [
    "incorrect_indices = np.argwhere(accuracy_matrix == True)\n",
    "index_range = incorrect_indices.flatten()\n",
    "print(\"incorrect indices: \", index_range, \"\\n\")\n",
    "\n",
    "plt.figure(figsize=(8,3.2))\n",
    "for i,k in enumerate(index_range):\n",
    "    plt.subplot(2, 6, i+1)\n",
    "    plt.imshow(X_test[k].reshape(8,8),cmap='Greys')"
   ]
  },
  {
   "cell_type": "markdown",
   "metadata": {},
   "source": [
    "**B.** Consider$^*$ the three images `test3 = [X_test[i].copy() for i in (11, 43, 113)]`. Check that those are ones that the classifier gets wrong. Below you will manipulate a single pixel of the three images to cause the classifier to agree with the label. The first two are labelled as 4, and the last as 3.\n",
    "\n",
    "$^*$Note the use of `np.copy()` in the above. If `a` is an array and you let `b=a` then set say `b[2]=0` that  also will change the value of `a[2]` to 0, because python works at the level of pointers and `b` and `a` point to the same data. This will not happen if you use instead `b=a.copy()`. To permit manipulating the images without affecting originals, the above populates `test3` with copies of the arrays."
   ]
  },
  {
   "cell_type": "code",
   "execution_count": 42,
   "metadata": {},
   "outputs": [],
   "source": [
    "# three of the misclassified images"
   ]
  },
  {
   "cell_type": "markdown",
   "metadata": {
    "problem": "2B"
   },
   "source": [
    "Recall that `logreg_ovr.predict(test3)` will give the predictions for each of the three, `y_test[[11, 43, 113]]` will give their labelled values, and `logreg_ovr.predict_proba(test3)` will give the ten probabilities that they're each of the ten digits. (The `.predict()` method picks the label with the highest probability, as discussed in class.)\n",
    "\n",
    "One way to manipulate the third image to be classified instead as 3 would be to look at the associated weights. `logref_ovr.coef_` is an array of shape `(10,64)`, and each row is an array of 64 weights that multiply the corresponding pixel values. (These weights are called $\\vec w_i$ in the [lec10_slides.pdf](https://courses.cit.cornell.edu/info3950_2023sp/lec10_slides.pdf) notes.) `logref_ovr.intercept_` is an array of `10` numbers that provide the thresholds for each of the 10 \"one versus rest\" classifiers (0 or not 0, 1 or not 1, ...), and are added in turn to the corresponding sum of products of weights and features for each digit. (These are called $b_i$ in the formula $x_i = \\vec w_i \\cdot \\vec f + \\vec b_i$ in the lec10 slides.) Thus `logreg_ovr.coef_[3]` gives the 64 weights used in the \"3 or not 3\" classifier.  Identify the largest weight and see if the corresponding pixel in the image is already large (the max value is 16). If it is not already large, then see what happens when you increase its value. Otherwise look for the most negative weight, see if that corresponding pixel has a large value, and check what happens if you decrease it. Either way should make it more likely for the image to be classified as a 3. (Or you could notice that the third image is currently classified as a 8, look instead at `logreg_ovr.coef_[8]`, and to make that *less* likely either decrease the value of a pixel that has a large positive weight, or increase the value of a pixel that has a large negative weight. Again remember that pixel values are integers only in the range 0,1,2,...,15,16 ). In all cases you should use the smallest change in the pixel value to produce the desired effect.\n",
    "\n",
    "i) Find (at least one) single pixel manipulation of each of the first two images that correct the predictions from 9 to 4.  Visualize the  images, indicating the location of the altered pixel in each. [See note added below]"
   ]
  },
  {
   "cell_type": "code",
   "execution_count": 43,
   "metadata": {},
   "outputs": [
    {
     "name": "stdout",
     "output_type": "stream",
     "text": [
      "predicted values: [9 9 8]\n",
      "labelled values: [4 4 3]\n"
     ]
    },
    {
     "data": {
      "text/plain": [
       "array([[1.01716842e-11, 4.60202971e-02, 1.48088016e-07, 6.90320064e-18,\n",
       "        2.40501417e-01, 1.03353824e-07, 6.03741117e-12, 1.98311862e-06,\n",
       "        2.59839174e-02, 6.87492134e-01],\n",
       "       [5.71700787e-12, 1.42300865e-10, 3.04959979e-09, 1.80531089e-17,\n",
       "        2.77002482e-01, 3.37644148e-09, 1.55607828e-11, 4.83153495e-08,\n",
       "        3.54430257e-01, 3.68567206e-01],\n",
       "       [4.65229929e-11, 1.79846388e-10, 2.19622426e-08, 2.65011168e-04,\n",
       "        2.17732323e-15, 4.58989380e-08, 6.34963966e-16, 5.70887475e-10,\n",
       "        9.99734767e-01, 1.52963531e-07]])"
      ]
     },
     "execution_count": 43,
     "metadata": {},
     "output_type": "execute_result"
    }
   ],
   "source": [
    "test3 = [X_test[i].copy() for i in (11, 43, 113)]\n",
    "# print(test3)\n",
    "print(f'predicted values: {logreg_ovr.predict(test3)}')\n",
    "print(f'labelled values: {y_test[[11, 43, 113]]}')\n",
    "logreg_ovr.predict_proba(test3)"
   ]
  },
  {
   "cell_type": "code",
   "execution_count": 44,
   "metadata": {},
   "outputs": [
    {
     "data": {
      "text/plain": [
       "41"
      ]
     },
     "execution_count": 44,
     "metadata": {},
     "output_type": "execute_result"
    }
   ],
   "source": [
    "max_val = np.argwhere(logreg_ovr.coef_[4] == logreg_ovr.coef_[4].max())[0][0]\n",
    "max_val"
   ]
  },
  {
   "cell_type": "code",
   "execution_count": 45,
   "metadata": {
    "tags": []
   },
   "outputs": [
    {
     "data": {
      "text/plain": [
       "54"
      ]
     },
     "execution_count": 45,
     "metadata": {},
     "output_type": "execute_result"
    }
   ],
   "source": [
    "min_val = np.argwhere(logreg_ovr.coef_[4] == logreg_ovr.coef_[4].min())[0][0]\n",
    "min_val"
   ]
  },
  {
   "cell_type": "code",
   "execution_count": 46,
   "metadata": {},
   "outputs": [
    {
     "data": {
      "text/plain": [
       "0.0"
      ]
     },
     "execution_count": 46,
     "metadata": {},
     "output_type": "execute_result"
    }
   ],
   "source": [
    "new_test3 = np.copy(test3)\n",
    "new_test3[0][max_val]"
   ]
  },
  {
   "cell_type": "code",
   "execution_count": 47,
   "metadata": {},
   "outputs": [
    {
     "name": "stdout",
     "output_type": "stream",
     "text": [
      "10.0\n",
      "10.0\n",
      "new pred 1: 4\n",
      "new pred 2: 4\n"
     ]
    }
   ],
   "source": [
    "for i in range(16 - int(new_test3[0][max_val])):\n",
    "    new_test3[0][max_val] += 1\n",
    "    if logreg_ovr.predict(new_test3)[0] == 4:\n",
    "        # print(new_test3[0][max_val])\n",
    "        # print(i+1)\n",
    "        break\n",
    "        \n",
    "for i in range(16 - int(new_test3[1][max_val])):\n",
    "    new_test3[1][max_val] += 1\n",
    "    if logreg_ovr.predict(new_test3)[1] == 4:\n",
    "        break\n",
    "\n",
    "print(new_test3[0][max_val])\n",
    "\n",
    "print(new_test3[1][max_val])\n",
    "\n",
    "\n",
    "new_test3[0]\n",
    "print(f'new pred 1: {logreg_ovr.predict(new_test3)[0]}')\n",
    "print(f'new pred 2: {logreg_ovr.predict(new_test3)[1]}')"
   ]
  },
  {
   "cell_type": "code",
   "execution_count": 48,
   "metadata": {},
   "outputs": [
    {
     "data": {
      "text/plain": [
       "<matplotlib.patches.Rectangle at 0x7f9e2824beb0>"
      ]
     },
     "execution_count": 48,
     "metadata": {},
     "output_type": "execute_result"
    },
    {
     "data": {
      "image/png": "[encoded data removed]",
      "text/plain": [
       "<Figure size 200x200 with 1 Axes>"
      ]
     },
     "metadata": {},
     "output_type": "display_data"
    },
    {
     "data": {
      "image/png": "[encoded data removed]",
      "text/plain": [
       "<Figure size 200x200 with 1 Axes>"
      ]
     },
     "metadata": {},
     "output_type": "display_data"
    }
   ],
   "source": [
    "plt.figure(figsize = (2,2))\n",
    "plt.imshow(new_test3[0].reshape(8,8),cmap='Greys')\n",
    "plt.gca().add_patch(plt.Rectangle([0.5, 4.5], 1, 1, color = 'none', ec = 'C1', linewidth = 2 ))\n",
    "\n",
    "plt.figure(figsize = (2,2))\n",
    "plt.imshow(new_test3[1].reshape(8,8),cmap='Greys')\n",
    "plt.gca().add_patch(plt.Rectangle([0.5, 4.5], 1, 1, color = 'none', ec = 'C1', linewidth = 2 ))"
   ]
  },
  {
   "cell_type": "markdown",
   "metadata": {
    "problem": "2B"
   },
   "source": [
    "ii) Find (at least one) single pixel manipulation of each of the first two images that change the predictions from 9 to 8.  Visualize the images, indicating the location of the altered pixel in each."
   ]
  },
  {
   "cell_type": "code",
   "execution_count": 49,
   "metadata": {},
   "outputs": [
    {
     "name": "stdout",
     "output_type": "stream",
     "text": [
      "8\n",
      "38\n"
     ]
    }
   ],
   "source": [
    "max_val = np.argwhere(logreg_ovr.coef_[8] == logreg_ovr.coef_[8].max())[0][0]\n",
    "print(max_val)\n",
    "min_val = np.argwhere(logreg_ovr.coef_[8] == logreg_ovr.coef_[8].min())[0][0]\n",
    "print(min_val)"
   ]
  },
  {
   "cell_type": "code",
   "execution_count": 50,
   "metadata": {},
   "outputs": [
    {
     "data": {
      "text/plain": [
       "0.0"
      ]
     },
     "execution_count": 50,
     "metadata": {},
     "output_type": "execute_result"
    }
   ],
   "source": [
    "new_test3 = np.copy(test3)\n",
    "new_test3[0][max_val]"
   ]
  },
  {
   "cell_type": "code",
   "execution_count": 51,
   "metadata": {},
   "outputs": [
    {
     "name": "stdout",
     "output_type": "stream",
     "text": [
      "16.0\n",
      "16.0\n",
      "new pred 1: 8\n",
      "new pred 2: 8\n"
     ]
    }
   ],
   "source": [
    "for i in range(16 - int(new_test3[0][max_val])):\n",
    "    new_test3[0][max_val] += 1\n",
    "    if logreg_ovr.predict(new_test3)[0] == 4:\n",
    "        # print(new_test3[0][max_val])\n",
    "        # print(i+1)\n",
    "        break\n",
    "        \n",
    "for i in range(16 - int(new_test3[1][max_val])):\n",
    "    new_test3[1][max_val] += 1\n",
    "    if logreg_ovr.predict(new_test3)[1] == 4:\n",
    "        break\n",
    "\n",
    "print(new_test3[0][max_val])\n",
    "\n",
    "print(new_test3[1][max_val])\n",
    "\n",
    "\n",
    "new_test3[0]\n",
    "print(f'new pred 1: {logreg_ovr.predict(new_test3)[0]}')\n",
    "print(f'new pred 2: {logreg_ovr.predict(new_test3)[1]}')"
   ]
  },
  {
   "cell_type": "code",
   "execution_count": 52,
   "metadata": {},
   "outputs": [
    {
     "data": {
      "text/plain": [
       "<matplotlib.patches.Rectangle at 0x7f9e4aeb0be0>"
      ]
     },
     "execution_count": 52,
     "metadata": {},
     "output_type": "execute_result"
    },
    {
     "data": {
      "image/png": "[encoded data removed]",
      "text/plain": [
       "<Figure size 200x200 with 1 Axes>"
      ]
     },
     "metadata": {},
     "output_type": "display_data"
    },
    {
     "data": {
      "image/png": "[encoded data removed]",
      "text/plain": [
       "<Figure size 200x200 with 1 Axes>"
      ]
     },
     "metadata": {},
     "output_type": "display_data"
    }
   ],
   "source": [
    "plt.figure(figsize = (2,2))\n",
    "plt.imshow(new_test3[0].reshape(8,8),cmap='Greys')\n",
    "plt.gca().add_patch(plt.Rectangle([-.5, .5], 1, 1, color = 'none', ec = 'C1', linewidth = 2 ))\n",
    "\n",
    "plt.figure(figsize = (2,2))\n",
    "plt.imshow(new_test3[1].reshape(8,8),cmap='Greys')\n",
    "plt.gca().add_patch(plt.Rectangle([-.5, .5], 1, 1, color = 'none', ec = 'C1', linewidth = 2 ))"
   ]
  },
  {
   "cell_type": "markdown",
   "metadata": {
    "problem": "2B"
   },
   "source": [
    "iii) It turns out that there are six distinct single pixel manipulations that correct the prediction of the third image from 8 to 3. Three are relatively easy to find using the methodology described above. Find three distinct pixel manipulations and visualize as in part i)"
   ]
  },
  {
   "cell_type": "code",
   "execution_count": 53,
   "metadata": {},
   "outputs": [
    {
     "data": {
      "text/plain": [
       "array([-1.34080722, -0.9268312 ,  1.02636483])"
      ]
     },
     "execution_count": 53,
     "metadata": {},
     "output_type": "execute_result"
    }
   ],
   "source": [
    "new_test3 = np.copy(test3)\n",
    "sorted_coef = np.sort(logreg_ovr.coef_[3])\n",
    "highest_vals = sorted_coef[[0,1,-1]]\n",
    "highest_vals"
   ]
  },
  {
   "cell_type": "code",
   "execution_count": 54,
   "metadata": {},
   "outputs": [],
   "source": [
    "neg1_val = np.argwhere(logreg_ovr.coef_[3] == highest_vals[0])[0][0]\n",
    "neg2_val = np.argwhere(logreg_ovr.coef_[3] == highest_vals[1])[0][0]\n",
    "pos1_val = np.argwhere(logreg_ovr.coef_[3] == highest_vals[2])[0][0]\n",
    "\n",
    "vals = neg1_val, neg2_val, pos1_val"
   ]
  },
  {
   "cell_type": "code",
   "execution_count": 55,
   "metadata": {},
   "outputs": [
    {
     "name": "stdout",
     "output_type": "stream",
     "text": [
      "new pred: 3\n",
      "K: 5.0\n",
      "j:  5\n",
      "new pred: 3\n",
      "K: 2.0\n",
      "j:  6\n",
      "new pred: 3\n",
      "K: 16.0\n",
      "j:  5\n"
     ]
    },
    {
     "data": {
      "image/png": "[encoded data removed]",
      "text/plain": [
       "<Figure size 200x200 with 1 Axes>"
      ]
     },
     "metadata": {},
     "output_type": "display_data"
    },
    {
     "data": {
      "image/png": "[encoded data removed]",
      "text/plain": [
       "<Figure size 200x200 with 1 Axes>"
      ]
     },
     "metadata": {},
     "output_type": "display_data"
    },
    {
     "data": {
      "image/png": "[encoded data removed]",
      "text/plain": [
       "<Figure size 200x200 with 1 Axes>"
      ]
     },
     "metadata": {},
     "output_type": "display_data"
    }
   ],
   "source": [
    "for i,k in zip(highest_vals, vals):\n",
    "    if i > 0:\n",
    "        for j in range(16):\n",
    "            new_test3[2][k] += 1\n",
    "            if logreg_ovr.predict(new_test3)[2] == 3:\n",
    "                print(f'new pred: {logreg_ovr.predict(new_test3)[2]}')\n",
    "                print(f'K: {new_test3[2][k]}')\n",
    "                print(f'j:  {j}')\n",
    "                break\n",
    "    else:\n",
    "        for j in range(16):\n",
    "            new_test3[2][k] -= 1\n",
    "            if logreg_ovr.predict(new_test3)[2] == 3:\n",
    "                print(f'new pred: {logreg_ovr.predict(new_test3)[2]}')\n",
    "                print(f'K: {new_test3[2][k]}')\n",
    "                print(f'j:  {j}')\n",
    "                break\n",
    "    plt.figure(figsize = (2,2))\n",
    "    plt.imshow(new_test3[2].reshape(8,8),cmap='Greys')\n",
    "    plt.gca().add_patch(plt.Rectangle([(k%8-.5), (k//8 - .5)], 1, 1, color = 'none', ec = 'C1', linewidth = 2 ))\n",
    "    \n",
    "    new_test3 = np.copy(test3)"
   ]
  },
  {
   "cell_type": "markdown",
   "metadata": {
    "problem": "2B"
   },
   "source": [
    "iv) [Bonus] Find the other three, i.e., find all six of the single pixel manipulations that will correct the prediction of the third image from 8 to 3, and visualize."
   ]
  },
  {
   "cell_type": "markdown",
   "metadata": {
    "problem": "2C"
   },
   "source": [
    "**C.** Now let's check how those probabilities are calculated. `logreg_ovr.predict_proba([X_test[43]])` gives the probabilities that the first test image is each of the ten digits (as indicated above, the highest is for 9, which does not give correctly the labelled value `y_test[43]` for this image).  Which three digits have the highest probability for this image?\n",
    "\n",
    "Use `logreg_ovr.coef_` and `logreg_ovr.intercept_` to calculate the values $x_i = \\vec w_i \\cdot \\vec f + \\vec b_i$ (where the 64 $\\vec f$ values are given by `X_test[43]`), then plug them into the (binomial) logistic function $q(i) = 1/(1+\\exp(-x_i))$. Finally, calculate the probabilities $p(i) = q(i) / \\sum_{j=0}^9 q(j)$. These should agree with the values given by `logreg_ovr.predict_proba([X_test[43]])`."
   ]
  },
  {
   "cell_type": "code",
   "execution_count": 56,
   "metadata": {},
   "outputs": [
    {
     "name": "stdout",
     "output_type": "stream",
     "text": [
      "Digits with highest probability for this image:\n",
      "4\n",
      "8\n",
      "9\n"
     ]
    }
   ],
   "source": [
    "x = np.sort(logreg_ovr.predict_proba([X_test[43]]))[0][-3:]\n",
    "print(\"Digits with highest probability for this image:\")\n",
    "for i in x:\n",
    "    print(np.argwhere(logreg_ovr.predict_proba([X_test[43]]) == i)[0][1])"
   ]
  },
  {
   "cell_type": "code",
   "execution_count": 57,
   "metadata": {},
   "outputs": [
    {
     "data": {
      "text/plain": [
       "array([-24.89720462, -21.68270661, -18.61788454, -37.56284284,\n",
       "         1.0760998 , -18.51607256, -23.89589636, -15.85514547,\n",
       "         3.03679062,   4.85472504])"
      ]
     },
     "execution_count": 57,
     "metadata": {},
     "output_type": "execute_result"
    }
   ],
   "source": [
    "x_vals = logreg_ovr.coef_ @  X_test[43] + logreg_ovr.intercept_\n",
    "x_vals"
   ]
  },
  {
   "cell_type": "code",
   "execution_count": 58,
   "metadata": {},
   "outputs": [
    {
     "name": "stdout",
     "output_type": "stream",
     "text": [
      "[1.539151674009207e-11, 3.831070714115269e-10, 8.210232908342987e-09, 4.8603173876106545e-17, 0.7457551981890213, 9.090166878017359e-09, 4.189325167347363e-11, 1.3007617403136415e-07, 0.9542088018044385, 0.9922687623459171]\n"
     ]
    }
   ],
   "source": [
    "logit_vals = []\n",
    "for i in x_vals:\n",
    "    logit_vals.append(logit(i))\n",
    "print(logit_vals)"
   ]
  },
  {
   "cell_type": "code",
   "execution_count": 59,
   "metadata": {},
   "outputs": [
    {
     "name": "stdout",
     "output_type": "stream",
     "text": [
      "[[ True  True  True  True  True  True  True  True  True  True]]\n"
     ]
    }
   ],
   "source": [
    "probs = []\n",
    "for qi in logit_vals:\n",
    "    pi = qi / np.sum(logit_vals) \n",
    "    probs.append(pi)\n",
    "\n",
    "print(probs == logreg_ovr.predict_proba([X_test[43]]))"
   ]
  },
  {
   "cell_type": "code",
   "execution_count": 60,
   "metadata": {},
   "outputs": [
    {
     "data": {
      "image/png": "[encoded data removed]",
      "text/plain": [
       "<Figure size 200x200 with 1 Axes>"
      ]
     },
     "metadata": {},
     "output_type": "display_data"
    }
   ],
   "source": [
    "# Added note, one way to highlight a pixel is as follows:\n",
    "plt.figure(figsize=(2,2))\n",
    "plt.imshow(np.random.randint(0, 17, (8,8)), cmap='Greys', aspect=1, interpolation='none') #random pixels\n",
    "plt.gca().add_patch(plt.Rectangle((5.5, 2.5), 1, 1, color='none', ec='C1', linewidth=2));"
   ]
  },
  {
   "cell_type": "code",
   "execution_count": null,
   "metadata": {},
   "outputs": [],
   "source": []
  }
 ],
 "metadata": {
  "kernelspec": {
   "display_name": "Python 3 (ipykernel)",
   "language": "python",
   "name": "python3"
  },
  "language_info": {
   "codemirror_mode": {
    "name": "ipython",
    "version": 3
   },
   "file_extension": ".py",
   "mimetype": "text/x-python",
   "name": "python",
   "nbconvert_exporter": "python",
   "pygments_lexer": "ipython3",
   "version": "3.8.16"
  }
 },
 "nbformat": 4,
 "nbformat_minor": 4
}
