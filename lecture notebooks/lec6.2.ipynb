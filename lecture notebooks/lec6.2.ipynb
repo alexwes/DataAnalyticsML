{
 "cells": [
  {
   "cell_type": "markdown",
   "metadata": {},
   "source": [
    "# lec6.2, 9 Feb 2023"
   ]
  },
  {
   "cell_type": "code",
   "execution_count": 1,
   "metadata": {},
   "outputs": [],
   "source": [
    "#numpy stuff\n",
    "import numpy as np\n",
    "%matplotlib inline\n",
    "import matplotlib.pyplot as plt"
   ]
  },
  {
   "cell_type": "markdown",
   "metadata": {},
   "source": [
    "A recommender system motivation for dot products in linear algebra.\n",
    "\n",
    "Imagine users and movies characterized by three integer features ranging from -3 to 3"
   ]
  },
  {
   "cell_type": "code",
   "execution_count": 2,
   "metadata": {},
   "outputs": [
    {
     "data": {
      "text/plain": [
       "(array([ 3, -3, -2]), array([1, 2, 1]))"
      ]
     },
     "execution_count": 2,
     "metadata": {},
     "output_type": "execute_result"
    }
   ],
   "source": [
    "user0 = np.random.randint(-3,4,3)\n",
    "movie0 = np.random.randint(-3,4,3)\n",
    "\n",
    "user0, movie0"
   ]
  },
  {
   "cell_type": "markdown",
   "metadata": {},
   "source": [
    "The features could correspond to the predilection of the user for, say, romance, comedy, and action; and the corresponding feature for the movie could be some measure of how much of that feature it contains. So a user that is neutral about romance, loves comedy, and hates action might be characterized by (0, 3, -3); and an action movie with some amount of romance and comedy might be characterized by (1, 1, 3). In this naive picture, the extent to which a user might like a movie is given by multiplying the associated weights and summing, providing the largest positive contribution when a user strongly likes a feature that the movie contains a lot of (or doesn't like a feature that the movie doesn't contain)."
   ]
  },
  {
   "cell_type": "code",
   "execution_count": 3,
   "metadata": {},
   "outputs": [
    {
     "data": {
      "text/plain": [
       "-5"
      ]
     },
     "execution_count": 3,
     "metadata": {},
     "output_type": "execute_result"
    }
   ],
   "source": [
    "user0[0]*movie0[0] + user0[1]*movie0[1] + user0[2]*movie0[2]"
   ]
  },
  {
   "cell_type": "code",
   "execution_count": 4,
   "metadata": {},
   "outputs": [
    {
     "data": {
      "text/plain": [
       "-5"
      ]
     },
     "execution_count": 4,
     "metadata": {},
     "output_type": "execute_result"
    }
   ],
   "source": [
    "#or equivalently\n",
    "s=0\n",
    "for i in range(3):\n",
    "    s+= user0[i]*movie0[i]\n",
    "s"
   ]
  },
  {
   "cell_type": "markdown",
   "metadata": {},
   "source": [
    "In linear algebra, these arrays of numbers are called *vectors*,<br>\n",
    "and the operation of multiplying the corresponding weights and taking the sum\n",
    "is called the *dot product*.<br>\n",
    "It is supported as a method for numpy arrays:"
   ]
  },
  {
   "cell_type": "code",
   "execution_count": 5,
   "metadata": {},
   "outputs": [
    {
     "data": {
      "text/plain": [
       "-5"
      ]
     },
     "execution_count": 5,
     "metadata": {},
     "output_type": "execute_result"
    }
   ],
   "source": [
    "user0 @ movie0"
   ]
  },
  {
   "cell_type": "code",
   "execution_count": 6,
   "metadata": {},
   "outputs": [
    {
     "data": {
      "text/plain": [
       "array([[ 2,  0, -1],\n",
       "       [-3,  3,  0],\n",
       "       [-1, -3,  2],\n",
       "       [ 2,  1, -2],\n",
       "       [ 2, -1, -3],\n",
       "       [ 0, -1,  2],\n",
       "       [-3,  0,  2],\n",
       "       [-2, -2, -1],\n",
       "       [-3, -1,  0],\n",
       "       [ 3,  3, -2]])"
      ]
     },
     "execution_count": 6,
     "metadata": {},
     "output_type": "execute_result"
    }
   ],
   "source": [
    "#now consider 10 such users\n",
    "users = np.random.randint(-3,4,(10,3))\n",
    "users"
   ]
  },
  {
   "cell_type": "code",
   "execution_count": 7,
   "metadata": {},
   "outputs": [
    {
     "name": "stdout",
     "output_type": "stream",
     "text": [
      "user features  affinity score with movie [1 2 1]\n",
      "[ 2  0 -1] \t 1\n",
      "[-3  3  0] \t 3\n",
      "[-1 -3  2] \t -5\n",
      "[ 2  1 -2] \t 2\n",
      "[ 2 -1 -3] \t -3\n",
      "[ 0 -1  2] \t 0\n",
      "[-3  0  2] \t -1\n",
      "[-2 -2 -1] \t -7\n",
      "[-3 -1  0] \t -5\n",
      "[ 3  3 -2] \t 7\n"
     ]
    }
   ],
   "source": [
    "#and see how much each such user would be predicted to like movie0\n",
    "print ('user features ', 'affinity score with movie', movie0)\n",
    "for user in users: print (user, '\\t', user.dot(movie0))"
   ]
  },
  {
   "cell_type": "code",
   "execution_count": 8,
   "metadata": {},
   "outputs": [
    {
     "data": {
      "text/plain": [
       "array([ 1,  3, -5,  2, -3,  0, -1, -7, -5,  7])"
      ]
     },
     "execution_count": 8,
     "metadata": {},
     "output_type": "execute_result"
    }
   ],
   "source": [
    "#these scores can be calculated with a single dot product\n",
    "# of the list of all ten 10 users with the movie\n",
    "users @ movie0"
   ]
  },
  {
   "cell_type": "code",
   "execution_count": 9,
   "metadata": {},
   "outputs": [
    {
     "data": {
      "text/plain": [
       "array([[ 2,  3, -2],\n",
       "       [-3, -2,  2],\n",
       "       [ 2,  3,  1],\n",
       "       [-1,  1,  0],\n",
       "       [-1,  3, -3]])"
      ]
     },
     "execution_count": 9,
     "metadata": {},
     "output_type": "execute_result"
    }
   ],
   "source": [
    "#now consider a list of 5 movies:\n",
    "movies = np.random.randint(-3,4,(5,3))\n",
    "movies"
   ]
  },
  {
   "cell_type": "code",
   "execution_count": 10,
   "metadata": {},
   "outputs": [
    {
     "name": "stdout",
     "output_type": "stream",
     "text": [
      "[-3  3  0] . [2 3 1] = 3\n"
     ]
    }
   ],
   "source": [
    "#in this case, the affinity of the i'th user for the j'th movie, say\n",
    "i=1\n",
    "j=2\n",
    "# is given by\n",
    "print (users[i], '.', movies[j], '=', users[i] @ movies[j])"
   ]
  },
  {
   "cell_type": "code",
   "execution_count": 11,
   "metadata": {},
   "outputs": [
    {
     "name": "stdout",
     "output_type": "stream",
     "text": [
      "    6   -8    3   -2    1\n",
      "    3    3    3    6   12\n",
      "  -15   13   -9   -2  -14\n",
      "   11  -12    5   -1    7\n",
      "    7  -10   -2   -3    4\n",
      "   -7    6   -1   -1   -9\n",
      "  -10   13   -4    3   -3\n",
      "   -8    8  -11    0   -1\n",
      "   -9   11   -9    2    0\n",
      "   19  -19   13    0   12\n"
     ]
    }
   ],
   "source": [
    "#we could calculate these one by one, where the i'th row corresponds\n",
    "# to the i'th user, and the j'th entry within that row corresponds to the\n",
    "# j'th movie:\n",
    "for i in range(10):\n",
    "    for j in range(5):\n",
    "        print ('{:5d}'.format(users[i] @ movies[j]), end='')\n",
    "    print()"
   ]
  },
  {
   "cell_type": "code",
   "execution_count": 12,
   "metadata": {},
   "outputs": [
    {
     "data": {
      "text/plain": [
       "array([[  6,  -8,   3,  -2,   1],\n",
       "       [  3,   3,   3,   6,  12],\n",
       "       [-15,  13,  -9,  -2, -14],\n",
       "       [ 11, -12,   5,  -1,   7],\n",
       "       [  7, -10,  -2,  -3,   4],\n",
       "       [ -7,   6,  -1,  -1,  -9],\n",
       "       [-10,  13,  -4,   3,  -3],\n",
       "       [ -8,   8, -11,   0,  -1],\n",
       "       [ -9,  11,  -9,   2,   0],\n",
       "       [ 19, -19,  13,   0,  12]])"
      ]
     },
     "execution_count": 12,
     "metadata": {},
     "output_type": "execute_result"
    }
   ],
   "source": [
    "#but this can also be calculated in a single step\n",
    "users @ movies.T "
   ]
  },
  {
   "cell_type": "code",
   "execution_count": 13,
   "metadata": {},
   "outputs": [
    {
     "data": {
      "text/plain": [
       "array([[ 2, -3,  2, -1, -1],\n",
       "       [ 3, -2,  3,  1,  3],\n",
       "       [-2,  2,  1,  0, -3]])"
      ]
     },
     "execution_count": 13,
     "metadata": {},
     "output_type": "execute_result"
    }
   ],
   "source": [
    "# the .T \"transposes\" the list of entries\n",
    "# from five rows of three elements to three rows of five elements\n",
    "#(compare with five cells above):\n",
    "movies.T"
   ]
  },
  {
   "cell_type": "markdown",
   "metadata": {},
   "source": [
    "In linear algebra, a list of $m$ rows of numbers and $n$ columns is called an $m\\times n$ matrix.\n",
    "\n",
    "`users.dot(movies.T)` above corresponds to the product of a $10\\times 3$ matrix with a $3\\times 5$ matrix.<br>\n",
    "(In equations $(UM^T)_{ij} = \\sum_{k=0,1,2} U_{ik}M_{jk}$, where the sum is over the three features in this case.)\n",
    "\n",
    "Here is another example. Note that any entry is given by the dot product (sum of products of weights) of the associated row of the first matrix at left with the corresponding column of the second matrix at above right."
   ]
  },
  {
   "cell_type": "markdown",
   "metadata": {},
   "source": [
    "$\\hskip1.4in\\pmatrix{\n",
    "\\ 3&2&1 &2&2\\cr\n",
    "\\ -2       &-3   &-2 &0      &0\\cr\n",
    "\\ 2       &3    &0  &-3     &-3\\cr}$<br>\n",
    "$\\pmatrix{3&0&3\\cr\n",
    "3&3&-1\\cr\n",
    "2&0&-3\\cr\n",
    "3&2&-3\\cr\n",
    "0&-1&0\\cr\n",
    "2&2&-1\\cr\n",
    "1&2&-3\\cr\n",
    "0&2&-3\\cr\n",
    "-1&2&-3\\cr\n",
    "-3&0&2\\cr}\\ $\n",
    "$\\pmatrix{15&15&3&-3&-3\\cr\n",
    "1&-6&-3&9&9\\cr\n",
    "0&-5&2&13&13\\cr\n",
    "-1&-9&-1&15&15\\cr\n",
    "2&3&2&0&0\\cr\n",
    "0&-5&-2&7&7\\cr\n",
    "-7&-13&-3&11&11\\cr\n",
    "-10&-15&-4&9&9\\cr\n",
    "-13&-17&-5&7&7\\cr\n",
    "-5&0&-3&-12&-12\\cr}$"
   ]
  },
  {
   "cell_type": "code",
   "execution_count": null,
   "metadata": {},
   "outputs": [],
   "source": []
  },
  {
   "cell_type": "markdown",
   "metadata": {},
   "source": [
    "The numpy built-in dot products are much more efficient than running loops in the python interpreter because they are precompiled functions. For example consider the dot product of two vectors (numpy arrays) of size 1 million entries:"
   ]
  },
  {
   "cell_type": "code",
   "execution_count": 14,
   "metadata": {},
   "outputs": [],
   "source": [
    "v = np.random.rand(1000000)\n",
    "w = np.random.rand(1000000)"
   ]
  },
  {
   "cell_type": "markdown",
   "metadata": {},
   "source": [
    "The two methods give the same result:"
   ]
  },
  {
   "cell_type": "code",
   "execution_count": 15,
   "metadata": {},
   "outputs": [
    {
     "name": "stdout",
     "output_type": "stream",
     "text": [
      "249846.34129215166 249846.34129214459\n"
     ]
    }
   ],
   "source": [
    "s=0\n",
    "for i in range(1000000):\n",
    "    s += v[i]*w[i]\n",
    "\n",
    "print (s, v @ w)"
   ]
  },
  {
   "cell_type": "markdown",
   "metadata": {},
   "source": [
    "But the numpy version is more than 400 times faster:"
   ]
  },
  {
   "cell_type": "code",
   "execution_count": 16,
   "metadata": {},
   "outputs": [
    {
     "name": "stdout",
     "output_type": "stream",
     "text": [
      "245 ms ± 3.3 ms per loop (mean ± std. dev. of 7 runs, 1 loop each)\n"
     ]
    }
   ],
   "source": [
    "%%timeit\n",
    "s=0\n",
    "for i in range(1000000):\n",
    "    s += v[i]*w[i]"
   ]
  },
  {
   "cell_type": "code",
   "execution_count": 17,
   "metadata": {},
   "outputs": [
    {
     "name": "stdout",
     "output_type": "stream",
     "text": [
      "403 µs ± 12.9 µs per loop (mean ± std. dev. of 7 runs, 1,000 loops each)\n"
     ]
    }
   ],
   "source": [
    "%%timeit\n",
    "s = v @ w"
   ]
  },
  {
   "cell_type": "markdown",
   "metadata": {},
   "source": [
    "(less than a millisecond compared to roughly 400 milliseconds)\n",
    "\n",
    "So a calculation that takes 10 seconds using the numpy constructs would take over an hour in a python interpreter loop."
   ]
  },
  {
   "cell_type": "code",
   "execution_count": 18,
   "metadata": {},
   "outputs": [],
   "source": [
    "#a non-numpy example\n",
    "k = np.random.randint(1000000, size=1000000)\n",
    "k = list(k)\n",
    "sk = set(k)"
   ]
  },
  {
   "cell_type": "code",
   "execution_count": 19,
   "metadata": {},
   "outputs": [
    {
     "name": "stdout",
     "output_type": "stream",
     "text": [
      "2.62 ms ± 8.52 µs per loop (mean ± std. dev. of 7 runs, 100 loops each)\n"
     ]
    }
   ],
   "source": [
    "%%timeit\n",
    "123456 in k\n",
    "#amount of time to test inclusion in a list (linear in size of list)"
   ]
  },
  {
   "cell_type": "code",
   "execution_count": 20,
   "metadata": {},
   "outputs": [
    {
     "name": "stdout",
     "output_type": "stream",
     "text": [
      "121 ns ± 1.17 ns per loop (mean ± std. dev. of 7 runs, 10,000,000 loops each)\n"
     ]
    }
   ],
   "source": [
    "%%timeit\n",
    "123456 in sk\n",
    "#amount of time to test inclusion in a set (now logarithmic in size)"
   ]
  }
 ],
 "metadata": {
  "kernelspec": {
   "display_name": "Python 3 (ipykernel)",
   "language": "python",
   "name": "python3"
  },
  "language_info": {
   "codemirror_mode": {
    "name": "ipython",
    "version": 3
   },
   "file_extension": ".py",
   "mimetype": "text/x-python",
   "name": "python",
   "nbconvert_exporter": "python",
   "pygments_lexer": "ipython3",
   "version": "3.8.16"
  }
 },
 "nbformat": 4,
 "nbformat_minor": 4
}
