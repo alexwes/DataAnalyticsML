{
 "cells": [
  {
   "cell_type": "markdown",
   "metadata": {},
   "source": [
    "example from\n",
    "http://scikit-learn.org/stable/modules/generated/sklearn.neighbors.KNeighborsClassifier.html"
   ]
  },
  {
   "cell_type": "code",
   "execution_count": 1,
   "metadata": {},
   "outputs": [],
   "source": [
    "import numpy as np\n",
    "import matplotlib.pyplot as plt\n",
    "%matplotlib inline"
   ]
  },
  {
   "cell_type": "code",
   "execution_count": 2,
   "metadata": {},
   "outputs": [],
   "source": [
    "from sklearn.neighbors import KNeighborsClassifier"
   ]
  },
  {
   "cell_type": "code",
   "execution_count": 3,
   "metadata": {},
   "outputs": [],
   "source": [
    "knn3 = KNeighborsClassifier(n_neighbors=3)"
   ]
  },
  {
   "cell_type": "code",
   "execution_count": 4,
   "metadata": {},
   "outputs": [],
   "source": [
    "X = [[0], [1], [2], [3]]\n",
    "y = [0, 0, 1, 1]"
   ]
  },
  {
   "cell_type": "code",
   "execution_count": 5,
   "metadata": {},
   "outputs": [
    {
     "data": {
      "image/png": "[encoded data removed]",
      "text/plain": [
       "<Figure size 600x200 with 1 Axes>"
      ]
     },
     "metadata": {},
     "output_type": "display_data"
    }
   ],
   "source": [
    "# 0 = blue, 1 = green\n",
    "plt.figure(figsize=(6,2))\n",
    "plt.scatter([0,1,2,3], [0,0,0,0], c=list('bbgg'), s=100)\n",
    "plt.plot([1.1,2.5], [0,0], '*k')\n",
    "plt.yticks([]);"
   ]
  },
  {
   "cell_type": "code",
   "execution_count": 6,
   "metadata": {},
   "outputs": [
    {
     "data": {
      "text/plain": [
       "KNeighborsClassifier(n_neighbors=3)"
      ]
     },
     "execution_count": 6,
     "metadata": {},
     "output_type": "execute_result"
    }
   ],
   "source": [
    "knn3.fit(X, y)"
   ]
  },
  {
   "cell_type": "code",
   "execution_count": 7,
   "metadata": {},
   "outputs": [
    {
     "data": {
      "text/plain": [
       "array([0, 1, 1])"
      ]
     },
     "execution_count": 7,
     "metadata": {},
     "output_type": "execute_result"
    }
   ],
   "source": [
    "knn3.predict([[1.1],[2.5], [1.5+1e-10]])"
   ]
  },
  {
   "cell_type": "code",
   "execution_count": 8,
   "metadata": {},
   "outputs": [],
   "source": [
    "# might need this to suppress warnings about scipy mode change to keepdims\n",
    "from warnings import simplefilter\n",
    "simplefilter(action='ignore', category=FutureWarning) # ignore future warnings"
   ]
  },
  {
   "cell_type": "code",
   "execution_count": 9,
   "metadata": {},
   "outputs": [
    {
     "data": {
      "text/plain": [
       "array([[0.66666667, 0.33333333],\n",
       "       [0.33333333, 0.66666667],\n",
       "       [0.33333333, 0.66666667]])"
      ]
     },
     "execution_count": 9,
     "metadata": {},
     "output_type": "execute_result"
    }
   ],
   "source": [
    "#soft classification, predict probabilities\n",
    "knn3.predict_proba([[1.1], [2.5], [1.5+1e-10]])"
   ]
  },
  {
   "cell_type": "code",
   "execution_count": null,
   "metadata": {},
   "outputs": [],
   "source": []
  },
  {
   "cell_type": "code",
   "execution_count": 10,
   "metadata": {},
   "outputs": [
    {
     "data": {
      "text/plain": [
       "KNeighborsClassifier(n_neighbors=3)"
      ]
     },
     "execution_count": 10,
     "metadata": {},
     "output_type": "execute_result"
    }
   ],
   "source": [
    "#2d data\n",
    "X = [[0,0], [1,0], [2,0], [3,1], [3,0]]\n",
    "y = [0, 0, 1, 1, 1]\n",
    "knn3.fit(X, y)"
   ]
  },
  {
   "cell_type": "code",
   "execution_count": 11,
   "metadata": {},
   "outputs": [
    {
     "data": {
      "image/png": "[encoded data removed]",
      "text/plain": [
       "<Figure size 600x400 with 1 Axes>"
      ]
     },
     "metadata": {},
     "output_type": "display_data"
    }
   ],
   "source": [
    "plt.figure(figsize=(6,4))\n",
    "plt.scatter(*zip(*X), c=list('bbggg'), s=100)\n",
    "plt.gca().set_aspect(1)\n",
    "plt.plot([1.5,2], [0,1], '*k')\n",
    "plt.yticks([0,1]);"
   ]
  },
  {
   "cell_type": "code",
   "execution_count": 12,
   "metadata": {},
   "outputs": [
    {
     "data": {
      "text/plain": [
       "array([1, 0])"
      ]
     },
     "execution_count": 12,
     "metadata": {},
     "output_type": "execute_result"
    }
   ],
   "source": [
    "knn3.predict([[2,1], [1.5,0]])"
   ]
  },
  {
   "cell_type": "code",
   "execution_count": 13,
   "metadata": {},
   "outputs": [
    {
     "data": {
      "text/plain": [
       "array([[0.        , 1.        ],\n",
       "       [0.66666667, 0.33333333]])"
      ]
     },
     "execution_count": 13,
     "metadata": {},
     "output_type": "execute_result"
    }
   ],
   "source": [
    "knn3.predict_proba([[2+1e-10,1], [1.5,0]])"
   ]
  },
  {
   "cell_type": "code",
   "execution_count": 14,
   "metadata": {},
   "outputs": [
    {
     "name": "stdout",
     "output_type": "stream",
     "text": [
      "closest 3 indices= [array([2, 3, 1]), array([1, 2, 0])]\n",
      "and their distances= [array([1.        , 1.        , 1.41421356]), array([0.5, 0.5, 1.5])]\n"
     ]
    }
   ],
   "source": [
    "distances, indices = knn3.kneighbors([[2,1], [1.5,0]])\n",
    "print ('closest 3 indices=', list(indices))\n",
    "print ('and their distances=', list(distances))"
   ]
  },
  {
   "cell_type": "code",
   "execution_count": null,
   "metadata": {},
   "outputs": [],
   "source": []
  },
  {
   "cell_type": "markdown",
   "metadata": {},
   "source": [
    "# 2 pixel data"
   ]
  },
  {
   "cell_type": "code",
   "execution_count": 15,
   "metadata": {},
   "outputs": [],
   "source": [
    "def show_data(X, cbar=False):\n",
    "    plt.imshow(X[None,:],cmap='Greys',vmin=0, vmax=15, aspect=1, interpolation='none')\n",
    "    if cbar: plt.colorbar(boundaries=range(16), shrink=.7, ticks=range(0,16,3))\n",
    "    plt.xticks([])\n",
    "    plt.yticks([])"
   ]
  },
  {
   "cell_type": "code",
   "execution_count": 16,
   "metadata": {},
   "outputs": [],
   "source": [
    "N=50\n",
    "X_data = np.random.randint(16,size=(N,2))\n",
    "y_data =np.zeros(N).astype(int)\n",
    "y_data[np.linalg.norm(X_data - [7.5,7.5], axis=1) < 5] = 1\n",
    "clrs = np.array(['C0','C1'])[y_data]"
   ]
  },
  {
   "cell_type": "code",
   "execution_count": 17,
   "metadata": {},
   "outputs": [
    {
     "data": {
      "text/plain": [
       "array([0, 7])"
      ]
     },
     "execution_count": 17,
     "metadata": {},
     "output_type": "execute_result"
    },
    {
     "data": {
      "image/png": "[encoded data removed]",
      "text/plain": [
       "<Figure size 300x200 with 2 Axes>"
      ]
     },
     "metadata": {},
     "output_type": "display_data"
    }
   ],
   "source": [
    "plt.figure(figsize=(3,2))\n",
    "show_data(X_data[0], True)\n",
    "X_data[0]"
   ]
  },
  {
   "cell_type": "code",
   "execution_count": 18,
   "metadata": {},
   "outputs": [
    {
     "data": {
      "image/png": "[encoded data removed]",
      "text/plain": [
       "<Figure size 500x500 with 1 Axes>"
      ]
     },
     "metadata": {},
     "output_type": "display_data"
    }
   ],
   "source": [
    "plt.figure(figsize=(5,5))\n",
    "plt.scatter(*X_data.T, alpha=.75, c=clrs)\n",
    "plt.xticks(range(0,16,3))\n",
    "plt.yticks(range(0,16,3))\n",
    "plt.xlim(-.5,15.5)\n",
    "plt.ylim(-.5,15.5);"
   ]
  },
  {
   "cell_type": "code",
   "execution_count": null,
   "metadata": {},
   "outputs": [],
   "source": [
    "plt.figure(figsize=(8,6))\n",
    "for i in range(16):\n",
    "    plt.subplot(4,4,i+1)\n",
    "    show_data(X_data[i])\n",
    "    plt.title(y_data[i], color=clrs[i])"
   ]
  },
  {
   "cell_type": "code",
   "execution_count": null,
   "metadata": {},
   "outputs": [],
   "source": [
    "knn3.fit(X_data, y_data)\n",
    "\n",
    "corners = [[i,j] for i in (0,15) for j in (0,15)]\n",
    "distances, indices = knn3.kneighbors(corners + [[7.5,7.5]])\n",
    "knn3.predict([[15,15],[0,0],[0,15],[15,0],[7.5,7.5]])"
   ]
  },
  {
   "cell_type": "code",
   "execution_count": null,
   "metadata": {},
   "outputs": [],
   "source": [
    "plt.figure(figsize=(5,5))\n",
    "    \n",
    "for j in range(4):\n",
    "  plt.plot(*corners[j],'.b')\n",
    "  for v in indices[j]:\n",
    "    plt.plot(*zip(corners[j], X_data[v]), 'b')\n",
    "plt.plot(7.5,7.5,'.m')\n",
    "for v in indices[4]: plt.plot(*zip([7.5,7.5], X_data[v]), 'm')\n",
    "\n",
    "\n",
    "sc = plt.scatter(*X_data.T, alpha=.75, c=clrs)\n",
    "plt.xticks(range(0,16,3))\n",
    "plt.yticks(range(0,16,3))\n",
    "plt.xlim(-.5,15.5)\n",
    "plt.ylim(-.5,15.5);"
   ]
  },
  {
   "cell_type": "code",
   "execution_count": null,
   "metadata": {},
   "outputs": [],
   "source": [
    "plt.figure(figsize=(8,6))\n",
    "for i,j in enumerate(indices.flatten()):\n",
    "    plt.subplot(5,3,i+1)\n",
    "    show_data(X_data[j])"
   ]
  },
  {
   "cell_type": "markdown",
   "metadata": {},
   "source": [
    "3 nearest neighbors to four corners and to center"
   ]
  },
  {
   "cell_type": "markdown",
   "metadata": {},
   "source": [
    "# 3 pixel data"
   ]
  },
  {
   "cell_type": "code",
   "execution_count": null,
   "metadata": {},
   "outputs": [],
   "source": [
    "#Now 3 pixel data\n",
    "N=300\n",
    "X_data = np.random.randint(16,size=(N,3))\n",
    "y_data =np.zeros(N).astype(int)\n",
    "y_data[np.linalg.norm(X_data - [7.5,7.5,7.5], axis=1)< 5] = 1\n",
    "clrs = np.array(['C0','C1'])[y_data]"
   ]
  },
  {
   "cell_type": "code",
   "execution_count": null,
   "metadata": {},
   "outputs": [],
   "source": [
    "plt.figure(figsize=(4,2))\n",
    "show_data(X_data[0], True)\n",
    "X_data[0]"
   ]
  },
  {
   "cell_type": "code",
   "execution_count": null,
   "metadata": {},
   "outputs": [],
   "source": [
    "from mpl_toolkits.mplot3d import Axes3D"
   ]
  },
  {
   "cell_type": "code",
   "execution_count": null,
   "metadata": {},
   "outputs": [],
   "source": [
    "X_data[:,0].max()"
   ]
  },
  {
   "cell_type": "code",
   "execution_count": null,
   "metadata": {},
   "outputs": [],
   "source": [
    "fig = plt.figure(figsize=(6,6))\n",
    "ax = fig.add_subplot(111, projection='3d')\n",
    "#ax = plt.figure().add_subplot(projection='3d')\n",
    "#ax = plt.axes(projection='3d')\n",
    "ax.scatter(*X_data.T, alpha=.75, c=clrs)\n",
    "ax.set_box_aspect((1,1,1));"
   ]
  },
  {
   "cell_type": "code",
   "execution_count": null,
   "metadata": {},
   "outputs": [],
   "source": [
    "plt.figure(figsize=(8,6))\n",
    "for i in range(16):\n",
    "    plt.subplot(4,4,i+1)\n",
    "    show_data(X_data[i])\n",
    "    plt.title(y_data[i], color=clrs[i])"
   ]
  },
  {
   "cell_type": "code",
   "execution_count": null,
   "metadata": {},
   "outputs": [],
   "source": [
    "knn5 = KNeighborsClassifier(n_neighbors=5)\n",
    "knn5.fit(X_data, y_data)\n",
    "corners = [[i,j,k] for i in (0,15) for j in (0,15) for k in (0,15)]\n",
    "distances, indices = knn5.kneighbors(corners + [[7.5,7.5,7.5]])\n",
    "knn5.predict(corners + [[7.5,7.5,7.5]])"
   ]
  },
  {
   "cell_type": "code",
   "execution_count": null,
   "metadata": {},
   "outputs": [],
   "source": [
    "plt.figure(figsize=(8,6))\n",
    "for i,j in enumerate(indices.flatten()):\n",
    "    plt.subplot(9,5,i+1)\n",
    "    show_data(X_data[j])"
   ]
  },
  {
   "cell_type": "markdown",
   "metadata": {},
   "source": [
    "5 nearest neighbors to eight corners and to center"
   ]
  },
  {
   "cell_type": "code",
   "execution_count": null,
   "metadata": {},
   "outputs": [],
   "source": [
    "%matplotlib tk"
   ]
  },
  {
   "cell_type": "code",
   "execution_count": null,
   "metadata": {},
   "outputs": [],
   "source": [
    "fig = plt.figure(figsize=(8,8))\n",
    "#ax = fig.add_subplot(111, projection='3d')\n",
    "ax = plt.axes(projection='3d')\n",
    "ax.azim=25\n",
    "ax.elev=25\n",
    "\n",
    "ax.scatter(*X_data.T, alpha=.75, c=clrs)\n",
    "\n",
    "for j in range(8):\n",
    "  ax.plot(*np.array(corners[j])[:,None],'.b')\n",
    "  for v in indices[j]:\n",
    "      ax.plot(*zip(corners[j], X_data[v]), 'b')\n",
    "ax.plot([7.5],[7.5],[7.5],'.m')\n",
    "for v in indices[8]: plt.plot(*zip([7.5,7.5,7.5], X_data[v]), 'm')\n",
    "    \n",
    "plt.xticks(range(0,16,3))\n",
    "plt.yticks(range(0,16,3))\n",
    "ax.set_zticks(range(0,16,3))\n",
    "ax.set_box_aspect((1,1,1));"
   ]
  },
  {
   "cell_type": "code",
   "execution_count": null,
   "metadata": {},
   "outputs": [],
   "source": []
  },
  {
   "cell_type": "code",
   "execution_count": null,
   "metadata": {},
   "outputs": [],
   "source": []
  },
  {
   "cell_type": "code",
   "execution_count": null,
   "metadata": {},
   "outputs": [],
   "source": []
  }
 ],
 "metadata": {
  "kernelspec": {
   "display_name": "Python 3 (ipykernel)",
   "language": "python",
   "name": "python3"
  },
  "language_info": {
   "codemirror_mode": {
    "name": "ipython",
    "version": 3
   },
   "file_extension": ".py",
   "mimetype": "text/x-python",
   "name": "python",
   "nbconvert_exporter": "python",
   "pygments_lexer": "ipython3",
   "version": "3.8.16"
  }
 },
 "nbformat": 4,
 "nbformat_minor": 4
}
