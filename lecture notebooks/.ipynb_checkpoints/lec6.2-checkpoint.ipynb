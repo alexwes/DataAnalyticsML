{
 "cells": [
  {
   "cell_type": "markdown",
   "metadata": {},
   "source": [
    "# lec6.2, 9 Feb 2023"
   ]
  },
  {
   "cell_type": "code",
   "execution_count": 1,
   "metadata": {},
   "outputs": [],
   "source": [
    "#numpy stuff\n",
    "import numpy as np\n",
    "%matplotlib inline\n",
    "import matplotlib.pyplot as plt"
   ]
  },
  {
   "cell_type": "markdown",
   "metadata": {},
   "source": [
    "A recommender system motivation for dot products in linear algebra.\n",
    "\n",
    "Imagine users and movies characterized by three integer features ranging from -3 to 3"
   ]
  },
  {
   "cell_type": "code",
   "execution_count": null,
   "metadata": {},
   "outputs": [],
   "source": [
    "user0 = np.random.randint(-3,4,3)\n",
    "movie0 = np.random.randint(-3,4,3)\n",
    "\n",
    "user0, movie0"
   ]
  },
  {
   "cell_type": "markdown",
   "metadata": {},
   "source": [
    "The features could correspond to the predilection of the user for, say, romance, comedy, and action; and the corresponding feature for the movie could be some measure of how much of that feature it contains. So a user that is neutral about romance, loves comedy, and hates action might be characterized by (0, 3, -3); and an action movie with some amount of romance and comedy might be characterized by (1, 1, 3). In this naive picture, the extent to which a user might like a movie is given by multiplying the associated weights and summing, providing the largest positive contribution when a user strongly likes a feature that the movie contains a lot of (or doesn't like a feature that the movie doesn't contain)."
   ]
  },
  {
   "cell_type": "code",
   "execution_count": null,
   "metadata": {},
   "outputs": [],
   "source": [
    "user0[0]*movie0[0] + user0[1]*movie0[1] + user0[2]*movie0[2]"
   ]
  },
  {
   "cell_type": "code",
   "execution_count": null,
   "metadata": {},
   "outputs": [],
   "source": [
    "#or equivalently\n",
    "s=0\n",
    "for i in range(3):\n",
    "    s+= user0[i]*movie0[i]\n",
    "s"
   ]
  },
  {
   "cell_type": "markdown",
   "metadata": {},
   "source": [
    "In linear algebra, these arrays of numbers are called *vectors*,<br>\n",
    "and the operation of multiplying the corresponding weights and taking the sum\n",
    "is called the *dot product*.<br>\n",
    "It is supported as a method for numpy arrays:"
   ]
  },
  {
   "cell_type": "code",
   "execution_count": null,
   "metadata": {},
   "outputs": [],
   "source": [
    "user0 @ movie0"
   ]
  },
  {
   "cell_type": "code",
   "execution_count": null,
   "metadata": {},
   "outputs": [],
   "source": [
    "#now consider 10 such users\n",
    "users = np.random.randint(-3,4,(10,3))\n",
    "users"
   ]
  },
  {
   "cell_type": "code",
   "execution_count": null,
   "metadata": {},
   "outputs": [],
   "source": [
    "#and see how much each such user would be predicted to like movie0\n",
    "print ('user features ', 'affinity score with movie', movie0)\n",
    "for user in users: print (user, '\\t', user.dot(movie0))"
   ]
  },
  {
   "cell_type": "code",
   "execution_count": null,
   "metadata": {},
   "outputs": [],
   "source": [
    "#these scores can be calculated with a single dot product\n",
    "# of the list of all ten 10 users with the movie\n",
    "users @ movie0"
   ]
  },
  {
   "cell_type": "code",
   "execution_count": null,
   "metadata": {},
   "outputs": [],
   "source": [
    "#now consider a list of 5 movies:\n",
    "movies = np.random.randint(-3,4,(5,3))\n",
    "movies"
   ]
  },
  {
   "cell_type": "code",
   "execution_count": null,
   "metadata": {},
   "outputs": [],
   "source": [
    "#in this case, the affinity of the i'th user for the j'th movie, say\n",
    "i=1\n",
    "j=2\n",
    "# is given by\n",
    "print (users[i], '.', movies[j], '=', users[i] @ movies[j])"
   ]
  },
  {
   "cell_type": "code",
   "execution_count": null,
   "metadata": {},
   "outputs": [],
   "source": [
    "#we could calculate these one by one, where the i'th row corresponds\n",
    "# to the i'th user, and the j'th entry within that row corresponds to the\n",
    "# j'th movie:\n",
    "for i in range(10):\n",
    "    for j in range(5):\n",
    "        print ('{:5d}'.format(users[i] @ movies[j]), end='')\n",
    "    print()"
   ]
  },
  {
   "cell_type": "code",
   "execution_count": null,
   "metadata": {},
   "outputs": [],
   "source": [
    "#but this can also be calculated in a single step\n",
    "users @ movies.T "
   ]
  },
  {
   "cell_type": "code",
   "execution_count": null,
   "metadata": {},
   "outputs": [],
   "source": [
    "# the .T \"transposes\" the list of entries\n",
    "# from five rows of three elements to three rows of five elements\n",
    "#(compare with five cells above):\n",
    "movies.T"
   ]
  },
  {
   "cell_type": "markdown",
   "metadata": {
    "collapsed": true
   },
   "source": [
    "In linear algebra, a list of $m$ rows of numbers and $n$ columns is called an $m\\times n$ matrix.\n",
    "\n",
    "`users.dot(movies.T)` above corresponds to the product of a $10\\times 3$ matrix with a $3\\times 5$ matrix.<br>\n",
    "(In equations $(UM^T)_{ij} = \\sum_{k=0,1,2} U_{ik}M_{jk}$, where the sum is over the three features in this case.)\n",
    "\n",
    "Here is another example. Note that any entry is given by the dot product (sum of products of weights) of the associated row of the first matrix at left with the corresponding column of the second matrix at above right."
   ]
  },
  {
   "cell_type": "markdown",
   "metadata": {},
   "source": [
    "$\\hskip1.4in\\pmatrix{\n",
    "\\ 3&2&1 &2&2\\cr\n",
    "\\ -2       &-3   &-2 &0      &0\\cr\n",
    "\\ 2       &3    &0  &-3     &-3\\cr}$<br>\n",
    "$\\pmatrix{3&0&3\\cr\n",
    "3&3&-1\\cr\n",
    "2&0&-3\\cr\n",
    "3&2&-3\\cr\n",
    "0&-1&0\\cr\n",
    "2&2&-1\\cr\n",
    "1&2&-3\\cr\n",
    "0&2&-3\\cr\n",
    "-1&2&-3\\cr\n",
    "-3&0&2\\cr}\\ $\n",
    "$\\pmatrix{15&15&3&-3&-3\\cr\n",
    "1&-6&-3&9&9\\cr\n",
    "0&-5&2&13&13\\cr\n",
    "-1&-9&-1&15&15\\cr\n",
    "2&3&2&0&0\\cr\n",
    "0&-5&-2&7&7\\cr\n",
    "-7&-13&-3&11&11\\cr\n",
    "-10&-15&-4&9&9\\cr\n",
    "-13&-17&-5&7&7\\cr\n",
    "-5&0&-3&-12&-12\\cr}$"
   ]
  },
  {
   "cell_type": "code",
   "execution_count": null,
   "metadata": {},
   "outputs": [],
   "source": []
  },
  {
   "cell_type": "markdown",
   "metadata": {
    "collapsed": true
   },
   "source": [
    "The numpy built-in dot products are much more efficient than running loops in the python interpreter because they are precompiled functions. For example consider the dot product of two vectors (numpy arrays) of size 1 million entries:"
   ]
  },
  {
   "cell_type": "code",
   "execution_count": null,
   "metadata": {},
   "outputs": [],
   "source": [
    "v = np.random.rand(1000000)\n",
    "w = np.random.rand(1000000)"
   ]
  },
  {
   "cell_type": "markdown",
   "metadata": {},
   "source": [
    "The two methods give the same result:"
   ]
  },
  {
   "cell_type": "code",
   "execution_count": null,
   "metadata": {},
   "outputs": [],
   "source": [
    "s=0\n",
    "for i in range(1000000):\n",
    "    s += v[i]*w[i]\n",
    "\n",
    "print (s, v @ w)"
   ]
  },
  {
   "cell_type": "markdown",
   "metadata": {},
   "source": [
    "But the numpy version is more than 400 times faster:"
   ]
  },
  {
   "cell_type": "code",
   "execution_count": null,
   "metadata": {},
   "outputs": [],
   "source": [
    "%%timeit\n",
    "s=0\n",
    "for i in range(1000000):\n",
    "    s += v[i]*w[i]"
   ]
  },
  {
   "cell_type": "code",
   "execution_count": null,
   "metadata": {},
   "outputs": [],
   "source": [
    "%%timeit\n",
    "s = v @ w"
   ]
  },
  {
   "cell_type": "markdown",
   "metadata": {
    "collapsed": true
   },
   "source": [
    "(less than a millisecond compared to roughly 400 milliseconds)\n",
    "\n",
    "So a calculation that takes 10 seconds using the numpy constructs would take over an hour in a python interpreter loop."
   ]
  },
  {
   "cell_type": "code",
   "execution_count": null,
   "metadata": {},
   "outputs": [],
   "source": [
    "#a non-numpy example\n",
    "k = np.random.randint(1000000, size=1000000)\n",
    "k = list(k)\n",
    "sk = set(k)"
   ]
  },
  {
   "cell_type": "code",
   "execution_count": null,
   "metadata": {},
   "outputs": [],
   "source": [
    "%%timeit\n",
    "123456 in k\n",
    "#amount of time to test inclusion in a list (linear in size of list)"
   ]
  },
  {
   "cell_type": "code",
   "execution_count": null,
   "metadata": {},
   "outputs": [],
   "source": [
    "%%timeit\n",
    "123456 in sk\n",
    "#amount of time to test inclusion in a set (now logarithmic in size)"
   ]
  },
  {
   "cell_type": "code",
   "execution_count": null,
   "metadata": {},
   "outputs": [],
   "source": []
  }
 ],
 "metadata": {
  "kernelspec": {
   "display_name": "Python 3 (ipykernel)",
   "language": "python",
   "name": "python3"
  },
  "language_info": {
   "codemirror_mode": {
    "name": "ipython",
    "version": 3
   },
   "file_extension": ".py",
   "mimetype": "text/x-python",
   "name": "python",
   "nbconvert_exporter": "python",
   "pygments_lexer": "ipython3",
   "version": "3.9.13"
  }
 },
 "nbformat": 4,
 "nbformat_minor": 2
}
