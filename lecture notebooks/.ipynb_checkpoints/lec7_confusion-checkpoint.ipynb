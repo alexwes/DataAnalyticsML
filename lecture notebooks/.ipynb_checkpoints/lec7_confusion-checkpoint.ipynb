{
 "cells": [
  {
   "cell_type": "markdown",
   "metadata": {},
   "source": [
    "## Confusion matrix (a.k.a. contingency table)."
   ]
  },
  {
   "cell_type": "code",
   "execution_count": 1,
   "metadata": {
    "collapsed": true
   },
   "outputs": [],
   "source": [
    "%matplotlib inline\n",
    "import re, matplotlib.pyplot as plt, numpy as np\n",
    "from collections import Counter, defaultdict\n",
    "from sklearn.naive_bayes import BernoulliNB"
   ]
  },
  {
   "cell_type": "code",
   "execution_count": 2,
   "metadata": {},
   "outputs": [
    {
     "name": "stdout",
     "output_type": "stream",
     "text": [
      "['astro-ph.GA', 'cond-mat.mes-hall', 'cs.CV', 'cs.HC', 'cs.LG', 'hep-ph', 'hep-th', 'math.AP', 'physics.app-ph', 'physics.comp-ph', 'q-bio.NC', 'quant-ph']\n"
     ]
    }
   ],
   "source": [
    "from ps1data import absdata\n",
    "print (sorted(absdata))"
   ]
  },
  {
   "cell_type": "code",
   "execution_count": 3,
   "metadata": {
    "collapsed": true
   },
   "outputs": [],
   "source": [
    "#def words(txt): return txt.lower().split()\n",
    "#regular expression works better to tokenize and strip punctuation,\n",
    "# see https://docs.python.org/3/library/re.html\n",
    "def words(txt): return re.findall(r\"['\\w]+\", txt.lower())"
   ]
  },
  {
   "cell_type": "code",
   "execution_count": 4,
   "metadata": {},
   "outputs": [],
   "source": [
    "classnames = ['cs.HC', 'cs.LG', 'cs.CV', 'q-bio.NC'] #just these four as in ps1"
   ]
  },
  {
   "cell_type": "code",
   "execution_count": 5,
   "metadata": {
    "collapsed": true
   },
   "outputs": [],
   "source": [
    "vocab = {subj: Counter() for subj in classnames}\n",
    "for subj in classnames:\n",
    "  for txt in absdata[subj][:900]:\n",
    "     for w in set(words(txt)): vocab[subj][w] += 1"
   ]
  },
  {
   "cell_type": "code",
   "execution_count": 6,
   "metadata": {},
   "outputs": [
    {
     "data": {
      "text/plain": [
       "19253"
      ]
     },
     "execution_count": 6,
     "metadata": {},
     "output_type": "execute_result"
    }
   ],
   "source": [
    "#make a combined total_vocab\n",
    "total_vocab = Counter()\n",
    "for subj in classnames: total_vocab += vocab[subj]\n",
    "len(total_vocab)"
   ]
  },
  {
   "cell_type": "code",
   "execution_count": 7,
   "metadata": {
    "collapsed": true
   },
   "outputs": [],
   "source": [
    "# take Nf most common terms as features\n",
    "# see what happens for 1000, probably won't do as well as full vocab\n",
    "Nf = 1000\n",
    "Nfvocab, Nfn = zip(*total_vocab.most_common(Nf))\n",
    "word_index = {w:k for k,w in enumerate(Nfvocab)} #assigns each word an index by rank\n",
    "set_vocab = set(Nfvocab)"
   ]
  },
  {
   "cell_type": "code",
   "execution_count": 8,
   "metadata": {
    "collapsed": true
   },
   "outputs": [],
   "source": [
    "def features(txt):\n",
    "    f = np.zeros(Nf)\n",
    "    for w in set(words(txt)) & set_vocab: f[word_index[w]] = 1\n",
    "    return f  #array of zeros and ones for whether or not feature words occur"
   ]
  },
  {
   "cell_type": "code",
   "execution_count": 9,
   "metadata": {
    "collapsed": true
   },
   "outputs": [],
   "source": [
    "X_test = []\n",
    "X_train = []\n",
    "for subj in classnames:\n",
    "    X_train += [features(txt) for txt in absdata[subj][:900]]\n",
    "    X_test += [features(txt) for txt in absdata[subj][900:]]\n",
    "    \n",
    "y_train = np.array([[i]*900 for i in range(4)]).flatten()\n",
    "y_test = np.array([[i]*100 for i in range(4)]).flatten()"
   ]
  },
  {
   "cell_type": "code",
   "execution_count": 10,
   "metadata": {},
   "outputs": [
    {
     "data": {
      "text/plain": [
       "0.85"
      ]
     },
     "execution_count": 10,
     "metadata": {},
     "output_type": "execute_result"
    }
   ],
   "source": [
    "clf = BernoulliNB(alpha=.5)\n",
    "clf.fit(X_train, y_train) #fit the training data\n",
    "clf.score(X_test, y_test)"
   ]
  },
  {
   "cell_type": "code",
   "execution_count": 11,
   "metadata": {
    "collapsed": true
   },
   "outputs": [],
   "source": [
    "from sklearn.metrics import classification_report, plot_confusion_matrix, confusion_matrix, ConfusionMatrixDisplay\n",
    "from sklearn.model_selection import RepeatedStratifiedKFold"
   ]
  },
  {
   "cell_type": "code",
   "execution_count": 12,
   "metadata": {},
   "outputs": [
    {
     "name": "stdout",
     "output_type": "stream",
     "text": [
      "              precision    recall  f1-score   support\n",
      "\n",
      "       cs.HC       0.90      0.88      0.89       100\n",
      "       cs.LG       0.76      0.81      0.78       100\n",
      "       cs.CV       0.80      0.79      0.79       100\n",
      "    q-bio.NC       0.96      0.92      0.94       100\n",
      "\n",
      "    accuracy                           0.85       400\n",
      "   macro avg       0.85      0.85      0.85       400\n",
      "weighted avg       0.85      0.85      0.85       400\n",
      "\n"
     ]
    }
   ],
   "source": [
    "print (classification_report(y_test, clf.predict(X_test), target_names=classnames))"
   ]
  },
  {
   "cell_type": "markdown",
   "metadata": {},
   "source": [
    "[Precision and recall](https://en.wikipedia.org/wiki/Precision_and_recall)\n",
    "\n",
    "\n",
    "Consider a given digit, say 4, and count the number of times the classifier correctly identifies items actually labelled as 4. This is called the number of \"true positives\".\n",
    "The possibilities are:\n",
    "\n",
    "$tp$ = true positives = labelled as 4, classifier (correctly) gets 4<br>\n",
    "$fn$ = false negatives = labelled as 4, classifier (incorrectly) get something else<br>\n",
    "$fp$ = false postives = not labelled as 4, classifier (incorrectly) gets 4<br>\n",
    "$tn$ = not labelled as 4, classifier (correctly) gets something else\n",
    "\n",
    "([Type_I_and_type_II_errors](https://en.wikipedia.org/wiki/Type_I_and_type_II_errors):\n",
    "\"In statistical hypothesis testing, a type I error is the rejection of a true null hypothesis (also known as a \"false positive\" finding or conclusion), while a type II error is the non-rejection of a false null hypothesis (also known as a \"false negative\" finding or conclusion).\")\n",
    "\n",
    "The *precision* for a class is the ratio of the number of items correctly classified as in that class, divided by the total number of items classified as in that class (i.e., including those incorrectly classified as in that class):\n",
    "\n",
    "$${\\rm Precision} = {tp\\over tp+fp}$$\n",
    "\n",
    "The *recall* for a class is the ratio of the number of items correctly classified as in that class, divided by the total number of items that should have been classified as in the class (i.e., including the ones incorrectly classified as not in that class):\n",
    "\n",
    "$${\\rm Recall} = {tp\\over tp+fn}$$\n",
    "\n",
    "A precision score of 1.0 for a class C means that every item classified as belonging to class C does indeed belong to class C (but says nothing about the number of items from class C that were not classified correctly).<br>\n",
    "A recall of 1.0 means that every item from class C was classified as belonging to class C (but says nothing about how many items from other classes were incorrectly also classified as belonging to class C).<br>\n",
    "Frequently, precision and recall have an inverse relationship, where precision for a class can be increased by classifying fewer items as in that class, at the expense of missing items that should have been classified as in the class, lowering recall, and vice versa. \n",
    "\n",
    "The precision is also related to what we called the *specificity*, with respect to the medical tests, since it measures the false positive rate; while the recall is related to the *sensitivity*, measuring the false negative rate.\n",
    "\n",
    "A combined measure of precision and recall is the *f1-score*, defined as their harmonic mean:\n",
    "\n",
    "$$f1 = 2 {\\rm precision\\cdot recall \\over precision + recall}$$\n",
    "\n",
    "Its highest value is 1 (perfect precision and recall) and lowest value is 0 (when either of them are zero).\n",
    "\n",
    "These notions are also encapsulated in the [Confusion matrix](https://en.wikipedia.org/wiki/Confusion_matrix) (a.k.a. contingency table), implemented in sklearn as [confusion_matrix()](https://scikit-learn.org/stable/modules/generated/sklearn.metrics.confusion_matrix.html).\n",
    "\n",
    "In the tables below, normalizing by the row sums (i.e., dividing each entry of the row by the sum of the row's entries), gives the recalls along the diagonal; and normalizing by the column sums (instead dividing each column by the column sums) gives the precision along the diagonal."
   ]
  },
  {
   "cell_type": "code",
   "execution_count": 13,
   "metadata": {},
   "outputs": [
    {
     "data": {
      "text/plain": [
       "array([[88,  5,  4,  3],\n",
       "       [ 3, 81, 16,  0],\n",
       "       [ 4, 16, 79,  1],\n",
       "       [ 3,  5,  0, 92]])"
      ]
     },
     "execution_count": 13,
     "metadata": {},
     "output_type": "execute_result"
    }
   ],
   "source": [
    "#cmat[i,j] = count of actual class i, predicted class j\n",
    "cmat = confusion_matrix(y_test, clf.predict(X_test))\n",
    "cmat"
   ]
  },
  {
   "cell_type": "markdown",
   "metadata": {},
   "source": [
    "We can use [ConfusionMatrixDisplay()](https://scikit-learn.org/stable/modules/generated/sklearn.metrics.ConfusionMatrixDisplay.html) to plot this matrix:"
   ]
  },
  {
   "cell_type": "code",
   "execution_count": 14,
   "metadata": {},
   "outputs": [
    {
     "data": {
      "image/png": "[encoded data removed]",
      "text/plain": [
       "<Figure size 432x432 with 2 Axes>"
      ]
     },
     "metadata": {},
     "output_type": "display_data"
    }
   ],
   "source": [
    "#we can use  ConfusionMatrixDisplay() to plot this matrix\n",
    "plt.figure(figsize=(6,6))\n",
    "ConfusionMatrixDisplay(cmat, display_labels=classnames).plot(ax=plt.gca(), xticks_rotation='vertical');"
   ]
  },
  {
   "cell_type": "markdown",
   "metadata": {},
   "source": [
    "Or even easier, use [plot_confusion_matrix()](https://scikit-learn.org/stable/modules/generated/sklearn.metrics.plot_confusion_matrix.html) in a single big step to see in detail which classes were confused:"
   ]
  },
  {
   "cell_type": "code",
   "execution_count": 15,
   "metadata": {},
   "outputs": [
    {
     "data": {
      "image/png": "[encoded data removed]",
      "text/plain": [
       "<Figure size 432x432 with 2 Axes>"
      ]
     },
     "metadata": {},
     "output_type": "display_data"
    }
   ],
   "source": [
    "plt.figure(figsize=(6,6))\n",
    "plot_confusion_matrix(clf, X_test, y_test, ax=plt.gca(), #ax= so that it uses the above figsize\n",
    "    display_labels=classnames, xticks_rotation='vertical');"
   ]
  },
  {
   "cell_type": "markdown",
   "metadata": {},
   "source": [
    "But now suppose we want not the confusion matrix for a single train/test split, but instead the average over ten train/test splits. The easiest way I saw was to use [`RepeatedStratifiedKFold()`](https://scikit-learn.org/stable/modules/generated/sklearn.model_selection.RepeatedStratifiedKFold.html) and use `confusion_matrix()` to calculate the successive matrices, then average (but maybe there's an easier way?):"
   ]
  },
  {
   "cell_type": "code",
   "execution_count": 16,
   "metadata": {
    "collapsed": true
   },
   "outputs": [],
   "source": [
    "X = np.array([features(txt) for subj in classnames for txt in absdata[subj]]) #all training data\n",
    "y = np.array([[i]*1000 for i in range(4)]).flatten() #all test data"
   ]
  },
  {
   "cell_type": "code",
   "execution_count": 17,
   "metadata": {},
   "outputs": [
    {
     "name": "stdout",
     "output_type": "stream",
     "text": [
      "0.855\n",
      "0.8675\n",
      "0.815\n",
      "0.8825\n",
      "0.88\n",
      "0.82\n",
      "0.855\n",
      "0.8625\n",
      "0.87\n",
      "0.8475\n"
     ]
    }
   ],
   "source": [
    "clf = BernoulliNB(alpha=.5)\n",
    "rskf = RepeatedStratifiedKFold(n_splits=10, n_repeats=1) #also ran n_repeats=20 in class\n",
    "cmat=np.zeros([4,4])\n",
    "\n",
    "for train_index, test_index in rskf.split(X, y):\n",
    "#    print(\"TRAIN:\", train_index, \"TEST:\", test_index) #indices of the split\n",
    "    X_train, X_test = X[train_index], X[test_index]\n",
    "    y_train, y_test = y[train_index], y[test_index]\n",
    "    clf.fit(X_train, y_train) #note that .fit() always reinitializes starts from scratch\n",
    "    print(clf.score(X_test, y_test)) #just to see the overall scores\n",
    "    cmat += confusion_matrix(y_test, clf.predict(X_test))"
   ]
  },
  {
   "cell_type": "code",
   "execution_count": 18,
   "metadata": {},
   "outputs": [
    {
     "data": {
      "text/plain": [
       "array([[89.1,  4.7,  3.4,  2.8],\n",
       "       [ 5.8, 80. , 11.7,  2.5],\n",
       "       [ 4.5, 10.8, 83.8,  0.9],\n",
       "       [ 7.1,  2.4,  1.2, 89.3]])"
      ]
     },
     "execution_count": 18,
     "metadata": {},
     "output_type": "execute_result"
    }
   ],
   "source": [
    "cmat /= 10 # to get mean of the ten splits\n",
    "cmat"
   ]
  },
  {
   "cell_type": "code",
   "execution_count": 19,
   "metadata": {},
   "outputs": [
    {
     "data": {
      "image/png": "[encoded data removed]",
      "text/plain": [
       "<Figure size 432x432 with 2 Axes>"
      ]
     },
     "metadata": {},
     "output_type": "display_data"
    }
   ],
   "source": [
    "plt.figure(figsize=(6,6))\n",
    "ConfusionMatrixDisplay(cmat, display_labels=classnames).plot(ax=plt.gca(),# cmap='Reds',\n",
    "                                xticks_rotation='vertical', values_format='.1f');"
   ]
  },
  {
   "cell_type": "code",
   "execution_count": null,
   "metadata": {
    "collapsed": true
   },
   "outputs": [],
   "source": []
  }
 ],
 "metadata": {
  "kernelspec": {
   "display_name": "Python 3",
   "language": "python",
   "name": "python3"
  },
  "language_info": {
   "codemirror_mode": {
    "name": "ipython",
    "version": 3
   },
   "file_extension": ".py",
   "mimetype": "text/x-python",
   "name": "python",
   "nbconvert_exporter": "python",
   "pygments_lexer": "ipython3",
   "version": "3.6.8"
  }
 },
 "nbformat": 4,
 "nbformat_minor": 1
}
