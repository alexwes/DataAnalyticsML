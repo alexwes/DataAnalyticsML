{
 "cells": [
  {
   "cell_type": "markdown",
   "metadata": {},
   "source": [
    "# Info 3950 Problem Set 8\n",
    "\n",
    "**due Wed evening 10 May 2023 23:00 (or auto-extension to Fri)**\n",
    "\n",
    "Remember to include your name and netid in the first cell. Submit via [gradescope](https://gradescope.com/).\n",
    "\n",
    "<font size=\"-1\">[Also note that these problem sets are not intended as group projects: the work you submit must be your own. You can discuss with other students at a high level, for example general methods or strategies to solve a problem, but you must cite the other student(s) in your submission. Any work you submit must be your own understanding of the solution, the details of which you personally and individually worked out, and written in your own words. In no cases should notebooks or code be shared.]</font>\n",
    "\n",
    "### <font color='red'>Alex Weseley alw269</font>"
   ]
  },
  {
   "cell_type": "code",
   "execution_count": 1,
   "metadata": {},
   "outputs": [],
   "source": [
    "import torch, torch.nn as nn, torch.nn.functional as F, numpy as np\n",
    "from sklearn import preprocessing\n",
    "from sklearn.decomposition import PCA\n",
    "import matplotlib.pyplot as plt # for making figures\n",
    "%matplotlib inline"
   ]
  },
  {
   "cell_type": "markdown",
   "metadata": {},
   "source": [
    "# 1)  \n",
    "\n",
    "This problem draws heavily from the parts of the Karpathy video [\"build GPT: from scratch\"](https://www.youtube.com/watch?v=kCc8FmEb1nY) covered in [lec27_torch_tran.ipynb](https://nbviewer.org/url/courses.cit.cornell.edu/info3950_2023sp/lec27_torch_tran.ipynb), and as well from an earlier video [\"makemore Part 2: MLP\"](https://www.youtube.com/watch?v=TCH_1BHY58I)\n",
    "Using the directions in the problem, it won't be necessary to watch either video, but they do contain much useful additional explanation, and have linked notebooks with code you can adapt. (The problems here are sufficiently different that you'll have to understand how the code works regardless.)\n",
    "\n",
    "The first part of this problem uses Karpathy's [names.txt](https://raw.githubusercontent.com/karpathy/makemore/master/names.txt), which should download to disk. It contains 32033 lowercased first names to model:"
   ]
  },
  {
   "cell_type": "code",
   "execution_count": 2,
   "metadata": {},
   "outputs": [
    {
     "data": {
      "text/plain": [
       "(32033,\n",
       " ['emma', 'olivia', 'ava', 'isabella', 'sophia', 'charlotte', 'mia', 'amelia'])"
      ]
     },
     "execution_count": 2,
     "metadata": {},
     "output_type": "execute_result"
    }
   ],
   "source": [
    "# read in all the words, I called it ak_names.txt, call it what you like\n",
    "words = open('names.txt', 'r').read().splitlines()\n",
    "len(words), words[:8]"
   ]
  },
  {
   "cell_type": "code",
   "execution_count": 3,
   "metadata": {},
   "outputs": [
    {
     "name": "stdout",
     "output_type": "stream",
     "text": [
      "{1: 'a', 2: 'b', 3: 'c', 4: 'd', 5: 'e', 6: 'f', 7: 'g', 8: 'h', 9: 'i', 10: 'j', 11: 'k', 12: 'l', 13: 'm', 14: 'n', 15: 'o', 16: 'p', 17: 'q', 18: 'r', 19: 's', 20: 't', 21: 'u', 22: 'v', 23: 'w', 24: 'x', 25: 'y', 26: 'z', 0: '.'}\n"
     ]
    }
   ],
   "source": [
    "# build the vocabulary of characters and mappings to/from integers\n",
    "chars = sorted(list(set(''.join(words)))) # 26 characters\n",
    "stoi = {s:i+1 for i,s in enumerate(chars)}  # string to integer conversion\n",
    "stoi['.'] = 0  # add in '.' for padding and for end of name\n",
    "itos = {i:s for s,i in stoi.items()}  # integer back to string\n",
    "print(itos)"
   ]
  },
  {
   "cell_type": "markdown",
   "metadata": {},
   "source": [
    "He build a dataset of character n-grams to train on with this function:"
   ]
  },
  {
   "cell_type": "code",
   "execution_count": 4,
   "metadata": {},
   "outputs": [],
   "source": [
    "# build the dataset\n",
    "block_size = 3 # context length: how many characters do we take to predict the next one?\n",
    "\n",
    "def build_dataset(words):  \n",
    "    X, Y = [], []\n",
    "    for w in words:\n",
    "        context = [0] * block_size\n",
    "        for ch in w + '.':\n",
    "            ix = stoi[ch]\n",
    "            X.append(context)\n",
    "            Y.append(ix)\n",
    "            context = context[1:] + [ix] # crop and append\n",
    "\n",
    "    X = torch.tensor(X)\n",
    "    Y = torch.tensor(Y)\n",
    "    print(X.shape, Y.shape)\n",
    "    return X, Y"
   ]
  },
  {
   "cell_type": "code",
   "execution_count": 5,
   "metadata": {},
   "outputs": [
    {
     "name": "stdout",
     "output_type": "stream",
     "text": [
      "torch.Size([182778, 3]) torch.Size([182778])\n",
      "torch.Size([22633, 3]) torch.Size([22633])\n",
      "torch.Size([22735, 3]) torch.Size([22735])\n"
     ]
    }
   ],
   "source": [
    "# import random\n",
    "# random.seed(42)\n",
    "# random.shuffle(words)  #instead use in original order\n",
    "\n",
    "n1 = int(0.8*len(words)) #80% train\n",
    "n2 = int(0.9*len(words)) #10% validation / dev\n",
    "\n",
    "X_train, y_train = build_dataset(words[:n1]) #80%\n",
    "X_dev, y_dev = build_dataset(words[n1:n2])  #10%\n",
    "X_test, y_test = build_dataset(words[n2:])  #10%"
   ]
  },
  {
   "cell_type": "markdown",
   "metadata": {},
   "source": [
    "and uses the first 80% as training set, the next 10% as dev/validation set, and the final 10% as test set.<br>\n",
    "This is more careful than we've been, where the 10% validation is used to tune the network, select learning rate, etc., before assessing on the real test data (that hasn't been seen). Here we'll use the parameters that he finetuned (see video \"makemore Part 2: MLP\" for methodology), so the validation set won't play a direct role (but still useful to know that the test set was not used in selecting the parameters for the model).\n",
    "\n",
    "The first twelve training examples produced by the `build_dataset()` code above are as follows:"
   ]
  },
  {
   "cell_type": "code",
   "execution_count": 6,
   "metadata": {},
   "outputs": [
    {
     "data": {
      "text/plain": [
       "(tensor([[ 0,  0,  0],\n",
       "         [ 0,  0,  5],\n",
       "         [ 0,  5, 13],\n",
       "         [ 5, 13, 13],\n",
       "         [13, 13,  1],\n",
       "         [ 0,  0,  0],\n",
       "         [ 0,  0, 15],\n",
       "         [ 0, 15, 12],\n",
       "         [15, 12,  9],\n",
       "         [12,  9, 22],\n",
       "         [ 9, 22,  9],\n",
       "         [22,  9,  1]]),\n",
       " tensor([ 5, 13, 13,  1,  0, 15, 12,  9, 22,  9,  1,  0]))"
      ]
     },
     "execution_count": 6,
     "metadata": {},
     "output_type": "execute_result"
    }
   ],
   "source": [
    "X_train[:12], y_train[:12]"
   ]
  },
  {
   "cell_type": "markdown",
   "metadata": {},
   "source": [
    "and by translating back to the original text (below), you can see that each training example is a 3 character sequence, and the associated training label is the next character after that sequence within a name (i.e., the target  we're trying to predict). Each name is padded with '...' at the beginning, and '.' at the end, so it can start prediction from the begining of name, and can predict where the end will be:"
   ]
  },
  {
   "cell_type": "code",
   "execution_count": 7,
   "metadata": {},
   "outputs": [
    {
     "name": "stdout",
     "output_type": "stream",
     "text": [
      "... -> e\n",
      "..e -> m\n",
      ".em -> m\n",
      "emm -> a\n",
      "mma -> .\n",
      "... -> o\n",
      "..o -> l\n",
      ".ol -> i\n",
      "oli -> v\n",
      "liv -> i\n",
      "ivi -> a\n",
      "via -> .\n"
     ]
    }
   ],
   "source": [
    "for i in range(12):\n",
    "    print (''.join(itos[i.item()] for i in X_train[i]), '->', itos[y_train[i].item()])"
   ]
  },
  {
   "cell_type": "markdown",
   "metadata": {},
   "source": [
    "The most crucial feature we'll be learning in this problem is the notion of a \"character embedding\". This means associating a set of numbers to each character. We'll start with just two numbers, so that each character can be visualized as a point in a 2-dimensional space (hence the notion of embedding), and initialize randomly:"
   ]
  },
  {
   "cell_type": "code",
   "execution_count": 8,
   "metadata": {},
   "outputs": [],
   "source": [
    "C = torch.randn((27, 2))"
   ]
  },
  {
   "cell_type": "markdown",
   "metadata": {},
   "source": [
    "The embeddings for a,b,c,z are"
   ]
  },
  {
   "cell_type": "code",
   "execution_count": 9,
   "metadata": {},
   "outputs": [
    {
     "data": {
      "text/plain": [
       "tensor([[-0.5343,  0.8541],\n",
       "        [ 0.7556,  0.6455],\n",
       "        [-0.1399, -0.8210],\n",
       "        [ 0.8894, -1.0232]])"
      ]
     },
     "execution_count": 9,
     "metadata": {},
     "output_type": "execute_result"
    }
   ],
   "source": [
    "C[[1,2,3,26]]"
   ]
  },
  {
   "cell_type": "markdown",
   "metadata": {},
   "source": [
    "The objective of the model we're training is to learn character embeddings that somehow reflect the properties contained in the training set, and facilitate generating text with similar properties. For text analysis that operates at the level of words, the equivalent notion of \"word embeddings\", representing words as points in some higher dimensional space will be discussed in lec28, where the positions of the words is learned from their mutual associations.\n",
    "\n",
    "It is equally easy to find the embeddings of al `182778*3` characters that appear in the 182777 training examples:"
   ]
  },
  {
   "cell_type": "code",
   "execution_count": 10,
   "metadata": {
    "scrolled": true
   },
   "outputs": [
    {
     "data": {
      "text/plain": [
       "torch.Size([182778, 3, 2])"
      ]
     },
     "execution_count": 10,
     "metadata": {},
     "output_type": "execute_result"
    }
   ],
   "source": [
    "C[X_train].shape"
   ]
  },
  {
   "cell_type": "markdown",
   "metadata": {},
   "source": [
    "In general, an embedding is specified by an `n_vocab` by `n_embd` array, as above, and it's given the special name `nn.Embedding(n_vocab, n_embd)` when used as a layer in a neural network. Its entries will be adjusted training by backpropagation, to adjust the embedding values to facilitate performance on the task at hand (generative modeling, classification, ...).\n",
    "\n",
    "With `n_vocab=27` and `n_embd=2`, it is as above:"
   ]
  },
  {
   "cell_type": "code",
   "execution_count": 11,
   "metadata": {},
   "outputs": [
    {
     "data": {
      "text/plain": [
       "torch.Size([182778, 3, 2])"
      ]
     },
     "execution_count": 11,
     "metadata": {},
     "output_type": "execute_result"
    }
   ],
   "source": [
    "nn.Embedding(27,2)(X_train).shape"
   ]
  },
  {
   "cell_type": "markdown",
   "metadata": {},
   "source": [
    "**A.** The first part of this assignment is to build a model to learn the properties of the training set well enough to generate text from it, starting from this template:"
   ]
  },
  {
   "cell_type": "code",
   "execution_count": 12,
   "metadata": {},
   "outputs": [],
   "source": [
    "block_size = 3\n",
    "n_embd = 2\n",
    "vocab_size = 27\n",
    "h_layer = 200\n",
    "\n",
    "model1 = nn.Sequential(\n",
    "    nn.Embedding(vocab_size, n_embd),\n",
    "    nn.Flatten(),\n",
    "    nn.Linear(6,200),\n",
    "    nn.ReLU(),\n",
    "    nn.Linear(200, vocab_size)\n",
    ")"
   ]
  },
  {
   "cell_type": "markdown",
   "metadata": {},
   "source": [
    "After the embedding layer, add a flatten layer, which effectively concatenates the embeddings of the members of the letter trigram: e.g., a block_size of three characters and 2-dimensional embedding become a feature of length 6 numbers.\n",
    "\n",
    "The next layer is a linear layer that takes those feature to some larger size, say `h_layer=200`, then a ReLU, which you can interpret as where it \"thinks\" and computes on the features from the previous layer.\n",
    "\n",
    "This is followd by a final linear layer with output `vocab_size=27`, which provides the predictions for the next character.\n",
    "\n",
    "Rather than cycling through the data epoch by epoch drawing ordered samples in `batch_size` chunks, here we'll train the model instead by feeding it `batch_size` samples drawn randomly from the training set:"
   ]
  },
  {
   "cell_type": "code",
   "execution_count": 13,
   "metadata": {},
   "outputs": [
    {
     "data": {
      "text/plain": [
       "(torch.Size([32]), torch.Size([32, 3]))"
      ]
     },
     "execution_count": 13,
     "metadata": {},
     "output_type": "execute_result"
    }
   ],
   "source": [
    "batch_size=32\n",
    "ix = torch.randint(0, len(X_train), (batch_size,))\n",
    "ix.shape, X_train[ix].shape"
   ]
  },
  {
   "cell_type": "markdown",
   "metadata": {},
   "source": [
    "With `logits = model(X_train[ix])`, the model produces 32 sets of predictions, and `cross_entropy(logits, y_train[ix])` as loss function can then be used to backpropagate via an optimizer (as in ps7):\n",
    "\n",
    "    learning_rate = .001\n",
    "    loss_fn = nn.CrossEntropyLoss()\n",
    "    optimizer = torch.optim.Adam(model.parameters(), lr=learning_rate)\n",
    "    \n",
    "**i)** Write the code to finish the definition of the model, and train it using 100000 steps of random `batch_size=32` chunks, as explained above. (It will see a total of 3.2M examples -- this should take about a minute to train. If you print out the running loss every 5000 steps you'll see it bouncing around due to the random sampling). The loss on the test set \n",
    "\n",
    "    logits = model(X_test)\n",
    "    F.cross_entropy(logits, y_test)\n",
    "\n",
    "should be in the $<2.2$ range (down from `np.log(65)` $\\approx$ 4.17 for random guessing)"
   ]
  },
  {
   "cell_type": "code",
   "execution_count": 14,
   "metadata": {},
   "outputs": [],
   "source": [
    "learning_rate = .001\n",
    "loss_fn = nn.CrossEntropyLoss()\n",
    "optimizer = torch.optim.Adam(model1.parameters(), lr=learning_rate)"
   ]
  },
  {
   "cell_type": "code",
   "execution_count": 15,
   "metadata": {},
   "outputs": [
    {
     "name": "stdout",
     "output_type": "stream",
     "text": [
      "epoch: 0 || loss: 3.315\n",
      "epoch: 5000 || loss: 2.36\n",
      "epoch: 10000 || loss: 2.382\n",
      "epoch: 15000 || loss: 2.574\n",
      "epoch: 20000 || loss: 2.361\n",
      "epoch: 25000 || loss: 2.377\n",
      "epoch: 30000 || loss: 2.156\n",
      "epoch: 35000 || loss: 2.418\n",
      "epoch: 40000 || loss: 2.239\n",
      "epoch: 45000 || loss: 2.017\n",
      "epoch: 50000 || loss: 2.053\n",
      "epoch: 55000 || loss: 2.531\n",
      "epoch: 60000 || loss: 2.142\n",
      "epoch: 65000 || loss: 2.151\n",
      "epoch: 70000 || loss: 2.212\n",
      "epoch: 75000 || loss: 2.318\n",
      "epoch: 80000 || loss: 2.731\n",
      "epoch: 85000 || loss: 1.861\n",
      "epoch: 90000 || loss: 1.879\n",
      "epoch: 95000 || loss: 1.923\n",
      "epoch: 99999 || loss: 2.33\n"
     ]
    },
    {
     "data": {
      "text/plain": [
       "'Test Loss: 2.472'"
      ]
     },
     "execution_count": 15,
     "metadata": {},
     "output_type": "execute_result"
    }
   ],
   "source": [
    "for t in range(100000):\n",
    "    ix = torch.randint(0, len(X_train), (batch_size,))\n",
    "    optimizer.zero_grad()\n",
    "    logits = model1(X_train[ix])\n",
    "    loss =loss_fn(logits, y_train[ix])\n",
    "    \n",
    "    loss.backward()\n",
    "    optimizer.step()\n",
    "    \n",
    "    if t % 5000 == 0 or t == 99999:\n",
    "        print(f'epoch: {t} || loss: {round(loss.item(),3)}')\n",
    "              \n",
    "        \n",
    "t_logits = model1(X_test)\n",
    "test_loss = F.cross_entropy(t_logits, y_test)\n",
    "f'Test Loss: {round(test_loss.item(), 3)}'"
   ]
  },
  {
   "cell_type": "markdown",
   "metadata": {},
   "source": [
    "**ii)** You can visualize the learned embeddings output from the first layer as below, and since we're not using a random seed in common, your embedding won't look exactly like this one, but should share the feature that it \"figures out\" that vowels are somehow similar in role and groups them together, and that characters like '.' and 'q' are somehow different from the rest:"
   ]
  },
  {
   "cell_type": "code",
   "execution_count": 16,
   "metadata": {},
   "outputs": [
    {
     "data": {
      "image/png": "[encoded data removed]",
      "text/plain": [
       "<Figure size 500x500 with 1 Axes>"
      ]
     },
     "metadata": {},
     "output_type": "display_data"
    }
   ],
   "source": [
    "C=model1[0](torch.tensor(range(vocab_size)))\n",
    "\n",
    "# visualize dimensions 0 and 1 of the embedding matrix C for all characters\n",
    "plt.figure(figsize=(5,5))\n",
    "\n",
    "plt.scatter(*C.data.T, s=100)\n",
    "for i in range(C.shape[0]):\n",
    "    plt.text(C[i,0].item(), C[i,1].item(), itos[i], ha=\"center\", va=\"center\", color='white')\n",
    "plt.grid(ls=':')"
   ]
  },
  {
   "cell_type": "markdown",
   "metadata": {},
   "source": [
    "**B.** to generate from the model, start with a context of '...'\n",
    "\n",
    "    context = torch.tensor([[0]*block_size]).\n",
    "\n",
    "The probabilities for the next character are calculated as \n",
    "\n",
    "    probs = F.softmax(model(context), dim=-1)\n",
    "    \n",
    "and a next character can be drawn (as in lec27) via\n",
    "\n",
    "    idx_next = torch.multinomial(probs, num_samples=1).item()\n",
    "\n",
    "and appended to what will ultimately be the output.\n",
    "\n",
    "The context is updated by removing the first character and adding the new one\n",
    "\n",
    "    context = torch.tensor([context[0][1:].tolist() + [idx_next]])\n",
    "    \n",
    "and the generation should stop if idx_next == 0, since that signifies the ending '.'\n",
    "Use an outer loop of range(20) to generate twenty samples, they might look something like this:\n",
    "\n",
    "    adylea.\n",
    "    bilkaleona.\n",
    "    kamia.\n",
    "    korey.\n",
    "    aria.\n",
    "    ...\n",
    "\n",
    "which, while some are not names, could conceivably be names, certainly compared with what the model generates before training:\n",
    "\n",
    "    hpzryyn.\n",
    "    bcjmeycettpguxgfxzpntrqmzoyluywberqxxyyyi.\n",
    "    aovcelqk.\n",
    "    qokhzmnbejbsxgytoevjdyojoaz.\n",
    "    am.\n",
    "    ...\n",
    "    "
   ]
  },
  {
   "cell_type": "code",
   "execution_count": 17,
   "metadata": {},
   "outputs": [
    {
     "name": "stdout",
     "output_type": "stream",
     "text": [
      "meamalavesan.\n",
      "nnid.\n",
      "enslyn.\n",
      "mar.\n",
      "miza.\n",
      "jori.\n",
      "mak.\n",
      "alaruh.\n",
      "kavi.\n",
      "tan.\n",
      "welian.\n",
      "amariteya.\n",
      "parisace.\n",
      "braya.\n",
      "dolte.\n",
      "mareilan.\n",
      "rahyon.\n",
      "fujn.\n",
      "rayriegmoliy.\n",
      "lee.\n"
     ]
    }
   ],
   "source": [
    "n_names = 20\n",
    "for i in range(n_names):\n",
    "    context = torch.tensor([[0]*block_size])\n",
    "    idx = torch.Tensor()\n",
    "    idx_next = -1\n",
    "    while(idx_next != 0):\n",
    "        probs = F.softmax(model1(context), dim=-1)\n",
    "        idx_next = torch.multinomial(probs, num_samples=1).item()\n",
    "        idx = torch.cat((idx, torch.tensor([idx_next])), dim=0)\n",
    "        context = torch.tensor([context[0][1:].tolist() + [idx_next]])\n",
    "    print(''.join(itos[i.item()] for i in idx))"
   ]
  },
  {
   "cell_type": "markdown",
   "metadata": {},
   "source": [
    "**C.** **i.** Now increase the size of the embedding dimension to `n_embd=10`, which should give better performance (`n_embd=2` was just for visualization). The test loss should come down to the $< 2.1$ range."
   ]
  },
  {
   "cell_type": "code",
   "execution_count": 18,
   "metadata": {},
   "outputs": [],
   "source": [
    "block_size = 3\n",
    "n_embd = 10\n",
    "vocab_size = 27\n",
    "h_layer = 200\n",
    "\n",
    "model2 = nn.Sequential(\n",
    "    nn.Embedding(vocab_size, n_embd),\n",
    "    nn.Flatten(),\n",
    "    nn.Linear(30,200),\n",
    "    nn.ReLU(),\n",
    "    nn.Linear(200, vocab_size)\n",
    ")\n",
    "\n",
    "learning_rate = .001\n",
    "loss_fn = nn.CrossEntropyLoss()\n",
    "optimizer = torch.optim.Adam(model2.parameters(), lr=learning_rate)"
   ]
  },
  {
   "cell_type": "code",
   "execution_count": 19,
   "metadata": {},
   "outputs": [
    {
     "name": "stdout",
     "output_type": "stream",
     "text": [
      "epoch: 0 || loss: 3.262\n",
      "epoch: 5000 || loss: 2.107\n",
      "epoch: 10000 || loss: 2.318\n",
      "epoch: 15000 || loss: 2.297\n",
      "epoch: 20000 || loss: 1.823\n",
      "epoch: 25000 || loss: 1.931\n",
      "epoch: 30000 || loss: 2.076\n",
      "epoch: 35000 || loss: 1.798\n",
      "epoch: 40000 || loss: 1.835\n",
      "epoch: 45000 || loss: 2.092\n",
      "epoch: 50000 || loss: 2.108\n",
      "epoch: 55000 || loss: 2.194\n",
      "epoch: 60000 || loss: 2.208\n",
      "epoch: 65000 || loss: 1.831\n",
      "epoch: 70000 || loss: 2.268\n",
      "epoch: 75000 || loss: 2.246\n",
      "epoch: 80000 || loss: 2.455\n",
      "epoch: 85000 || loss: 2.066\n",
      "epoch: 90000 || loss: 2.083\n",
      "epoch: 95000 || loss: 2.091\n",
      "epoch: 99999 || loss: 1.869\n"
     ]
    },
    {
     "data": {
      "text/plain": [
       "'Test Loss: 2.388'"
      ]
     },
     "execution_count": 19,
     "metadata": {},
     "output_type": "execute_result"
    }
   ],
   "source": [
    "for t in range(100000):\n",
    "    ix = torch.randint(0, len(X_train), (batch_size,))\n",
    "    optimizer.zero_grad()\n",
    "    logits = model2(X_train[ix])\n",
    "    loss =loss_fn(logits, y_train[ix])\n",
    "    \n",
    "    loss.backward()\n",
    "    optimizer.step()\n",
    "    \n",
    "    if t % 5000 == 0 or t == 99999:\n",
    "        print(f'epoch: {t} || loss: {round(loss.item(),3)}')\n",
    "              \n",
    "        \n",
    "t_logits = model2(X_test)\n",
    "test_loss = F.cross_entropy(t_logits, y_test)\n",
    "f'Test Loss: {round(test_loss.item(), 3)}'"
   ]
  },
  {
   "cell_type": "markdown",
   "metadata": {},
   "source": [
    "**ii.** It doesn't make sense to plot the first two dimensions of the embedding, but now you can run a `PCA()` reduction on the 27 10-dimensional embedding vectors and plot the first two principal components (as in ps5, use a `scalar()` to normalize the data beforehand). How does it compare to the plot above?<br>\n",
    "(Note that [t-SNE](https://scikit-learn.org/stable/modules/generated/sklearn.manifold.TSNE.html) turned out to work slightly better for this.)"
   ]
  },
  {
   "cell_type": "code",
   "execution_count": 20,
   "metadata": {},
   "outputs": [
    {
     "data": {
      "image/png": "[encoded data removed]",
      "text/plain": [
       "<Figure size 500x500 with 1 Axes>"
      ]
     },
     "metadata": {},
     "output_type": "display_data"
    }
   ],
   "source": [
    "C1 = model2[0](torch.tensor(range(vocab_size)))\n",
    "scaler = preprocessing.StandardScaler()\n",
    "C1_scaled = scaler.fit_transform(C1.detach().numpy())\n",
    "pca = PCA(2)\n",
    "C1_new = pca.fit_transform(C1_scaled)\n",
    "\n",
    "# Visualize dimensions 0 and 1 of the embedding matrix C for all characters\n",
    "plt.figure(figsize=(5, 5))\n",
    "plt.scatter(C1_new[:, 0], C1_new[:, 1], s=100)\n",
    "\n",
    "for i in range(C1.shape[0]):\n",
    "    plt.text(C1_new[i, 0], C1_new[i, 1], itos[i], ha=\"center\", va=\"center\", color='white')\n",
    "\n",
    "plt.grid(ls=':')\n",
    "plt.show()"
   ]
  },
  {
   "cell_type": "markdown",
   "metadata": {},
   "source": [
    "**iii.** Generate 20 examples. There might be only subtle differences, but see how they compare to the earlier."
   ]
  },
  {
   "cell_type": "code",
   "execution_count": 21,
   "metadata": {},
   "outputs": [
    {
     "name": "stdout",
     "output_type": "stream",
     "text": [
      "ton.\n",
      "juhia.\n",
      "cedisy.\n",
      "sie.\n",
      "jourtley.\n",
      "amiah.\n",
      "kyla.\n",
      "tith.\n",
      "teyani.\n",
      "stah.\n",
      "livia.\n",
      "marcely.\n",
      "laura.\n",
      "rystin.\n",
      "dayla.\n",
      "roya.\n",
      "chik.\n",
      "ritzcy.\n",
      "ley.\n",
      "rodyn.\n"
     ]
    }
   ],
   "source": [
    "n_names = 20\n",
    "for i in range(n_names):\n",
    "    context = torch.tensor([[0]*block_size])\n",
    "    idx = torch.Tensor()\n",
    "    idx_next = -1\n",
    "    while(idx_next != 0):\n",
    "        probs = F.softmax(model2(context), dim=-1)\n",
    "        idx_next = torch.multinomial(probs, num_samples=1).item()\n",
    "        idx = torch.cat((idx, torch.tensor([idx_next])), dim=0)\n",
    "        context = torch.tensor([context[0][1:].tolist() + [idx_next]])\n",
    "    print(''.join(itos[i.item()] for i in idx))"
   ]
  },
  {
   "cell_type": "markdown",
   "metadata": {},
   "source": [
    "**D.** **i.** Train a model with `blocksize=4` (you'll need to generate new training data), and calculate the loss on the test set.  Generate 20 examples -- it might now look more constrained (and less creative), based on predicting from preceding four characters."
   ]
  },
  {
   "cell_type": "code",
   "execution_count": 22,
   "metadata": {},
   "outputs": [
    {
     "name": "stdout",
     "output_type": "stream",
     "text": [
      "{1: 'a', 2: 'b', 3: 'c', 4: 'd', 5: 'e', 6: 'f', 7: 'g', 8: 'h', 9: 'i', 10: 'j', 11: 'k', 12: 'l', 13: 'm', 14: 'n', 15: 'o', 16: 'p', 17: 'q', 18: 'r', 19: 's', 20: 't', 21: 'u', 22: 'v', 23: 'w', 24: 'x', 25: 'y', 26: 'z', 0: '.'}\n",
      "torch.Size([182778, 4]) torch.Size([182778])\n",
      "torch.Size([22633, 4]) torch.Size([22633])\n",
      "torch.Size([22735, 4]) torch.Size([22735])\n"
     ]
    }
   ],
   "source": [
    "# read in all the words, I called it ak_names.txt, call it what you like\n",
    "words = open('names.txt', 'r').read().splitlines()\n",
    "len(words), words[:8]\n",
    "\n",
    "# build the vocabulary of characters and mappings to/from integers\n",
    "chars = sorted(list(set(''.join(words)))) # 26 characters\n",
    "stoi = {s:i+1 for i,s in enumerate(chars)}  # string to integer conversion\n",
    "stoi['.'] = 0  # add in '.' for padding and for end of name\n",
    "itos = {i:s for s,i in stoi.items()}  # integer back to string\n",
    "print(itos)\n",
    "\n",
    "# build the dataset\n",
    "block_size = 4 # context length: how many characters do we take to predict the next one?\n",
    "\n",
    "def build_dataset(words):  \n",
    "    X, Y = [], []\n",
    "    for w in words:\n",
    "        context = [0] * block_size\n",
    "        for ch in w + '.':\n",
    "            ix = stoi[ch]\n",
    "            X.append(context)\n",
    "            Y.append(ix)\n",
    "            context = context[1:] + [ix] # crop and append\n",
    "\n",
    "    X = torch.tensor(X)\n",
    "    Y = torch.tensor(Y)\n",
    "    print(X.shape, Y.shape)\n",
    "    return X, Y\n",
    "\n",
    "# import random\n",
    "# random.seed(42)\n",
    "# random.shuffle(words)  #instead use in original order\n",
    "\n",
    "n1 = int(0.8*len(words)) #80% train\n",
    "n2 = int(0.9*len(words)) #10% validation / dev\n",
    "\n",
    "X_train, y_train = build_dataset(words[:n1]) #80%\n",
    "X_dev, y_dev = build_dataset(words[n1:n2])  #10%\n",
    "X_test, y_test = build_dataset(words[n2:])  #10%"
   ]
  },
  {
   "cell_type": "code",
   "execution_count": 23,
   "metadata": {},
   "outputs": [],
   "source": [
    "block_size = 4\n",
    "n_embd = 10\n",
    "vocab_size = 27\n",
    "h_layer = 200\n",
    "\n",
    "model3 = nn.Sequential(\n",
    "    nn.Embedding(vocab_size, n_embd),\n",
    "    nn.Flatten(),\n",
    "    nn.Linear(40,200),\n",
    "    nn.ReLU(),\n",
    "    nn.Linear(200, vocab_size)\n",
    ")\n",
    "\n",
    "learning_rate = .001\n",
    "loss_fn = nn.CrossEntropyLoss()\n",
    "optimizer = torch.optim.Adam(model3.parameters(), lr=learning_rate)"
   ]
  },
  {
   "cell_type": "code",
   "execution_count": 24,
   "metadata": {},
   "outputs": [
    {
     "name": "stdout",
     "output_type": "stream",
     "text": [
      "epoch: 0 || loss: 3.373\n",
      "epoch: 5000 || loss: 2.008\n",
      "epoch: 10000 || loss: 2.321\n",
      "epoch: 15000 || loss: 2.239\n",
      "epoch: 20000 || loss: 1.95\n",
      "epoch: 25000 || loss: 1.87\n",
      "epoch: 30000 || loss: 1.76\n",
      "epoch: 35000 || loss: 2.289\n",
      "epoch: 40000 || loss: 2.502\n",
      "epoch: 45000 || loss: 1.595\n",
      "epoch: 50000 || loss: 2.001\n",
      "epoch: 55000 || loss: 1.602\n",
      "epoch: 60000 || loss: 2.19\n",
      "epoch: 65000 || loss: 2.246\n",
      "epoch: 70000 || loss: 2.154\n",
      "epoch: 75000 || loss: 1.964\n",
      "epoch: 80000 || loss: 1.76\n",
      "epoch: 85000 || loss: 2.072\n",
      "epoch: 90000 || loss: 2.011\n",
      "epoch: 95000 || loss: 1.991\n",
      "epoch: 99999 || loss: 2.147\n"
     ]
    },
    {
     "data": {
      "text/plain": [
       "'Test Loss: 2.357'"
      ]
     },
     "execution_count": 24,
     "metadata": {},
     "output_type": "execute_result"
    }
   ],
   "source": [
    "for t in range(100000):\n",
    "    ix = torch.randint(0, len(X_train), (batch_size,))\n",
    "    optimizer.zero_grad()\n",
    "    logits = model3(X_train[ix])\n",
    "    loss =loss_fn(logits, y_train[ix])\n",
    "    \n",
    "    loss.backward()\n",
    "    optimizer.step()\n",
    "    \n",
    "    if t % 5000 == 0 or t == 99999:\n",
    "        print(f'epoch: {t} || loss: {round(loss.item(),3)}')\n",
    "              \n",
    "        \n",
    "t_logits = model3(X_test)\n",
    "test_loss = F.cross_entropy(t_logits, y_test)\n",
    "f'Test Loss: {round(test_loss.item(), 3)}'"
   ]
  },
  {
   "cell_type": "code",
   "execution_count": 25,
   "metadata": {},
   "outputs": [
    {
     "name": "stdout",
     "output_type": "stream",
     "text": [
      "taelani.\n",
      "koynette.\n",
      "avan.\n",
      "corisa.\n",
      "mann.\n",
      "carta.\n",
      "jerrah.\n",
      "deamee.\n",
      "amar.\n",
      "britt.\n",
      "camdee.\n",
      "emil.\n",
      "jlaida.\n",
      "adaleigan.\n",
      "kayzlee.\n",
      "zeena.\n",
      "codinclay.\n",
      "bromiah.\n",
      "jsurenna.\n",
      "yanah.\n"
     ]
    }
   ],
   "source": [
    "n_names = 20\n",
    "for i in range(n_names):\n",
    "    context = torch.tensor([[0]*block_size])\n",
    "    idx = torch.Tensor()\n",
    "    idx_next = -1\n",
    "    while(idx_next != 0):\n",
    "        probs = F.softmax(model3(context), dim=-1)\n",
    "        idx_next = torch.multinomial(probs, num_samples=1).item()\n",
    "        idx = torch.cat((idx, torch.tensor([idx_next])), dim=0)\n",
    "        context = torch.tensor([context[0][1:].tolist() + [idx_next]])\n",
    "    print(''.join(itos[i.item()] for i in idx))"
   ]
  },
  {
   "cell_type": "markdown",
   "metadata": {},
   "source": [
    "**ii.** Train a model with `blocksize=1` (again with new training data), and calculate the loss on the test set.  Generate 20 examples -- some might still remain reasonable but less constrained (predicting only based on preceding character), so there might be more unreasonable outliers."
   ]
  },
  {
   "cell_type": "code",
   "execution_count": 26,
   "metadata": {},
   "outputs": [
    {
     "name": "stdout",
     "output_type": "stream",
     "text": [
      "{1: 'a', 2: 'b', 3: 'c', 4: 'd', 5: 'e', 6: 'f', 7: 'g', 8: 'h', 9: 'i', 10: 'j', 11: 'k', 12: 'l', 13: 'm', 14: 'n', 15: 'o', 16: 'p', 17: 'q', 18: 'r', 19: 's', 20: 't', 21: 'u', 22: 'v', 23: 'w', 24: 'x', 25: 'y', 26: 'z', 0: '.'}\n",
      "torch.Size([182778, 1]) torch.Size([182778])\n",
      "torch.Size([22633, 1]) torch.Size([22633])\n",
      "torch.Size([22735, 1]) torch.Size([22735])\n"
     ]
    }
   ],
   "source": [
    "# read in all the words, I called it ak_names.txt, call it what you like\n",
    "words = open('names.txt', 'r').read().splitlines()\n",
    "len(words), words[:8]\n",
    "\n",
    "# build the vocabulary of characters and mappings to/from integers\n",
    "chars = sorted(list(set(''.join(words)))) # 26 characters\n",
    "stoi = {s:i+1 for i,s in enumerate(chars)}  # string to integer conversion\n",
    "stoi['.'] = 0  # add in '.' for padding and for end of name\n",
    "itos = {i:s for s,i in stoi.items()}  # integer back to string\n",
    "print(itos)\n",
    "\n",
    "# build the dataset\n",
    "block_size = 1 # context length: how many characters do we take to predict the next one?\n",
    "\n",
    "def build_dataset(words):  \n",
    "    X, Y = [], []\n",
    "    for w in words:\n",
    "        context = [0] * block_size\n",
    "        for ch in w + '.':\n",
    "            ix = stoi[ch]\n",
    "            X.append(context)\n",
    "            Y.append(ix)\n",
    "            context = context[1:] + [ix] # crop and append\n",
    "\n",
    "    X = torch.tensor(X)\n",
    "    Y = torch.tensor(Y)\n",
    "    print(X.shape, Y.shape)\n",
    "    return X, Y\n",
    "\n",
    "# import random\n",
    "# random.seed(42)\n",
    "# random.shuffle(words)  #instead use in original order\n",
    "\n",
    "n1 = int(0.8*len(words)) #80% train\n",
    "n2 = int(0.9*len(words)) #10% validation / dev\n",
    "\n",
    "X_train, y_train = build_dataset(words[:n1]) #80%\n",
    "X_dev, y_dev = build_dataset(words[n1:n2])  #10%\n",
    "X_test, y_test = build_dataset(words[n2:])  #10%"
   ]
  },
  {
   "cell_type": "code",
   "execution_count": 27,
   "metadata": {},
   "outputs": [],
   "source": [
    "block_size = 1\n",
    "n_embd = 10\n",
    "vocab_size = 27\n",
    "h_layer = 200\n",
    "\n",
    "model4 = nn.Sequential(\n",
    "    nn.Embedding(vocab_size, n_embd),\n",
    "    nn.Flatten(),\n",
    "    nn.Linear(10,200),\n",
    "    nn.ReLU(),\n",
    "    nn.Linear(200, vocab_size)\n",
    ")\n",
    "\n",
    "learning_rate = .001\n",
    "loss_fn = nn.CrossEntropyLoss()\n",
    "optimizer = torch.optim.Adam(model4.parameters(), lr=learning_rate)"
   ]
  },
  {
   "cell_type": "code",
   "execution_count": 28,
   "metadata": {},
   "outputs": [
    {
     "name": "stdout",
     "output_type": "stream",
     "text": [
      "epoch: 0 || loss: 3.301\n",
      "epoch: 5000 || loss: 2.438\n",
      "epoch: 10000 || loss: 2.432\n",
      "epoch: 15000 || loss: 2.397\n",
      "epoch: 20000 || loss: 2.484\n",
      "epoch: 25000 || loss: 2.367\n",
      "epoch: 30000 || loss: 2.468\n",
      "epoch: 35000 || loss: 2.423\n",
      "epoch: 40000 || loss: 2.162\n",
      "epoch: 45000 || loss: 2.495\n",
      "epoch: 50000 || loss: 2.485\n",
      "epoch: 55000 || loss: 2.526\n",
      "epoch: 60000 || loss: 2.196\n",
      "epoch: 65000 || loss: 2.107\n",
      "epoch: 70000 || loss: 2.395\n",
      "epoch: 75000 || loss: 2.649\n",
      "epoch: 80000 || loss: 2.309\n",
      "epoch: 85000 || loss: 2.394\n",
      "epoch: 90000 || loss: 2.34\n",
      "epoch: 95000 || loss: 2.673\n",
      "epoch: 99999 || loss: 2.438\n"
     ]
    },
    {
     "data": {
      "text/plain": [
       "'Test Loss: 2.603'"
      ]
     },
     "execution_count": 28,
     "metadata": {},
     "output_type": "execute_result"
    }
   ],
   "source": [
    "for t in range(100000):\n",
    "    ix = torch.randint(0, len(X_train), (batch_size,))\n",
    "    optimizer.zero_grad()\n",
    "    logits = model4(X_train[ix])\n",
    "    loss =loss_fn(logits, y_train[ix])\n",
    "    \n",
    "    loss.backward()\n",
    "    optimizer.step()\n",
    "    \n",
    "    if t % 5000 == 0 or t == 99999:\n",
    "        print(f'epoch: {t} || loss: {round(loss.item(),3)}')\n",
    "              \n",
    "        \n",
    "t_logits = model4(X_test)\n",
    "test_loss = F.cross_entropy(t_logits, y_test)\n",
    "f'Test Loss: {round(test_loss.item(), 3)}'"
   ]
  },
  {
   "cell_type": "code",
   "execution_count": 29,
   "metadata": {},
   "outputs": [
    {
     "name": "stdout",
     "output_type": "stream",
     "text": [
      "a.\n",
      "l.\n",
      "zarindate.\n",
      "iver.\n",
      "cavitonn.\n",
      "keria.\n",
      "chambah.\n",
      "saneydemayvelisariexn.\n",
      "d.\n",
      "sahase.\n",
      "bialioya.\n",
      "siy.\n",
      "ja.\n",
      "cylinoen.\n",
      "waynllysin.\n",
      "de.\n",
      "ebon.\n",
      "vohesey.\n",
      "a.\n",
      "zuli.\n"
     ]
    }
   ],
   "source": [
    "n_names = 20\n",
    "for i in range(n_names):\n",
    "    context = torch.tensor([[0]*block_size])\n",
    "    idx = torch.Tensor()\n",
    "    idx_next = -1\n",
    "    while(idx_next != 0):\n",
    "        probs = F.softmax(model4(context), dim=-1)\n",
    "        idx_next = torch.multinomial(probs, num_samples=1).item()\n",
    "        idx = torch.cat((idx, torch.tensor([idx_next])), dim=0)\n",
    "        context = torch.tensor([context[0][1:].tolist() + [idx_next]])\n",
    "    print(''.join(itos[i.item()] for i in idx))"
   ]
  },
  {
   "cell_type": "markdown",
   "metadata": {},
   "source": [
    "**E.** How many parameters are trained for each of the four models in A, B, C.i, C.ii ?"
   ]
  },
  {
   "cell_type": "code",
   "execution_count": 30,
   "metadata": {},
   "outputs": [
    {
     "name": "stdout",
     "output_type": "stream",
     "text": [
      "torch.Size([27, 2]) 54\n",
      "torch.Size([200, 6]) 1200\n",
      "torch.Size([200]) 200\n",
      "torch.Size([27, 200]) 5400\n",
      "torch.Size([27]) 27\n"
     ]
    }
   ],
   "source": [
    "for layer in model1.parameters():\n",
    "    print(layer.shape, np.prod(layer.shape))"
   ]
  },
  {
   "cell_type": "code",
   "execution_count": 31,
   "metadata": {},
   "outputs": [
    {
     "name": "stdout",
     "output_type": "stream",
     "text": [
      "torch.Size([27, 10]) 270\n",
      "torch.Size([200, 30]) 6000\n",
      "torch.Size([200]) 200\n",
      "torch.Size([27, 200]) 5400\n",
      "torch.Size([27]) 27\n"
     ]
    }
   ],
   "source": [
    "for layer in model2.parameters():\n",
    "    print(layer.shape, np.prod(layer.shape))"
   ]
  },
  {
   "cell_type": "code",
   "execution_count": 32,
   "metadata": {},
   "outputs": [
    {
     "name": "stdout",
     "output_type": "stream",
     "text": [
      "torch.Size([27, 10]) 270\n",
      "torch.Size([200, 40]) 8000\n",
      "torch.Size([200]) 200\n",
      "torch.Size([27, 200]) 5400\n",
      "torch.Size([27]) 27\n"
     ]
    }
   ],
   "source": [
    "for layer in model3.parameters():\n",
    "    print(layer.shape, np.prod(layer.shape))"
   ]
  },
  {
   "cell_type": "code",
   "execution_count": 33,
   "metadata": {},
   "outputs": [
    {
     "name": "stdout",
     "output_type": "stream",
     "text": [
      "torch.Size([27, 10]) 270\n",
      "torch.Size([200, 10]) 2000\n",
      "torch.Size([200]) 200\n",
      "torch.Size([27, 200]) 5400\n",
      "torch.Size([27]) 27\n"
     ]
    }
   ],
   "source": [
    "for layer in model4.parameters():\n",
    "    print(layer.shape, np.prod(layer.shape))"
   ]
  },
  {
   "cell_type": "markdown",
   "metadata": {},
   "source": [
    "## 2) [bonus]\n",
    "\n",
    "Train a model of the same form as above, but using Karpathy's \"tiny shakespeare\" dataset as in lec27. You'll now need `vocab_size=65`, and you may want to adjust some of the other parameters of the model, depending on your compute resources. (E.g., a larger vocabulary size might benefit from a larger embedding dimension `n_embd`, 30 seemed to work OK) The training data can be sampled as above, in `batch_size` chunks of length `block_size` drawn at random from the text, or you can use a dataloader as in ps7 and cycle systemically through all the data once per epoch.\n",
    "\n",
    "If the former, the `get_batch()` function from the lec27 notebook needs the simple modification that the y values are now just the single next character for each sample, `y = torch.stack([data[i+block_size] for i in ix])`.\n",
    "\n",
    "For `block_size = 2,3,4`, what is the loss, and generate some text to (qualitatively...) assess its quality.\n",
    "\n",
    "You could also PCA (or t-SNE) reduce the new character embeddings down to two principle components for visualization.\n"
   ]
  },
  {
   "cell_type": "code",
   "execution_count": null,
   "metadata": {},
   "outputs": [],
   "source": []
  }
 ],
 "metadata": {
  "kernelspec": {
   "display_name": "Python 3 (ipykernel)",
   "language": "python",
   "name": "python3"
  },
  "language_info": {
   "codemirror_mode": {
    "name": "ipython",
    "version": 3
   },
   "file_extension": ".py",
   "mimetype": "text/x-python",
   "name": "python",
   "nbconvert_exporter": "python",
   "pygments_lexer": "ipython3",
   "version": "3.8.16"
  }
 },
 "nbformat": 4,
 "nbformat_minor": 4
}
