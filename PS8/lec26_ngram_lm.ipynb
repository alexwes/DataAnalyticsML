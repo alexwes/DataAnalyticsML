{
 "cells": [
  {
   "cell_type": "code",
   "execution_count": 1,
   "metadata": {},
   "outputs": [],
   "source": [
    "from collections import Counter,defaultdict\n",
    "import random, gzip, textwrap"
   ]
  },
  {
   "cell_type": "code",
   "execution_count": 19,
   "metadata": {},
   "outputs": [],
   "source": [
    "def make_word_trigrams(filename):\n",
    "\n",
    "    #returns list of words in file:\n",
    "    with gzip.open(filename) as f: words = f.read().decode('utf-8').split()\n",
    "\n",
    "    trigrams = defaultdict(list)\n",
    "    \n",
    "    bigram=tuple(words[:2])\n",
    "    startwords=[bigram]\n",
    "    \n",
    "    for w in words[2:] + words[:2]:\n",
    "    #keys of trigram dict are tuples, values are lists\n",
    "        trigrams[bigram].append(w)\n",
    "        if bigram[0].endswith('.') and bigram[1][0].isupper():\n",
    "            startwords.append((bigram[1],w))\n",
    "        bigram=(bigram[1],w)\n",
    "\n",
    "    return trigrams,startwords"
   ]
  },
  {
   "cell_type": "code",
   "execution_count": 20,
   "metadata": {},
   "outputs": [],
   "source": [
    "def random_word_text(ngrams, startgrams, r=None, num_words=100):\n",
    "         \n",
    "    if r != None: current = startgrams[r]\n",
    "    else: current = random.choice(startgrams)\n",
    "    random_text = list(current)\n",
    "    \n",
    "    # continue past num_words until ends in .    \n",
    "    while len(random_text)< num_words or not random_text[-1].endswith('.'):\n",
    "        nxt = random.choice(ngrams[current])\n",
    "        random_text.append(nxt)\n",
    "        current = (*current[1:], nxt) #move to next window (current can be (n-1)-gram)\n",
    "        # avoid long loops if too few periods in training text\n",
    "        if len(random_text) > 2*num_words: random_text[-1] += '.'\n",
    "        \n",
    "    return textwrap.fill(' '.join(random_text))"
   ]
  },
  {
   "cell_type": "markdown",
   "metadata": {},
   "source": [
    "The source text files for the below can be found here:\n",
    "\n",
    "1. <a href=\"https://courses.cit.cornell.edu/info2950_2018sp/resources/sherlock.txt.gz\">sherlock.txt.gz</a>\n",
    "2. <a href=\"https://courses.cit.cornell.edu/info2950_2018sp/resources/oz.txt.gz\">oz.txt.gz</a>\n",
    "3. <a href=\"https://courses.cit.cornell.edu/info2950_2018sp/resources/di.txt.gz\">di.txt.gz</a>\n",
    "4. <a href=\"https://courses.cit.cornell.edu/info2950_2018sp/resources/shakespeare.txt.gz\">shakespeare.txt.gz</a>"
   ]
  },
  {
   "cell_type": "code",
   "execution_count": 21,
   "metadata": {},
   "outputs": [],
   "source": [
    "trigrams_sh,startwords_sh = make_word_trigrams('sherlock.txt.gz')"
   ]
  },
  {
   "cell_type": "code",
   "execution_count": 5,
   "metadata": {},
   "outputs": [
    {
     "data": {
      "text/plain": [
       "[(('of', 'the'), 700),\n",
       " (('in', 'the'), 479),\n",
       " (('to', 'the'), 297),\n",
       " (('I', 'have'), 247),\n",
       " (('that', 'I'), 245),\n",
       " (('at', 'the'), 224),\n",
       " (('upon', 'the'), 195),\n",
       " (('and', 'I'), 191),\n",
       " (('to', 'be'), 189),\n",
       " (('and', 'the'), 186)]"
      ]
     },
     "execution_count": 5,
     "metadata": {},
     "output_type": "execute_result"
    }
   ],
   "source": [
    "#most common bigram keys\n",
    "sorted([(bi,len(trigrams_sh[bi])) for bi in trigrams_sh],key=lambda x: x[1],reverse=True)[:10]"
   ]
  },
  {
   "cell_type": "code",
   "execution_count": 6,
   "metadata": {},
   "outputs": [
    {
     "data": {
      "text/plain": [
       "[(('It', 'was'), 91),\n",
       " (('It', 'is'), 88),\n",
       " (('I', 'have'), 49),\n",
       " (('He', 'was'), 38),\n",
       " (('There', 'was'), 31),\n",
       " (('There', 'is'), 28),\n",
       " (('I', 'am'), 27),\n",
       " (('I', 'was'), 27),\n",
       " (('I', 'had'), 26),\n",
       " (('On', 'the'), 22)]"
      ]
     },
     "execution_count": 6,
     "metadata": {},
     "output_type": "execute_result"
    }
   ],
   "source": [
    "Counter(startwords_sh).most_common(10)  #starts of sentences"
   ]
  },
  {
   "cell_type": "code",
   "execution_count": 7,
   "metadata": {},
   "outputs": [
    {
     "data": {
      "text/plain": [
       "548"
      ]
     },
     "execution_count": 7,
     "metadata": {},
     "output_type": "execute_result"
    }
   ],
   "source": [
    "len(set(trigrams_sh[('of','the')])) #distinct continuations from \"of the ...\""
   ]
  },
  {
   "cell_type": "code",
   "execution_count": 8,
   "metadata": {},
   "outputs": [
    {
     "name": "stdout",
     "output_type": "stream",
     "text": [
      "Above the woods picking flowers. She states that while she was sick\n",
      "with fear, and the police-court.\" \"I could do without her. In only one\n",
      "thing to do it again. Then I started from London to this man Horner is\n",
      "innocent?\" \"I cannot think.\" \"When you see that your circulation is\n",
      "more interesting than her little income, she would send him away to\n",
      "the Southampton Road, a small bedroom, which looked out into smoke\n",
      "like so many as you may rest assured that she died from some strong\n",
      "motive for securing the situation.\" \"I am afraid that I had been out\n",
      "to the celebrated Mr.\n"
     ]
    }
   ],
   "source": [
    "print (random_text(trigrams_sh,startwords_sh)) #random sherlock"
   ]
  },
  {
   "cell_type": "code",
   "execution_count": 22,
   "metadata": {},
   "outputs": [],
   "source": [
    "trigrams_di,startwords_di=make_word_trigrams('di.txt.gz')\n",
    "trigrams_oz,startwords_oz=make_word_trigrams('oz.txt.gz')"
   ]
  },
  {
   "cell_type": "code",
   "execution_count": 10,
   "metadata": {},
   "outputs": [
    {
     "name": "stdout",
     "output_type": "stream",
     "text": [
      "Others polished the blade until all the beasts caught sight of us, he\n",
      "called to them that it was quite an important person. By and by\n",
      "standing upon the pretty gardens and woods far below them. Dorothy\n",
      "found she was riding quite easily. After the Lion walking with stately\n",
      "strides at Dorothy's feet, and the ropes got twisted, so that I shall\n",
      "have a basket to the city and everyone came to the Wicked Witch and\n",
      "setting them free from bondage.\" Dorothy listened to this queer bridge\n",
      "when a sharp growl made them all look up, and he soon made up her mind\n",
      "to harness him like a cat.\n"
     ]
    }
   ],
   "source": [
    "print (random_word_text(trigrams_oz,startwords_oz)) #random Oz"
   ]
  },
  {
   "cell_type": "code",
   "execution_count": 23,
   "metadata": {},
   "outputs": [
    {
     "name": "stdout",
     "output_type": "stream",
     "text": [
      "He is at this time transporting large Armies of foreign Mercenaries to\n",
      "compleat the works of death, desolation, and tyranny, already begun\n",
      "with circumstances of our intentions, do, in the Course of human\n",
      "events it becomes necessary for the sole purpose of fatiguing them\n",
      "into compliance with his measures. He has abdicated Government here,\n",
      "by declaring us out of his Protection and waging War against us. He\n",
      "has refused to pass Laws of Nature and of Right ought to be tried for\n",
      "pretended offences: For abolishing the forms to which the Laws for the\n",
      "accommodation of large districts of people, unless those people would\n",
      "relinquish the right of Representation in the mean time exposed to all\n",
      "the dangers of invasion from without, and convulsions within.\n"
     ]
    }
   ],
   "source": [
    "print (random_word_text(trigrams_di,startwords_di))  #random declaration of independence"
   ]
  },
  {
   "cell_type": "code",
   "execution_count": 24,
   "metadata": {},
   "outputs": [
    {
     "name": "stdout",
     "output_type": "stream",
     "text": [
      "Prudence, indeed, will dictate that Governments long established\n",
      "should not marry the pretty milkmaid was much too vexed to make him\n",
      "work.\" \"Your commands shall be glad to be able to melt me and I was a\n",
      "little thing, except a coward I shall never get my brains I shall find\n",
      "the Emerald City,\" said the Scarecrow, in a wonderful place. It was a\n",
      "very bad man,\" said Dorothy. \"And I should have set the house was\n",
      "small, for the tenure of their salaries. He has refused to pass others\n",
      "to subject us to a big table near by was loaded with delicious fruits\n",
      "and nuts, pies and cakes, and many cows and sheep and horses and pigs\n",
      "and chickens, all made of china, were standing about in groups.\n"
     ]
    }
   ],
   "source": [
    "trigrams_oz_di= dict(list(trigrams_oz.items()) + list(trigrams_di.items()))\n",
    "for bigram in set(trigrams_oz) & set (trigrams_di):\n",
    "    trigrams_oz_di[bigram] = trigrams_oz[bigram] + trigrams_di[bigram]\n",
    "startwords_oz_di = startwords_oz + startwords_di\n",
    "    \n",
    "print (random_word_text(trigrams_oz_di,startwords_di))  #mashup of declaration and oz"
   ]
  },
  {
   "cell_type": "code",
   "execution_count": 25,
   "metadata": {},
   "outputs": [],
   "source": [
    "trigrams_sk,startwords_sk = make_word_trigrams('shakespeare.txt.gz')  "
   ]
  },
  {
   "cell_type": "code",
   "execution_count": 26,
   "metadata": {},
   "outputs": [
    {
     "name": "stdout",
     "output_type": "stream",
     "text": [
      "Sir, I lack some part of the Goths and Tamora was queen- To quit the\n",
      "mines? Have the patricians of you. For my part, knew the stars give\n",
      "light To their deaf pillows will discharge my bond, Thou but offend'st\n",
      "thy lungs and split thy heart burst out, I fear the wolf behowls the\n",
      "moon; or, rather, the Neapolitan prince. PORTIA. Ay, but when?\n",
      "ORLANDO. Why, how now, Sir Hugh, persuade me from hence, I faint. O\n",
      "Iras, Charmian! 'Tis no counterfeit. To die is true- but for vacancy,\n",
      "Had gone to meet you. PETRUCHIO. It cannot fail but by the wrist and\n",
      "held me glad of your unworthy thinking.\n"
     ]
    }
   ],
   "source": [
    "print (random_word_text(trigrams_sk,startwords_sk)) #random shakespeare"
   ]
  },
  {
   "cell_type": "code",
   "execution_count": 15,
   "metadata": {},
   "outputs": [],
   "source": [
    "trigrams_sh_sk = dict(list(trigrams_sh.items()) + list(trigrams_sk.items()))\n",
    "for bigram in set(trigrams_sh) & set (trigrams_sk):\n",
    "    trigrams_sh_sk[bigram] = trigrams_sh[bigram] + trigrams_sk[bigram]\n",
    "startwords_sh_sk = startwords_sh + startwords_sk"
   ]
  },
  {
   "cell_type": "code",
   "execution_count": 27,
   "metadata": {},
   "outputs": [
    {
     "name": "stdout",
     "output_type": "stream",
     "text": [
      "Now from this day is not! O night, O long and well-deserved bed; [To\n",
      "TOUCHSTONE] And you yourself shall keep the hills adjoining to the\n",
      "block of the cause, But jealous souls will not practise to deceive,\n",
      "Yet, to avoid him. Which of you some sport with the same care to stay\n",
      "a man as rare as Phoenix. 'Od's my will! Her love to berhyme her),\n",
      "Dido a dowdy, Cleopatra a gypsy, Helen and Hero hildings and harlots,\n",
      "This be not easily controlled when she seem'd to tell his Grace. FIRST\n",
      "CITIZEN. Give him tending; He brings you to proceed, And justly and\n",
      "religiously unfold Why the devil, you are vanished.\n"
     ]
    }
   ],
   "source": [
    "print (random_word_text(trigrams_sh_sk,startwords_sh))  #mashup of shakespeare and sherlock"
   ]
  },
  {
   "cell_type": "code",
   "execution_count": null,
   "metadata": {
    "collapsed": true,
    "jupyter": {
     "outputs_hidden": true
    }
   },
   "outputs": [],
   "source": []
  },
  {
   "cell_type": "markdown",
   "metadata": {},
   "source": [
    "### Now generalize to word n-grams"
   ]
  },
  {
   "cell_type": "code",
   "execution_count": 17,
   "metadata": {},
   "outputs": [],
   "source": [
    "def make_word_ngrams(filename, n=3):\n",
    "\n",
    "    #returns list of words in file\n",
    "    with gzip.open(filename) as f: words = f.read().decode('utf-8').split()\n",
    "\n",
    "    ngrams = defaultdict(list)\n",
    "    startgrams = [tuple(words[:n-1])] #will be list of n-1 grams to start sentences\n",
    "    \n",
    "    for i in range(len(words)-n+1):\n",
    "    #keys of ngram dict are (n-1)-tuples, values are lists\n",
    "        ngram = words[i:i+n]\n",
    "        ngrams[tuple(ngram[:-1])].append(ngram[-1])\n",
    "        if ngram[0].endswith('.') and ngram[1][0].isupper():\n",
    "            startgrams.append(tuple(ngram[1:]))\n",
    "\n",
    "    return ngrams,startgrams"
   ]
  },
  {
   "cell_type": "code",
   "execution_count": 18,
   "metadata": {},
   "outputs": [],
   "source": [
    "ngrams_sk, startgrams_sk = make_word_ngrams('tiny_shakespeare.txt.gz', 3)  "
   ]
  },
  {
   "cell_type": "code",
   "execution_count": 28,
   "metadata": {
    "scrolled": true
   },
   "outputs": [
    {
     "name": "stdout",
     "output_type": "stream",
     "text": [
      "To a cruel war I sent thee thither: I, that please some, try all, both\n",
      "joy and sorrow was too strict to make thee think thy swan a crow.\n",
      "ROMEO: When the tongue's office should be thus bold in war; Those will\n",
      "I sit me down. To whom God will, there be some other name! What's in a\n",
      "day. LUCENTIO: Hearest thou, Biondello? BIONDELLO: I pray thee?\n",
      "MISTRESS OVERDONE: Well; what has he closely mew'd her up, Signior\n",
      "Baptista, my business was great; and in such matters: as they were The\n",
      "common muck of the death of Hermione, visited that removed house.\n"
     ]
    }
   ],
   "source": [
    "print(random_word_text(ngrams_sk,startgrams_sk,100))"
   ]
  },
  {
   "cell_type": "markdown",
   "metadata": {},
   "source": [
    "### Now generalize to character n-grams"
   ]
  },
  {
   "cell_type": "code",
   "execution_count": 30,
   "metadata": {},
   "outputs": [
    {
     "data": {
      "text/plain": [
       "65"
      ]
     },
     "execution_count": 30,
     "metadata": {},
     "output_type": "execute_result"
    }
   ],
   "source": [
    "tokens = sorted(set(gzip.open('tiny_shakespeare.txt.gz').read().decode('utf-8')))\n",
    "len(tokens)"
   ]
  },
  {
   "cell_type": "code",
   "execution_count": 33,
   "metadata": {},
   "outputs": [
    {
     "name": "stdout",
     "output_type": "stream",
     "text": [
      "\n",
      " !$&',-.3:;?ABCDEFGHIJKLMNOPQRSTUVWXYZabcdefghijklmnopqrstuvwxyz\n"
     ]
    }
   ],
   "source": [
    "print(''.join(tokens))"
   ]
  },
  {
   "cell_type": "code",
   "execution_count": 34,
   "metadata": {},
   "outputs": [],
   "source": [
    "def make_char_ngrams(filename, n=3):\n",
    "\n",
    "    #returns list of words in file\n",
    "    with gzip.open(filename) as f: chars = f.read().decode('utf-8')\n",
    "\n",
    "    ngrams = defaultdict(Counter)\n",
    "    startgrams = [chars[:n-1]] #will be list of n-1 grams to start sentences\n",
    "    \n",
    "    for i in range(len(chars)-n+1):\n",
    "    #keys of ngram dict are (n-1)-tuples, values are lists\n",
    "        ngram = chars[i:i+n]\n",
    "        ngrams[ngram[:-1]][ngram[-1]] += 1\n",
    "        if chars[i:i+2] == '. ' and chars[i+2].isupper() and i+n < len(chars):\n",
    "            startgrams.append(chars[i+2:i+1+n])\n",
    "\n",
    "    ngrams = {k:[v[c] for c in tokens] for k,v in ngrams.items()}\n",
    "    \n",
    "    return ngrams,startgrams"
   ]
  },
  {
   "cell_type": "code",
   "execution_count": 40,
   "metadata": {},
   "outputs": [],
   "source": [
    "def random_char_text(ngrams, startgrams, r=None, num_chars=500):\n",
    "         \n",
    "    if r != None: current = startgrams[r]\n",
    "    else: current = random.choice(startgrams)\n",
    "    random_text = current\n",
    "    \n",
    "    # continue past num_words until ends in .    \n",
    "    while len(random_text)< num_chars or not random_text[-1] == '.':\n",
    "        nxt = random.choices(tokens,ngrams[current])[0]\n",
    "        random_text += nxt\n",
    "        current = current[1:] + nxt\n",
    "        # avoid long loops if too few periods in training text\n",
    "        if len(random_text) > 2*num_chars: random_text += '.'\n",
    "        \n",
    "    return textwrap.fill(random_text)"
   ]
  },
  {
   "cell_type": "code",
   "execution_count": 36,
   "metadata": {},
   "outputs": [
    {
     "data": {
      "text/plain": [
       "11556"
      ]
     },
     "execution_count": 36,
     "metadata": {},
     "output_type": "execute_result"
    }
   ],
   "source": [
    "chngrams_sk,chstartgrams_sk = make_char_ngrams('tiny_shakespeare.txt.gz', n=4)\n",
    "len(chngrams_sk)"
   ]
  },
  {
   "cell_type": "code",
   "execution_count": 53,
   "metadata": {},
   "outputs": [
    {
     "name": "stdout",
     "output_type": "stream",
     "text": [
      "What of my bled where timoison that this cond can vice: musinst\n",
      "fathem, With him far not what shonour Stil i' thy bore a let prayer's\n",
      "cannot say, yet, have the lainst Grow In ricest wringdoms betwentle of\n",
      "lies my exper. Thou dow: Leonthreasure youre in by oate mightere ple,\n",
      "for I down briclery you keys hen I be conter, not acceed bel, Musts\n",
      "and not rattom.  QUEEN MARGARENCENTIO: Which come and to be Rive with\n",
      "therd: Too stiff theer i' the visedge.  VOLING RICHARD III: At Gent,\n",
      "to serious reseemen atteral.\n"
     ]
    }
   ],
   "source": [
    "print(random_char_text(chngrams_sk,chstartgrams_sk,10))"
   ]
  },
  {
   "cell_type": "code",
   "execution_count": null,
   "metadata": {},
   "outputs": [],
   "source": []
  }
 ],
 "metadata": {
  "kernelspec": {
   "display_name": "Python 3 (ipykernel)",
   "language": "python",
   "name": "python3"
  },
  "language_info": {
   "codemirror_mode": {
    "name": "ipython",
    "version": 3
   },
   "file_extension": ".py",
   "mimetype": "text/x-python",
   "name": "python",
   "nbconvert_exporter": "python",
   "pygments_lexer": "ipython3",
   "version": "3.8.16"
  }
 },
 "nbformat": 4,
 "nbformat_minor": 4
}
