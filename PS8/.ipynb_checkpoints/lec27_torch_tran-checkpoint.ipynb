{
 "cells": [
  {
   "cell_type": "code",
   "execution_count": 1,
   "id": "a95a8dba",
   "metadata": {},
   "outputs": [],
   "source": [
    "import torch, torch.nn as nn, numpy as np, gzip\n",
    "from torch.nn import functional as F\n",
    "\n",
    "# hyperparameters\n",
    "batch_size = 32 # how many independent sequences will we process in parallel?\n",
    "block_size = 8 # what is the maximum context length for predictions?\n",
    "learning_rate = 1e-2\n",
    "max_iters = 3000\n",
    "eval_interval = 300\n",
    "device = 'cuda' if torch.cuda.is_available() else 'cpu'\n",
    "eval_iters = 200"
   ]
  },
  {
   "cell_type": "code",
   "execution_count": 2,
   "id": "031e86c5",
   "metadata": {},
   "outputs": [],
   "source": [
    "# wget https://raw.githubusercontent.com/karpathy/char-rnn/master/data/tinyshakespeare/input.txt\n",
    "with gzip.open('tiny_shakespeare.txt.gz', 'rb') as f: text = f.read().decode('utf-8')"
   ]
  },
  {
   "cell_type": "code",
   "execution_count": null,
   "id": "e9f941c5",
   "metadata": {},
   "outputs": [],
   "source": [
    "print(text[:1000])"
   ]
  },
  {
   "cell_type": "code",
   "execution_count": 3,
   "id": "81c9bf6b",
   "metadata": {},
   "outputs": [
    {
     "data": {
      "text/plain": [
       "1115394"
      ]
     },
     "execution_count": 3,
     "metadata": {},
     "output_type": "execute_result"
    }
   ],
   "source": [
    "len(text)"
   ]
  },
  {
   "cell_type": "code",
   "execution_count": 4,
   "id": "44b6a15d",
   "metadata": {},
   "outputs": [
    {
     "name": "stdout",
     "output_type": "stream",
     "text": [
      "\n",
      " !$&',-.3:;?ABCDEFGHIJKLMNOPQRSTUVWXYZabcdefghijklmnopqrstuvwxyz \n",
      "vocabsize= 65\n"
     ]
    }
   ],
   "source": [
    "# here are all the unique characters that occur in this text\n",
    "chars = sorted(list(set(text)))\n",
    "vocab_size = len(chars)\n",
    "print(''.join(chars), '\\nvocabsize=', vocab_size)"
   ]
  },
  {
   "cell_type": "code",
   "execution_count": 5,
   "id": "803cc2ca",
   "metadata": {},
   "outputs": [],
   "source": [
    "# create a mapping from characters to integers\n",
    "stoi = { ch:i for i,ch in enumerate(chars) } #string to integer\n",
    "itos = { i:ch for i,ch in enumerate(chars) } #integer to string\n",
    "encode = lambda s: [stoi[c] for c in s] # encoder: take a string, output a list of integers\n",
    "decode = lambda l: ''.join([itos[i] for i in l]) # decoder: take a list of integers, output a string"
   ]
  },
  {
   "cell_type": "code",
   "execution_count": 6,
   "id": "c372a3cf",
   "metadata": {},
   "outputs": [
    {
     "data": {
      "text/plain": [
       "('\\n', ' ', '!', '...', 'y', 'z')"
      ]
     },
     "execution_count": 6,
     "metadata": {},
     "output_type": "execute_result"
    }
   ],
   "source": [
    "itos[0], itos[1], itos[2], '...', itos[63], itos[64]"
   ]
  },
  {
   "cell_type": "code",
   "execution_count": 7,
   "id": "e22c8130",
   "metadata": {},
   "outputs": [
    {
     "data": {
      "text/plain": [
       "63"
      ]
     },
     "execution_count": 7,
     "metadata": {},
     "output_type": "execute_result"
    }
   ],
   "source": [
    "stoi['y']"
   ]
  },
  {
   "cell_type": "code",
   "execution_count": 8,
   "id": "120e7db8",
   "metadata": {},
   "outputs": [
    {
     "name": "stdout",
     "output_type": "stream",
     "text": [
      "[46, 47, 1, 58, 46, 43, 56, 43]\n",
      "hi there\n"
     ]
    }
   ],
   "source": [
    "print(encode('hi there'))\n",
    "print(decode(encode('hi there')))"
   ]
  },
  {
   "cell_type": "code",
   "execution_count": 9,
   "id": "89ba34e0",
   "metadata": {},
   "outputs": [
    {
     "data": {
      "text/plain": [
       "(torch.Size([1115394]), torch.int64)"
      ]
     },
     "execution_count": 9,
     "metadata": {},
     "output_type": "execute_result"
    }
   ],
   "source": [
    "#encode all the shakespeare tex\n",
    "data = torch.tensor(encode(text), dtype=torch.long)\n",
    "data.shape, data.dtype"
   ]
  },
  {
   "cell_type": "code",
   "execution_count": 10,
   "id": "e150a3eb",
   "metadata": {},
   "outputs": [
    {
     "data": {
      "text/plain": [
       "tensor([18, 47, 56, 57, 58,  1, 15, 47, 58, 47, 64, 43, 52, 10,  0, 14, 43, 44,\n",
       "        53, 56, 43,  1, 61, 43,  1, 54, 56, 53, 41, 43, 43, 42,  1, 39, 52, 63,\n",
       "         1, 44, 59, 56, 58, 46, 43, 56,  6,  1, 46, 43, 39, 56,  1, 51, 43,  1,\n",
       "        57, 54, 43, 39, 49,  8,  0,  0, 13, 50, 50, 10,  0, 31, 54, 43, 39, 49,\n",
       "         6,  1, 57, 54, 43, 39, 49,  8,  0,  0, 18, 47, 56, 57, 58,  1, 15, 47,\n",
       "        58, 47, 64, 43, 52, 10,  0, 37, 53, 59])"
      ]
     },
     "execution_count": 10,
     "metadata": {},
     "output_type": "execute_result"
    }
   ],
   "source": [
    "data[:100]"
   ]
  },
  {
   "cell_type": "code",
   "execution_count": 11,
   "id": "19ed5efd",
   "metadata": {},
   "outputs": [],
   "source": [
    "# Train and test splits\n",
    "n = int(0.9*len(data)) # first 90% will be train, rest val\n",
    "train_data = data[:n]\n",
    "val_data = data[n:]"
   ]
  },
  {
   "cell_type": "code",
   "execution_count": 12,
   "id": "158372ae",
   "metadata": {
    "scrolled": true
   },
   "outputs": [
    {
     "data": {
      "text/plain": [
       "tensor([18, 47, 56, 57, 58,  1, 15, 47, 58])"
      ]
     },
     "execution_count": 12,
     "metadata": {},
     "output_type": "execute_result"
    }
   ],
   "source": [
    "train_data[:block_size+1]"
   ]
  },
  {
   "cell_type": "code",
   "execution_count": 13,
   "id": "46583149",
   "metadata": {},
   "outputs": [
    {
     "name": "stdout",
     "output_type": "stream",
     "text": [
      "when input is tensor([18]) the target: 47\n",
      "when input is tensor([18, 47]) the target: 56\n",
      "when input is tensor([18, 47, 56]) the target: 57\n",
      "when input is tensor([18, 47, 56, 57]) the target: 58\n",
      "when input is tensor([18, 47, 56, 57, 58]) the target: 1\n",
      "when input is tensor([18, 47, 56, 57, 58,  1]) the target: 15\n",
      "when input is tensor([18, 47, 56, 57, 58,  1, 15]) the target: 47\n",
      "when input is tensor([18, 47, 56, 57, 58,  1, 15, 47]) the target: 58\n"
     ]
    }
   ],
   "source": [
    "#lot's of examples in every block\n",
    "x = train_data[:block_size]\n",
    "y = train_data[1:block_size+1]\n",
    "for t in range(block_size):\n",
    "    context= x[:t+1]\n",
    "    target = y[t]\n",
    "    print(f'when input is {context} the target: {target}')"
   ]
  },
  {
   "cell_type": "code",
   "execution_count": 14,
   "id": "63fcd07f",
   "metadata": {},
   "outputs": [],
   "source": [
    "torch.manual_seed(1337)\n",
    "\n",
    "batch_size = 4 # indep seq processed in parallel\n",
    "block_size = 8 # max content length for predictions\n",
    "\n",
    "# data loading\n",
    "def get_batch(split):\n",
    "    # generate a small batch of data of inputs x and targets y\n",
    "    data = train_data if split == 'train' else val_data\n",
    "    ix = torch.randint(len(data) - block_size, (batch_size,))\n",
    "    x = torch.stack([data[i:i+block_size] for i in ix])\n",
    "    y = torch.stack([data[i+1:i+block_size+1] for i in ix])\n",
    "    x, y = x.to(device), y.to(device)\n",
    "    return x, y"
   ]
  },
  {
   "cell_type": "code",
   "execution_count": 15,
   "id": "18e6f395",
   "metadata": {},
   "outputs": [
    {
     "data": {
      "text/plain": [
       "(torch.Size([4, 8]), torch.Size([4, 8]))"
      ]
     },
     "execution_count": 15,
     "metadata": {},
     "output_type": "execute_result"
    }
   ],
   "source": [
    "xb,yb = get_batch('train')\n",
    "xb.shape, yb.shape"
   ]
  },
  {
   "cell_type": "code",
   "execution_count": 16,
   "id": "c8a9cf55",
   "metadata": {},
   "outputs": [
    {
     "name": "stdout",
     "output_type": "stream",
     "text": [
      "Let's he\n",
      "for that\n",
      "nt that \n",
      "MEO:|I p\n",
      "\n",
      "et's hea\n",
      "or that \n",
      "t that h\n",
      "EO:|I pa\n"
     ]
    }
   ],
   "source": [
    "for bl in xb:\n",
    "    print(decode(bl.tolist()).replace('\\n','|'))\n",
    "print()\n",
    "for bl in yb:\n",
    "    print(decode(bl.tolist()).replace('\\n','|')) #'\\n' to '|' just to see"
   ]
  },
  {
   "cell_type": "code",
   "execution_count": 17,
   "id": "433b42ba",
   "metadata": {
    "scrolled": false
   },
   "outputs": [
    {
     "name": "stdout",
     "output_type": "stream",
     "text": [
      "inputs:\n",
      " torch.Size([4, 8]) \n",
      " tensor([[24, 43, 58,  5, 57,  1, 46, 43],\n",
      "        [44, 53, 56,  1, 58, 46, 39, 58],\n",
      "        [52, 58,  1, 58, 46, 39, 58,  1],\n",
      "        [25, 17, 27, 10,  0, 21,  1, 54]]) targets:\n",
      " torch.Size([4, 8]) \n",
      " tensor([[43, 58,  5, 57,  1, 46, 43, 39],\n",
      "        [53, 56,  1, 58, 46, 39, 58,  1],\n",
      "        [58,  1, 58, 46, 39, 58,  1, 46],\n",
      "        [17, 27, 10,  0, 21,  1, 54, 39]])\n",
      "\n",
      "when input is [24], the target: 43\n",
      "when input is [24, 43], the target: 58\n",
      "when input is [24, 43, 58], the target: 5\n",
      "when input is [24, 43, 58, 5], the target: 57\n",
      "when input is [24, 43, 58, 5, 57], the target: 1\n",
      "when input is [24, 43, 58, 5, 57, 1], the target: 46\n",
      "when input is [24, 43, 58, 5, 57, 1, 46], the target: 43\n",
      "when input is [24, 43, 58, 5, 57, 1, 46, 43], the target: 39\n",
      "\n",
      "when input is [44], the target: 53\n",
      "when input is [44, 53], the target: 56\n",
      "when input is [44, 53, 56], the target: 1\n",
      "when input is [44, 53, 56, 1], the target: 58\n",
      "when input is [44, 53, 56, 1, 58], the target: 46\n",
      "when input is [44, 53, 56, 1, 58, 46], the target: 39\n",
      "when input is [44, 53, 56, 1, 58, 46, 39], the target: 58\n",
      "when input is [44, 53, 56, 1, 58, 46, 39, 58], the target: 1\n",
      "\n",
      "when input is [52], the target: 58\n",
      "when input is [52, 58], the target: 1\n",
      "when input is [52, 58, 1], the target: 58\n",
      "when input is [52, 58, 1, 58], the target: 46\n",
      "when input is [52, 58, 1, 58, 46], the target: 39\n",
      "when input is [52, 58, 1, 58, 46, 39], the target: 58\n",
      "when input is [52, 58, 1, 58, 46, 39, 58], the target: 1\n",
      "when input is [52, 58, 1, 58, 46, 39, 58, 1], the target: 46\n",
      "\n",
      "when input is [25], the target: 17\n",
      "when input is [25, 17], the target: 27\n",
      "when input is [25, 17, 27], the target: 10\n",
      "when input is [25, 17, 27, 10], the target: 0\n",
      "when input is [25, 17, 27, 10, 0], the target: 21\n",
      "when input is [25, 17, 27, 10, 0, 21], the target: 1\n",
      "when input is [25, 17, 27, 10, 0, 21, 1], the target: 54\n",
      "when input is [25, 17, 27, 10, 0, 21, 1, 54], the target: 39\n"
     ]
    }
   ],
   "source": [
    "print('inputs:\\n',xb.shape,'\\n',xb,'targets:\\n',yb.shape,'\\n',yb)\n",
    "\n",
    "#4x8 array contains 32 independent examples\n",
    "\n",
    "for b in range(batch_size):\n",
    "    print()\n",
    "    for t in range(block_size):\n",
    "        context = xb[b,:t+1]\n",
    "        target =  yb[b,t]\n",
    "        print(f'when input is {context.tolist()}, the target: {target}')"
   ]
  },
  {
   "cell_type": "code",
   "execution_count": 18,
   "id": "13ee65a7",
   "metadata": {},
   "outputs": [],
   "source": [
    "# super simple bigram model,just creates \n",
    "class BigramLanguageModel(nn.Module):\n",
    "\n",
    "    def __init__(self, vocab_size):\n",
    "        super().__init__()\n",
    "        # each token directly reads off the logits for the next token from a lookup table\n",
    "        self.token_embedding_table = nn.Embedding(vocab_size, vocab_size) # 65x65 table\n",
    "\n",
    "    def forward(self, idx, targets=None):\n",
    "\n",
    "        # idx and targets are both (B,T) tensor of integers\n",
    "        logits = self.token_embedding_table(idx) # (B,T,C)\n",
    "\n",
    "        return logits #scores for next value of sequence\n",
    "\n",
    "#(B,T,C) = (batch, time, channel) = 4, 8, 65"
   ]
  },
  {
   "cell_type": "code",
   "execution_count": 19,
   "id": "05d6c76c",
   "metadata": {},
   "outputs": [
    {
     "data": {
      "text/plain": [
       "torch.Size([4, 8, 65])"
      ]
     },
     "execution_count": 19,
     "metadata": {},
     "output_type": "execute_result"
    }
   ],
   "source": [
    "# nn.Embedding(vocab_size, vocab_size) just returns the 65 numbers for each of the 4x8 inputs\n",
    "m = BigramLanguageModel(vocab_size)\n",
    "out = m(xb, yb)\n",
    "out.shape # predictions for all the positions"
   ]
  },
  {
   "cell_type": "markdown",
   "id": "0a0ec495",
   "metadata": {},
   "source": [
    "Now calculate a training loss, doesn't yet have a generate function:"
   ]
  },
  {
   "cell_type": "code",
   "execution_count": 20,
   "id": "a55aa3b9",
   "metadata": {},
   "outputs": [],
   "source": [
    "# super simple bigram model\n",
    "class BigramLanguageModel(nn.Module):\n",
    "\n",
    "    def __init__(self, vocab_size):\n",
    "        super().__init__()\n",
    "        # each token directly reads off the logits for the next token from a lookup table\n",
    "        self.token_embedding_table = nn.Embedding(vocab_size, vocab_size)\n",
    "\n",
    "    def forward(self, idx, targets=None):\n",
    "\n",
    "        # idx and targets are both (B,T) tensor of integers\n",
    "        logits = self.token_embedding_table(idx) # (B,T,C)\n",
    "\n",
    "        B, T, C = logits.shape\n",
    "        #cross entropy wants B*T x C instead of B x T x C, so flatten via .view()\n",
    "        logits = logits.view(B*T, C)\n",
    "        targets = targets.view(B*T)\n",
    "        loss = F.cross_entropy(logits, targets)\n",
    "\n",
    "        return logits, loss"
   ]
  },
  {
   "cell_type": "code",
   "execution_count": 21,
   "id": "9ab50da0",
   "metadata": {},
   "outputs": [
    {
     "data": {
      "text/plain": [
       "(torch.Size([32, 65]), tensor(4.7288, grad_fn=<NllLossBackward0>))"
      ]
     },
     "execution_count": 21,
     "metadata": {},
     "output_type": "execute_result"
    }
   ],
   "source": [
    "#4x8 flattened to 32\n",
    "m = BigramLanguageModel(vocab_size)\n",
    "logits,loss = m(xb, yb)\n",
    "logits.shape, loss"
   ]
  },
  {
   "cell_type": "code",
   "execution_count": 22,
   "id": "3e735940",
   "metadata": {},
   "outputs": [
    {
     "data": {
      "text/plain": [
       "(4.174387269895637, tensor(4.1744))"
      ]
     },
     "execution_count": 22,
     "metadata": {},
     "output_type": "execute_result"
    }
   ],
   "source": [
    "#expected loss for random guessing -log(1/65) = log(65)\n",
    "np.log(65), torch.log(torch.tensor(65))"
   ]
  },
  {
   "cell_type": "markdown",
   "id": "61b9d4e1",
   "metadata": {},
   "source": [
    "Now add the generate:"
   ]
  },
  {
   "cell_type": "code",
   "execution_count": 23,
   "id": "b9d37554",
   "metadata": {},
   "outputs": [],
   "source": [
    "# super simple bigram model\n",
    "class BigramLanguageModel(nn.Module):\n",
    "\n",
    "    def __init__(self, vocab_size):\n",
    "        super().__init__()\n",
    "        # each token directly reads off the logits for the next token from a lookup table\n",
    "        self.token_embedding_table = nn.Embedding(vocab_size, vocab_size)\n",
    "\n",
    "    def forward(self, idx, targets=None):\n",
    "\n",
    "        # idx and targets are both (B,T) tensor of integers\n",
    "        logits = self.token_embedding_table(idx) # (B,T,C)\n",
    "\n",
    "        if targets is None: #called via self(idx) below, if without targets yet\n",
    "            loss = None\n",
    "        else:\n",
    "            B, T, C = logits.shape\n",
    "            logits = logits.view(B*T, C)\n",
    "            targets = targets.view(B*T)\n",
    "            loss = F.cross_entropy(logits, targets)\n",
    "\n",
    "        return logits, loss\n",
    "\n",
    "    def generate(self, idx, max_new_tokens):\n",
    "        # idx is (B, T) array of indices in the current context\n",
    "        for _ in range(max_new_tokens):\n",
    "            logits, loss = self(idx) # get the predictions\n",
    "            # focus only on the last time step\n",
    "            logits = logits[:, -1, :] # only use last elt in time dimension, becomes (B, C), and a bigram model\n",
    "            # apply softmax to get probabilities\n",
    "            probs = F.softmax(logits, dim=-1) # (B, C)\n",
    "            idx_next = torch.multinomial(probs, num_samples=1) # (B, 1), one sample for each\n",
    "            idx = torch.cat((idx, idx_next), dim=1) # append sampled index to the running sequence, (B, T+1)\n",
    "        return idx #now extended by max_new_tokens"
   ]
  },
  {
   "cell_type": "code",
   "execution_count": 24,
   "id": "170980c9",
   "metadata": {},
   "outputs": [
    {
     "data": {
      "text/plain": [
       "(torch.Size([32, 65]), tensor(4.2793, grad_fn=<NllLossBackward0>))"
      ]
     },
     "execution_count": 24,
     "metadata": {},
     "output_type": "execute_result"
    }
   ],
   "source": [
    "m = BigramLanguageModel(vocab_size) #now with generate\n",
    "logits,loss = m(xb, yb)\n",
    "logits.shape, loss"
   ]
  },
  {
   "cell_type": "code",
   "execution_count": 25,
   "id": "1bfcd5db",
   "metadata": {},
   "outputs": [
    {
     "name": "stdout",
     "output_type": "stream",
     "text": [
      "\n",
      "MufR3!yC NHKGY?C3eDEGMp-VCcZN3aoRN&powfXmB.EOX.aFl3sitGj&WcGpoEfRvHLbR?\n",
      "JxHofRX,MccAWBTF.ALF$mQ;!GY:\n"
     ]
    }
   ],
   "source": [
    "# generate from the model\n",
    "context = torch.zeros((1, 1), dtype=torch.long, device=device) #B=T=1, start with single 0 = \\n as context\n",
    "print(decode(m.generate(context, max_new_tokens=100)[0].tolist())) # get 500 tokens"
   ]
  },
  {
   "cell_type": "markdown",
   "id": "a99dedd2",
   "metadata": {},
   "source": [
    "Not yet trained, and only looking at embedding value for last element in string so not expecting anything coherent, but will use same function to look further back in history.\n",
    "\n",
    "Now define optimizer to train it:"
   ]
  },
  {
   "cell_type": "code",
   "execution_count": 26,
   "id": "776a334d",
   "metadata": {},
   "outputs": [],
   "source": [
    "model = BigramLanguageModel(vocab_size)\n",
    "m = model.to(device)\n",
    "\n",
    "batch_size=32\n",
    "# create a PyTorch optimizer\n",
    "learning_rate = 1e-3 # 1e-2, 1e-4\n",
    "optimizer = torch.optim.AdamW(model.parameters(), lr=learning_rate)"
   ]
  },
  {
   "cell_type": "code",
   "execution_count": 27,
   "id": "097a53cd",
   "metadata": {},
   "outputs": [],
   "source": [
    "#utility function to report loses\n",
    "\n",
    "@torch.no_grad() #deactivates auto-grad, no backprop, reduce memory usage, speed up computations\n",
    "def estimate_loss():\n",
    "    out = {}\n",
    "    model.eval()  #doesn't do anything yet, no dropout or batchnorm layers\n",
    "    for split in ['train', 'val']:\n",
    "        losses = torch.zeros(eval_iters)\n",
    "        for k in range(eval_iters):\n",
    "            X, Y = get_batch(split)\n",
    "            logits, loss = model(X, Y)\n",
    "            losses[k] = loss.item()\n",
    "        out[split] = losses.mean()\n",
    "    model.train()\n",
    "    return out"
   ]
  },
  {
   "cell_type": "code",
   "execution_count": 28,
   "id": "4847cb0e",
   "metadata": {},
   "outputs": [
    {
     "name": "stdout",
     "output_type": "stream",
     "text": [
      "step 0: train loss 2.4617, val loss 2.4792\n",
      "step 300: train loss 2.4618, val loss 2.4839\n",
      "step 600: train loss 2.4563, val loss 2.4819\n",
      "step 900: train loss 2.4632, val loss 2.4863\n",
      "step 1200: train loss 2.4580, val loss 2.4896\n",
      "step 1500: train loss 2.4514, val loss 2.4844\n",
      "step 1800: train loss 2.4564, val loss 2.4768\n",
      "step 2100: train loss 2.4591, val loss 2.4953\n",
      "step 2400: train loss 2.4593, val loss 2.4709\n",
      "step 2700: train loss 2.4576, val loss 2.4834\n"
     ]
    }
   ],
   "source": [
    "for iter in range(max_iters):\n",
    "    # every once in a while evaluate the loss on train and val sets\n",
    "    if iter % eval_interval == 0:\n",
    "        losses = estimate_loss()  #average loss over multiple batches, less noisy\n",
    "        print(f\"step {iter}: train loss {losses['train']:.4f}, val loss {losses['val']:.4f}\")\n",
    "\n",
    "    # sample a batch of data\n",
    "    xb, yb = get_batch('train')\n",
    "\n",
    "    # evaluate the loss\n",
    "    logits, loss = model(xb, yb)\n",
    "    optimizer.zero_grad(set_to_none=True)\n",
    "    loss.backward()\n",
    "    optimizer.step()"
   ]
  },
  {
   "cell_type": "code",
   "execution_count": 29,
   "id": "da70d67c",
   "metadata": {},
   "outputs": [
    {
     "name": "stdout",
     "output_type": "stream",
     "text": [
      "\n",
      "Fan cher t wou ty s cer thaper could ul thas end wallouled\n",
      "ARI:\n",
      "Sake,XFinndichaivece lix; ckik:\n",
      "\n",
      "ADWhanduno thiow t io nag buty:\n",
      "Fo dithar athin' rve t s Hibrd le ord, GLI he dordorthing us t w\n",
      "AMLINENGoulisf th nerd y wid ackerur de\n",
      "Tom de ash les ar3CHUSSI sobesht towe.\n",
      "I wr S:\n",
      "\n",
      "TMEE n; ede d INCO s ho y th o wie:\n",
      "TExend ano parr areas.\n",
      "Whatwndud I suced hist yorig gn beald mbucike, hagor.\n",
      "LORKI\n"
     ]
    }
   ],
   "source": [
    "# generate from trained model, reasonable-ish for bigram model?\n",
    "context = torch.zeros((1, 1), dtype=torch.long, device=device) #B=T=1, 0 = \\n\n",
    "print(decode(m.generate(context, max_new_tokens=400)[0].tolist())) # get 400 tokens"
   ]
  },
  {
   "cell_type": "markdown",
   "id": "b06c48e6",
   "metadata": {},
   "source": [
    "**Note:** why does minimizing the loss by backpropagation lead to the bigram probability distribution in this case?\n",
    "\n",
    "Consider a single letter, say 'a'. Many other letters appear after 'a' in the training set so the loss can never be zero. Suppose the empirical (via number counts) distribution of letters following 'a' is some set of probabilities $q_i$, and suppose the probabilities predicted by the model are $p_i$. Then the loss, when character $i$ is the correct answer, is $-\\log p_i$. In the training set, $i$ is correct a fraction $q_i$ of the time, so the expected loss is $-\\sum q_i \\log p_i$, with the constraint that $\\sum_i p_i =1$. Using a Lagrange multiplier to impose the constraint, and taking derivatives with respect to the $p_i$ and setting them to zero gives the unique minimum, with $p_i=q_i$ for all $i$. The same is true for the predictions of letters following any other letter, so minimizing the cross-entropy loss in this simple case leads to predictions that converge on the empirical bigram probability distribution."
   ]
  },
  {
   "cell_type": "markdown",
   "id": "accbea5b",
   "metadata": {},
   "source": [
    "# mathematical trick in self-attention"
   ]
  },
  {
   "cell_type": "code",
   "execution_count": 30,
   "id": "9e30b0d7",
   "metadata": {},
   "outputs": [
    {
     "data": {
      "text/plain": [
       "torch.Size([4, 8, 2])"
      ]
     },
     "execution_count": 30,
     "metadata": {},
     "output_type": "execute_result"
    }
   ],
   "source": [
    "B,T,C = 4,8,2 #batch, time, channels\n",
    "x = torch.randn(B,T,C)\n",
    "x.shape"
   ]
  },
  {
   "cell_type": "markdown",
   "id": "22f52078",
   "metadata": {},
   "source": [
    "Want tokens to talk to each other, but\n",
    "tokens should only communicate with earlier ones, so for the 5th token take the average over the previous ones (weak form of interaction, but will be improved)"
   ]
  },
  {
   "cell_type": "code",
   "execution_count": 31,
   "id": "16cfa105",
   "metadata": {},
   "outputs": [],
   "source": [
    "# Version 1\n",
    "# We want x[b,t] = mean_{i<=t} x[b,i]\n",
    "#version 1\n",
    "xbow = torch.zeros((B,T,C))  #bag of words\n",
    "for b in range(B):\n",
    "    for t in range(T):\n",
    "        xprev = x[b,:t+1] # (t,C)\n",
    "        xbow[b,t] = torch.mean(xprev, 0)"
   ]
  },
  {
   "cell_type": "code",
   "execution_count": 32,
   "id": "e9b0cb3e",
   "metadata": {},
   "outputs": [
    {
     "data": {
      "text/plain": [
       "tensor([[ 0.5881, -0.8298],\n",
       "        [-0.6216,  0.1701],\n",
       "        [ 0.8077,  0.4167],\n",
       "        [-1.9930,  0.5087],\n",
       "        [-0.7838, -2.1713],\n",
       "        [-0.0594,  0.5931],\n",
       "        [-0.8105, -0.4394],\n",
       "        [ 0.6405,  0.9083]])"
      ]
     },
     "execution_count": 32,
     "metadata": {},
     "output_type": "execute_result"
    }
   ],
   "source": [
    "x[0]"
   ]
  },
  {
   "cell_type": "code",
   "execution_count": 33,
   "id": "beb08632",
   "metadata": {},
   "outputs": [
    {
     "data": {
      "text/plain": [
       "tensor([[ 0.5881, -0.8298],\n",
       "        [-0.0168, -0.3298],\n",
       "        [ 0.2580, -0.0810],\n",
       "        [-0.3047,  0.0664],\n",
       "        [-0.4005, -0.3811],\n",
       "        [-0.3437, -0.2187],\n",
       "        [-0.4104, -0.2503],\n",
       "        [-0.2790, -0.1054]])"
      ]
     },
     "execution_count": 33,
     "metadata": {},
     "output_type": "execute_result"
    }
   ],
   "source": [
    "xbow[0] #succesive entries are averages of the ones above"
   ]
  },
  {
   "cell_type": "code",
   "execution_count": 34,
   "id": "5833765c",
   "metadata": {
    "scrolled": true
   },
   "outputs": [
    {
     "data": {
      "text/plain": [
       "tensor([[1., 0., 0.],\n",
       "        [1., 1., 0.],\n",
       "        [1., 1., 1.]])"
      ]
     },
     "execution_count": 34,
     "metadata": {},
     "output_type": "execute_result"
    }
   ],
   "source": [
    "# lower triangular\n",
    "torch.tril(torch.ones(3, 3))"
   ]
  },
  {
   "cell_type": "code",
   "execution_count": 35,
   "id": "46a003e3",
   "metadata": {},
   "outputs": [
    {
     "data": {
      "text/plain": [
       "tensor([[1.0000, 0.0000, 0.0000],\n",
       "        [0.5000, 0.5000, 0.0000],\n",
       "        [0.3333, 0.3333, 0.3333]])"
      ]
     },
     "execution_count": 35,
     "metadata": {},
     "output_type": "execute_result"
    }
   ],
   "source": [
    "a = torch.tril(torch.ones(3, 3))\n",
    "a / torch.sum(a, 1, keepdim=True)"
   ]
  },
  {
   "cell_type": "code",
   "execution_count": 36,
   "id": "248c7a1c",
   "metadata": {},
   "outputs": [
    {
     "name": "stdout",
     "output_type": "stream",
     "text": [
      "a=\n",
      " tensor([[1.0000, 0.0000, 0.0000],\n",
      "        [0.5000, 0.5000, 0.0000],\n",
      "        [0.3333, 0.3333, 0.3333]]) \n",
      "--\n",
      "b= tensor([[2., 7.],\n",
      "        [6., 4.],\n",
      "        [6., 5.]]) \n",
      "--\n",
      "c= tensor([[2.0000, 7.0000],\n",
      "        [4.0000, 5.5000],\n",
      "        [4.6667, 5.3333]])\n"
     ]
    }
   ],
   "source": [
    "#trick using matrix multiplication\n",
    "# toy example illustrating how matrix multiplication can be used for a \"weighted aggregation\"\n",
    "torch.manual_seed(42)\n",
    "#a = torch.ones(3, 3)\n",
    "a = torch.tril(torch.ones(3, 3))\n",
    "a = a / torch.sum(a, 1, keepdim=True)\n",
    "b = torch.randint(0,10,(3,2)).float()\n",
    "c = a @ b\n",
    "print('a=\\n',a,'\\n--\\nb=', b, '\\n--\\nc=', c)"
   ]
  },
  {
   "cell_type": "code",
   "execution_count": 37,
   "id": "1c8c7aa5",
   "metadata": {},
   "outputs": [
    {
     "data": {
      "text/plain": [
       "True"
      ]
     },
     "execution_count": 37,
     "metadata": {},
     "output_type": "execute_result"
    }
   ],
   "source": [
    "# version 2: using matrix multiply for a weighted aggregation\n",
    "wei = torch.tril(torch.ones(T, T))\n",
    "wei = wei / wei.sum(1, keepdim=True)\n",
    "# (T,T) @ (B,T,C) broadcast\n",
    "xbow2 = wei @ x # (B, T, T) @ (B, T, C) ----> (B, T, C)\n",
    "torch.allclose(xbow, xbow2)"
   ]
  },
  {
   "cell_type": "code",
   "execution_count": 38,
   "id": "5e10be0c",
   "metadata": {},
   "outputs": [
    {
     "data": {
      "text/plain": [
       "(tensor([[ 0.5881, -0.8298],\n",
       "         [-0.0168, -0.3298],\n",
       "         [ 0.2580, -0.0810],\n",
       "         [-0.3047,  0.0664],\n",
       "         [-0.4005, -0.3811],\n",
       "         [-0.3437, -0.2187],\n",
       "         [-0.4104, -0.2503],\n",
       "         [-0.2790, -0.1054]]),\n",
       " tensor([[ 0.5881, -0.8298],\n",
       "         [-0.0168, -0.3298],\n",
       "         [ 0.2580, -0.0810],\n",
       "         [-0.3047,  0.0664],\n",
       "         [-0.4005, -0.3811],\n",
       "         [-0.3437, -0.2187],\n",
       "         [-0.4104, -0.2503],\n",
       "         [-0.2790, -0.1054]]))"
      ]
     },
     "execution_count": 38,
     "metadata": {},
     "output_type": "execute_result"
    }
   ],
   "source": [
    "xbow[0], xbow2[0]"
   ]
  },
  {
   "cell_type": "code",
   "execution_count": 39,
   "id": "9a209628",
   "metadata": {
    "scrolled": true
   },
   "outputs": [
    {
     "data": {
      "text/plain": [
       "tensor([[1., 0., 0., 0., 0., 0., 0., 0.],\n",
       "        [1., 1., 0., 0., 0., 0., 0., 0.],\n",
       "        [1., 1., 1., 0., 0., 0., 0., 0.],\n",
       "        [1., 1., 1., 1., 0., 0., 0., 0.],\n",
       "        [1., 1., 1., 1., 1., 0., 0., 0.],\n",
       "        [1., 1., 1., 1., 1., 1., 0., 0.],\n",
       "        [1., 1., 1., 1., 1., 1., 1., 0.],\n",
       "        [1., 1., 1., 1., 1., 1., 1., 1.]])"
      ]
     },
     "execution_count": 39,
     "metadata": {},
     "output_type": "execute_result"
    }
   ],
   "source": [
    "tril = torch.tril(torch.ones(T, T))\n",
    "tril"
   ]
  },
  {
   "cell_type": "code",
   "execution_count": 40,
   "id": "f171aa59",
   "metadata": {},
   "outputs": [
    {
     "data": {
      "text/plain": [
       "tensor([[0., -inf, -inf, -inf, -inf, -inf, -inf, -inf],\n",
       "        [0., 0., -inf, -inf, -inf, -inf, -inf, -inf],\n",
       "        [0., 0., 0., -inf, -inf, -inf, -inf, -inf],\n",
       "        [0., 0., 0., 0., -inf, -inf, -inf, -inf],\n",
       "        [0., 0., 0., 0., 0., -inf, -inf, -inf],\n",
       "        [0., 0., 0., 0., 0., 0., -inf, -inf],\n",
       "        [0., 0., 0., 0., 0., 0., 0., -inf],\n",
       "        [0., 0., 0., 0., 0., 0., 0., 0.]])"
      ]
     },
     "execution_count": 40,
     "metadata": {},
     "output_type": "execute_result"
    }
   ],
   "source": [
    "torch.zeros((T,T)).masked_fill(tril == 0, float('-inf'))"
   ]
  },
  {
   "cell_type": "code",
   "execution_count": 41,
   "id": "c35aacd5",
   "metadata": {},
   "outputs": [
    {
     "data": {
      "text/plain": [
       "tensor([[1.0000, 0.0000, 0.0000, 0.0000, 0.0000, 0.0000, 0.0000, 0.0000],\n",
       "        [0.5000, 0.5000, 0.0000, 0.0000, 0.0000, 0.0000, 0.0000, 0.0000],\n",
       "        [0.3333, 0.3333, 0.3333, 0.0000, 0.0000, 0.0000, 0.0000, 0.0000],\n",
       "        [0.2500, 0.2500, 0.2500, 0.2500, 0.0000, 0.0000, 0.0000, 0.0000],\n",
       "        [0.2000, 0.2000, 0.2000, 0.2000, 0.2000, 0.0000, 0.0000, 0.0000],\n",
       "        [0.1667, 0.1667, 0.1667, 0.1667, 0.1667, 0.1667, 0.0000, 0.0000],\n",
       "        [0.1429, 0.1429, 0.1429, 0.1429, 0.1429, 0.1429, 0.1429, 0.0000],\n",
       "        [0.1250, 0.1250, 0.1250, 0.1250, 0.1250, 0.1250, 0.1250, 0.1250]])"
      ]
     },
     "execution_count": 41,
     "metadata": {},
     "output_type": "execute_result"
    }
   ],
   "source": [
    "F.softmax(torch.zeros((T,T)).masked_fill(tril == 0, float('-inf')), dim=-1)"
   ]
  },
  {
   "cell_type": "code",
   "execution_count": 42,
   "id": "c9e084a0",
   "metadata": {},
   "outputs": [
    {
     "data": {
      "text/plain": [
       "True"
      ]
     },
     "execution_count": 42,
     "metadata": {},
     "output_type": "execute_result"
    }
   ],
   "source": [
    "# version 3: use Softmax\n",
    "tril = torch.tril(torch.ones(T, T))\n",
    "wei = torch.zeros((T,T))  #interaction strength, affinities will be data dependent\n",
    "wei = wei.masked_fill(tril == 0, float('-inf'))  #from past can't communicate\n",
    "wei = F.softmax(wei, dim=-1)\n",
    "xbow3 = wei @ x  #aggregate values depending how interesting find each other => self-attention\n",
    "torch.allclose(xbow, xbow3)"
   ]
  },
  {
   "cell_type": "markdown",
   "id": "ecb28c97",
   "metadata": {},
   "source": [
    "implement the weighted aggregation using matrix multiplication `@`:<br>\n",
    "some tokens will find other tokens more or less interesting\n",
    "\n",
    "determining affinities in this data-dependent way is called 'self-attention'<br>\n",
    "for each character, we learn three vectors (sets of numbers in same embedding dimension `head_size`):<br>\n",
    "\n",
    "query vector = a character \"broadcasts\" what it's looking for<br>\n",
    "key vector = other characters \"respond\" with what they contain<br>\n",
    "value vector = what the other characters contribute (the quantity to be weighted in the sum)\n",
    "\n",
    "multiply key and query together pairwise and sum (dot product) gives the context-dependent affinities.<br>\n",
    "If key and query are aligned, then learn more about that token by giving greater weight to its contribution (its vale vector).<br>"
   ]
  },
  {
   "cell_type": "code",
   "execution_count": 43,
   "id": "adf2069a",
   "metadata": {},
   "outputs": [
    {
     "data": {
      "text/plain": [
       "torch.Size([4, 8, 16])"
      ]
     },
     "execution_count": 43,
     "metadata": {},
     "output_type": "execute_result"
    }
   ],
   "source": [
    "# version 4: self-attention!\n",
    "torch.manual_seed(1337)\n",
    "B,T,C = 4,8,32 # batch, time, channels\n",
    "x = torch.randn(B,T,C)\n",
    "\n",
    "# let's see a single Head perform self-attention\n",
    "head_size = 16\n",
    "\n",
    "key = nn.Linear(C, head_size, bias=False) #so matrix mult with fixed weights\n",
    "query = nn.Linear(C, head_size, bias=False)\n",
    "value = nn.Linear(C, head_size, bias=False)\n",
    "\n",
    "k = key(x)   # (B, T, 16)\n",
    "q = query(x) # (B, T, 16)\n",
    "\n",
    "#all produce key and query, no communication yet, but now all queries dot product all keys\n",
    "wei =  q @ k.transpose(-2, -1) # (B, T, 16) @ (B, 16, T) ---> (B, T, T)\n",
    "#wei no longer starts at zero\n",
    "\n",
    "# now do what we did before, except no longer  #wei = torch.zeros((T,T))\n",
    "tril = torch.tril(torch.ones(T, T))\n",
    "wei = wei.masked_fill(tril == 0, float('-inf'))  #implements past only, delete for encoder block!\n",
    "wei = F.softmax(wei, dim=-1)\n",
    "\n",
    "#out = wei @ x  # not x, which would be (B,T,T) @ (B, T, C) -> B,T,C\n",
    "\n",
    "v = value(x) # (B, T, 16)\n",
    "out = wei @ v  # (B,T,T) @ (B, T, 16) -> B, T, head_size\n",
    "\n",
    "out.shape # (B, T, head_size)"
   ]
  },
  {
   "cell_type": "code",
   "execution_count": 44,
   "id": "770e0118",
   "metadata": {},
   "outputs": [
    {
     "data": {
      "text/plain": [
       "tensor([[1.0000, 0.0000, 0.0000, 0.0000, 0.0000, 0.0000, 0.0000, 0.0000],\n",
       "        [0.1574, 0.8426, 0.0000, 0.0000, 0.0000, 0.0000, 0.0000, 0.0000],\n",
       "        [0.2088, 0.1646, 0.6266, 0.0000, 0.0000, 0.0000, 0.0000, 0.0000],\n",
       "        [0.5792, 0.1187, 0.1889, 0.1131, 0.0000, 0.0000, 0.0000, 0.0000],\n",
       "        [0.0294, 0.1052, 0.0469, 0.0276, 0.7909, 0.0000, 0.0000, 0.0000],\n",
       "        [0.0176, 0.2689, 0.0215, 0.0089, 0.6812, 0.0019, 0.0000, 0.0000],\n",
       "        [0.1691, 0.4066, 0.0438, 0.0416, 0.1048, 0.2012, 0.0329, 0.0000],\n",
       "        [0.0210, 0.0843, 0.0555, 0.2297, 0.0573, 0.0709, 0.2423, 0.2391]],\n",
       "       grad_fn=<SelectBackward0>)"
      ]
     },
     "execution_count": 44,
     "metadata": {},
     "output_type": "execute_result"
    }
   ],
   "source": [
    "wei[0] # no longer constant"
   ]
  },
  {
   "cell_type": "markdown",
   "id": "b30fa28c",
   "metadata": {},
   "source": [
    "Consider the last row above. The eighth token knows what content it has, knows what position it's in, and based on that, creates a query for what it's looking for, metaphorically say<br>\n",
    "\"i'm a vowel, in this position, am looking for any consonants at positions up to four\"\n",
    "\n",
    "All the other nodes in turn emit keys, one might be \"I am a consonant, and am at position 4\"<br>\n",
    "That query/vector pair has a large dot product, so they find each other and create a high affinity .2297 indicating that the 4th position is interesting to the last one.<br>\n",
    "the info that the 4th position will give is stored in its v.<br>\n",
    "Through the softmax, etc, above that info is aggregated into the 8th position output of the transformer.\n",
    "\n",
    "Unlike convolution, there's no notion of space -- different positions can communicate fully (for decoders used to generate, with all past positions; and with all past and future positions for encoders used to analyze text for translation.)\n",
    "\n",
    "Self-attention is when the same source x produces the query/keys/values.<br>\n",
    "In cross-attention, it can come from different source (e.g., from an encoder if translating between languages).\n",
    "\n",
    "Dividing the query$\\cdot$key by the sqrt of the head_size keeps the variance constant so that multiple repeat stages don't cause the outputs to either explode or diminish excessively (preventing useful backpropagation).\n",
    "\n",
    "'Multi-head attention' just means include `n_head` separate attention blocks running in parallel, whose output is then concatenated together in a big wide vector of length `n_head*head_size` for the next layer of number crunching."
   ]
  },
  {
   "cell_type": "markdown",
   "id": "79961b23",
   "metadata": {},
   "source": [
    "(Karpthy) Notes:\n",
    "- Attention is a **communication mechanism**. Can be seen as nodes in a directed graph looking at each other and aggregating information with a weighted sum from all nodes that point to them, with data-dependent weights.\n",
    "- There is no notion of space. Attention simply acts over a set of vectors. This is why we need to positionally encode tokens.\n",
    "- Each example across batch dimension is of course processed completely independently and never \"talk\" to each other\n",
    "- In an \"encoder\" attention block just delete the single line that does masking with `tril`, allowing all tokens to communicate. This block here is called a \"decoder\" attention block because it has triangular masking, and is usually used in autoregressive settings, like language modeling.\n",
    "- \"self-attention\" just means that the keys and values are produced from the same source as queries. In \"cross-attention\", the queries still get produced from x, but the keys and values come from some other, external source (e.g. an encoder module)\n",
    "- \"Scaled\" attention additional divides `wei` by 1/sqrt(head_size). This makes it so when input Q,K are unit variance, wei will be unit variance too and Softmax will stay diffuse and not saturate too much. Illustration below"
   ]
  },
  {
   "cell_type": "code",
   "execution_count": 45,
   "id": "d0a82512",
   "metadata": {},
   "outputs": [],
   "source": [
    "# identically the code above\n",
    "class Head(nn.Module):\n",
    "    \"\"\" one head of self-attention \"\"\"\n",
    "\n",
    "    def __init__(self, head_size):\n",
    "        super().__init__()\n",
    "        self.key = nn.Linear(n_embd, head_size, bias=False)\n",
    "        self.query = nn.Linear(n_embd, head_size, bias=False)\n",
    "        self.value = nn.Linear(n_embd, head_size, bias=False)\n",
    "        self.register_buffer('tril', torch.tril(torch.ones(block_size, block_size)))\n",
    "\n",
    "        self.dropout = nn.Dropout(dropout)\n",
    "\n",
    "    def forward(self, x):\n",
    "        # input of size (batch, time-step, channels)\n",
    "        # output of size (batch, time-step, head size)\n",
    "        B,T,C = x.shape\n",
    "        k = self.key(x)   # (B,T,hs)\n",
    "        q = self.query(x) # (B,T,hs)\n",
    "        # compute attention scores (\"affinities\")\n",
    "        wei = q @ k.transpose(-2,-1) * k.shape[-1]**-0.5 # (B, T, hs) @ (B, hs, T) -> (B, T, T)\n",
    "                                          #normalize it so scaled attention\n",
    "        wei = wei.masked_fill(self.tril[:T, :T] == 0, float('-inf')) # (B, T, T) #future doesn't communicate \n",
    "                                                                                  #with past (decoder block)\n",
    "        wei = F.softmax(wei, dim=-1) # (B, T, T)\n",
    "        wei = self.dropout(wei)\n",
    "        # perform the weighted aggregation of the values\n",
    "        v = self.value(x) # (B,T,hs)\n",
    "        out = wei @ v   # (B, T, T) @ (B, T, hs) -> (B, T, hs)\n",
    "        return out"
   ]
  },
  {
   "cell_type": "code",
   "execution_count": 46,
   "id": "9afb4b84",
   "metadata": {},
   "outputs": [],
   "source": [
    "class MultiHeadAttention(nn.Module):\n",
    "    \"\"\" multiple heads of self-attention in parallel \"\"\"\n",
    "\n",
    "    def __init__(self, num_heads, head_size):\n",
    "        super().__init__()\n",
    "        self.heads = nn.ModuleList([Head(head_size) for _ in range(num_heads)])\n",
    "        self.proj = nn.Linear(n_embd, n_embd)\n",
    "        self.dropout = nn.Dropout(dropout)\n",
    "\n",
    "    def forward(self, x):\n",
    "        out = torch.cat([h(x) for h in self.heads], dim=-1)\n",
    "        out = self.dropout(self.proj(out))\n",
    "        return out\n",
    "\n",
    "class FeedForward(nn.Module):\n",
    "    \"\"\" a simple linear layer followed by a non-linearity \"\"\"\n",
    "\n",
    "    def __init__(self, n_embd):\n",
    "        super().__init__()\n",
    "        self.net = nn.Sequential(\n",
    "            nn.Linear(n_embd, 4 * n_embd), #add some computation intermediate layer\n",
    "            nn.ReLU(),\n",
    "            nn.Linear(4 * n_embd, n_embd),\n",
    "            nn.Dropout(dropout),\n",
    "        )\n",
    "\n",
    "    def forward(self, x):\n",
    "        return self.net(x)\n",
    "\n",
    "class Block(nn.Module):\n",
    "    \"\"\" Transformer block: communication followed by computation \"\"\"\n",
    "\n",
    "    def __init__(self, n_embd, n_head):\n",
    "        # n_embd: embedding dimension, n_head: the number of heads we'd like\n",
    "        super().__init__()\n",
    "        head_size = n_embd // n_head\n",
    "        self.sa = MultiHeadAttention(n_head, head_size)\n",
    "        self.ffwd = FeedForward(n_embd)\n",
    "        self.ln1 = nn.LayerNorm(n_embd)\n",
    "        self.ln2 = nn.LayerNorm(n_embd)\n",
    "\n",
    "    def forward(self, x):\n",
    "        x = x + self.sa(self.ln1(x))  #residual (skip) connections\n",
    "        x = x + self.ffwd(self.ln2(x))\n",
    "        return x"
   ]
  },
  {
   "cell_type": "code",
   "execution_count": 47,
   "id": "8a5c6db7",
   "metadata": {},
   "outputs": [],
   "source": [
    "# no longer a simple bigram model, now uses transformer weights\n",
    "class BigramLanguageModel(nn.Module):\n",
    "\n",
    "    def __init__(self):\n",
    "        super().__init__()\n",
    "        # each token directly reads off the logits for the next token from a lookup table\n",
    "        self.token_embedding_table = nn.Embedding(vocab_size, n_embd)\n",
    "        self.position_embedding_table = nn.Embedding(block_size, n_embd)\n",
    "        self.blocks = nn.Sequential(*[Block(n_embd, n_head=n_head) for _ in range(n_layer)])\n",
    "        self.ln_f = nn.LayerNorm(n_embd) # final layer norm\n",
    "        self.lm_head = nn.Linear(n_embd, vocab_size)\n",
    "\n",
    "    def forward(self, idx, targets=None):\n",
    "        B, T = idx.shape\n",
    "\n",
    "        # idx and targets are both (B,T) tensor of integers\n",
    "        tok_emb = self.token_embedding_table(idx) # (B,T,C)\n",
    "        pos_emb = self.position_embedding_table(torch.arange(T, device=device)) # (T,C)\n",
    "        x = tok_emb + pos_emb # (B,T,C)\n",
    "        x = self.blocks(x) # (B,T,C)\n",
    "        x = self.ln_f(x) # (B,T,C)\n",
    "        logits = self.lm_head(x) # (B,T,vocab_size)\n",
    "\n",
    "        if targets is None:\n",
    "            loss = None\n",
    "        else:\n",
    "            B, T, C = logits.shape\n",
    "            logits = logits.view(B*T, C)\n",
    "            targets = targets.view(B*T)\n",
    "            loss = F.cross_entropy(logits, targets)\n",
    "\n",
    "        return logits, loss\n",
    "\n",
    "    def generate(self, idx, max_new_tokens):\n",
    "        # idx is (B, T) array of indices in the current context\n",
    "        for _ in range(max_new_tokens):\n",
    "            # crop idx to the last block_size tokens\n",
    "            idx_cond = idx[:, -block_size:]\n",
    "            # get the predictions\n",
    "            logits, loss = self(idx_cond)\n",
    "            # focus only on the last time step\n",
    "            logits = logits[:, -1, :] # becomes (B, C)\n",
    "            # apply softmax to get probabilities\n",
    "            probs = F.softmax(logits, dim=-1) # (B, C)\n",
    "            # sample from the distribution\n",
    "            idx_next = torch.multinomial(probs, num_samples=1) # (B, 1)\n",
    "            # append sampled index to the running sequence\n",
    "            idx = torch.cat((idx, idx_next), dim=1) # (B, T+1)\n",
    "        return idx"
   ]
  },
  {
   "cell_type": "code",
   "execution_count": 48,
   "id": "d7ec4530",
   "metadata": {},
   "outputs": [],
   "source": [
    "# hyperparameters\n",
    "batch_size = 16 # how many independent sequences will we process in parallel? -> 64\n",
    "block_size = 32 # what is the maximum context length for predictions?         -> 256 (to analyze and predict 257)\n",
    "max_iters = 5000\n",
    "eval_interval = 100\n",
    "learning_rate = 1e-3  # -> 3e-4 (for bigger net)\n",
    "device = 'cuda' if torch.cuda.is_available() else 'cpu'\n",
    "eval_iters = 200\n",
    "n_embd = 64  # -> 384\n",
    "n_head = 4  # -> 6  (384 / 6 = 64 dim heads)\n",
    "n_layer = 4  # -> 6\n",
    "dropout = 0.0 # -> .2"
   ]
  },
  {
   "cell_type": "code",
   "execution_count": 49,
   "id": "fe1186b9",
   "metadata": {},
   "outputs": [
    {
     "name": "stdout",
     "output_type": "stream",
     "text": [
      "0.209729 M parameters\n"
     ]
    }
   ],
   "source": [
    "model = BigramLanguageModel()\n",
    "m = model.to(device)\n",
    "# print the number of parameters in the model\n",
    "print(sum(p.numel() for p in m.parameters())/1e6, 'M parameters')\n",
    "\n",
    "# create a PyTorch optimizer\n",
    "optimizer = torch.optim.AdamW(model.parameters(), lr=learning_rate)"
   ]
  },
  {
   "cell_type": "code",
   "execution_count": 50,
   "id": "3621cc67",
   "metadata": {},
   "outputs": [
    {
     "name": "stdout",
     "output_type": "stream",
     "text": [
      "step 0: train loss 4.3469, val loss 4.3500\n",
      "step 100: train loss 2.6628, val loss 2.6695\n",
      "step 200: train loss 2.5108, val loss 2.5142\n",
      "step 300: train loss 2.4100, val loss 2.4193\n",
      "step 400: train loss 2.3371, val loss 2.3464\n",
      "step 500: train loss 2.2739, val loss 2.2872\n",
      "step 600: train loss 2.2130, val loss 2.2417\n",
      "step 700: train loss 2.1677, val loss 2.1927\n",
      "step 800: train loss 2.1268, val loss 2.1538\n",
      "step 900: train loss 2.0979, val loss 2.1382\n",
      "step 1000: train loss 2.0536, val loss 2.1016\n",
      "step 1100: train loss 2.0315, val loss 2.0833\n",
      "step 1200: train loss 1.9965, val loss 2.0603\n",
      "step 1300: train loss 1.9699, val loss 2.0470\n",
      "step 1400: train loss 1.9536, val loss 2.0300\n",
      "step 1500: train loss 1.9263, val loss 2.0085\n",
      "step 1600: train loss 1.9193, val loss 2.0084\n",
      "step 1700: train loss 1.9059, val loss 2.0053\n",
      "step 1800: train loss 1.8737, val loss 1.9727\n",
      "step 1900: train loss 1.8594, val loss 1.9813\n",
      "step 2000: train loss 1.8533, val loss 1.9687\n",
      "step 2100: train loss 1.8459, val loss 1.9558\n",
      "step 2200: train loss 1.8238, val loss 1.9529\n",
      "step 2300: train loss 1.8106, val loss 1.9394\n",
      "step 2400: train loss 1.8021, val loss 1.9358\n",
      "step 2500: train loss 1.7897, val loss 1.9225\n",
      "step 2600: train loss 1.7833, val loss 1.9181\n",
      "step 2700: train loss 1.7708, val loss 1.9097\n",
      "step 2800: train loss 1.7598, val loss 1.9103\n",
      "step 2900: train loss 1.7526, val loss 1.9112\n",
      "step 3000: train loss 1.7427, val loss 1.8918\n",
      "step 3100: train loss 1.7395, val loss 1.8796\n",
      "step 3200: train loss 1.7310, val loss 1.8926\n",
      "step 3300: train loss 1.7288, val loss 1.8741\n",
      "step 3400: train loss 1.7071, val loss 1.8799\n",
      "step 3500: train loss 1.7058, val loss 1.8505\n",
      "step 3600: train loss 1.7019, val loss 1.8757\n",
      "step 3700: train loss 1.6995, val loss 1.8726\n",
      "step 3800: train loss 1.6990, val loss 1.8458\n",
      "step 3900: train loss 1.6870, val loss 1.8441\n",
      "step 4000: train loss 1.6690, val loss 1.8424\n",
      "step 4100: train loss 1.6762, val loss 1.8374\n",
      "step 4200: train loss 1.6707, val loss 1.8284\n",
      "step 4300: train loss 1.6807, val loss 1.8336\n",
      "step 4400: train loss 1.6699, val loss 1.8335\n",
      "step 4500: train loss 1.6540, val loss 1.8367\n",
      "step 4600: train loss 1.6485, val loss 1.8288\n",
      "step 4700: train loss 1.6467, val loss 1.8355\n",
      "step 4800: train loss 1.6618, val loss 1.8338\n",
      "step 4900: train loss 1.6576, val loss 1.8202\n",
      "step 4999: train loss 1.6486, val loss 1.8162\n"
     ]
    }
   ],
   "source": [
    "##### don't rerun this in class, would take a few min\n",
    "for iter in range(max_iters):\n",
    "\n",
    "    # every once in a while evaluate the loss on train and val sets\n",
    "    if iter % eval_interval == 0 or iter == max_iters - 1:\n",
    "        losses = estimate_loss()\n",
    "        print(f\"step {iter}: train loss {losses['train']:.4f}, val loss {losses['val']:.4f}\")\n",
    "\n",
    "    # sample a batch of data\n",
    "    xb, yb = get_batch('train')\n",
    "\n",
    "    # evaluate the loss\n",
    "    logits, loss = model(xb, yb)\n",
    "    optimizer.zero_grad(set_to_none=True)\n",
    "    loss.backward()\n",
    "    optimizer.step()"
   ]
  },
  {
   "cell_type": "code",
   "execution_count": 51,
   "id": "4442da02",
   "metadata": {},
   "outputs": [
    {
     "name": "stdout",
     "output_type": "stream",
     "text": [
      "\n",
      "Duke lest thingmnager of\n",
      "Gloust the son: fullsse\n",
      "So be-luts, of we bive mads; my sin their me?\n",
      "\n",
      "Purnising:\n",
      "O, in the plosonest rail\n",
      "Liking your Strand peant ou,\n",
      "And then ic if or stiegs, let siding recoice with a mock.\n",
      "\n",
      "Clast:\n",
      "Nown that with much.\n",
      "\n",
      "MARCIUS:\n",
      "I powal; nors, then! jup\n",
      "Come with may. Any, good you\n",
      "'tise much beholderens sproness, and power it,\n",
      "The's of my but I will gape. There's the vole of your gary.\n",
      "\n",
      "YORK:\n",
      "For not my lie this, or is be of doth vometuce mut live live\n",
      "Fill no makes; my peace in your spight.\n",
      "The sun or thoot not, sir, tonge\n",
      "To wice to awavater'd and these upon a pleases.\n",
      "\n",
      "Fightle of any yield. York will young\n",
      "To friend ChrisTance ento murds to flue; God he but onest friends,\n",
      "What once begencess friend: foll.\n",
      "\n",
      "DUKE VINCIO:\n",
      "Ay, his slows bralishery tendeming.\n",
      "\n",
      "PETRUCHIO:\n",
      "Sisno: I cannot the keep! as possed in like gelenengel,\n",
      "So fortund an or zery with 'old love: give,\n",
      "No wescome, much going true mie them;\n",
      "Qead steech your, sir? it is fraiess,\n",
      "Whose yurip\n",
      "In hall seem, one that, verettle boarfed were one is he kelancuse.\n",
      "\n",
      "CLIFFS:\n",
      "If nod marine: my lips to one cun turn;\n",
      "To the sountritles me out love! thou.\n",
      "\n",
      "CLIDIO:\n",
      "Your fies to wingnate, rich is mine.\n",
      "\n",
      "JULIET:\n",
      "My faster have thus not a chatel will,\n",
      "you wing; fortence: my neaminess unned\n",
      "Will to gue. Forth-with of\n",
      "gry with not be the: thou give lends these to disine, live he\n",
      "shall by yieldure Gaiceit are with your fast;\n",
      "And you we spild else nife, in to mid?\n",
      "\n",
      "LADY ANNE:\n",
      "But that what?\n",
      "\n",
      "ISHAS MARLIA:\n",
      "I goods from he! Citizen: the this to.\n",
      "\n",
      "HASTINGS:\n",
      "How, bear why that ast Pain, frow--\n",
      "\n",
      "ISABELLA:\n",
      "Our wall the's one to-urgives that like.\n",
      "\n",
      "MARTIUS:\n",
      "Sir, I'll I darewiphs it: go made\n",
      "Be coven have doth one thanish hast is\n",
      "nevent, two me bestain at with Ingit Can\n",
      "Fretchious curse is bashess grace me lain: and noble a on my 'tity,\n",
      "They that you touth, go cape friess honoure within think,\n",
      "They sir! Lords noble's deservigue\n",
      "To beegiven: cose purper\n",
      "Have thy an molingue welend-coms\n",
      "That Master'd with\n"
     ]
    }
   ],
   "source": [
    "# generate from the model\n",
    "context = torch.zeros((1, 1), dtype=torch.long, device=device)\n",
    "print(decode(m.generate(context, max_new_tokens=2000)[0].tolist()))"
   ]
  },
  {
   "cell_type": "markdown",
   "id": "9cc060b3",
   "metadata": {},
   "source": [
    "The above was trained on a laptop, no special hardware, and is recognizably Shakespeare-like.\n",
    "\n",
    "Further improvement requires increasing some of the parameters, e.g., increase batchsize from 16 to 64, increase blocksize from 32 to 256 (i.e., use interrelations of 256 character sequence to predict the 257th), increase from 64 to 384 dimensional character embeddings, increase from 4 to 6 transformer heads, from 4 to 6 layers, and for the bigger network tne down the learning rate and add some dropout."
   ]
  },
  {
   "cell_type": "code",
   "execution_count": null,
   "id": "5264d1fc",
   "metadata": {},
   "outputs": [],
   "source": []
  },
  {
   "cell_type": "code",
   "execution_count": 52,
   "id": "9c99c887",
   "metadata": {},
   "outputs": [
    {
     "name": "stdout",
     "output_type": "stream",
     "text": [
      "10.788929 M parameters\n"
     ]
    }
   ],
   "source": [
    "#with the even bigger hyperparams commented out above, -> 10M\n",
    "# hyperparameters\n",
    "batch_size = 64 # how many independent sequences will we process in parallel? (was 16)\n",
    "block_size = 256 # what is the maximum context length for predictions?     (was 32) (to analyze and predict 257)\n",
    "learning_rate = 3e-4  # (was 1e-3) \n",
    "device = 'cuda' if torch.cuda.is_available() else 'cpu'\n",
    "n_embd = 384  # was 64\n",
    "n_head = 6  # (was 4)  (384 / 6 = 64 dim heads)\n",
    "n_layer = 6  # (was 4)\n",
    "dropout = 0.2 # -> (was 0)\n",
    "\n",
    "model = BigramLanguageModel()\n",
    "m = model.to(device)\n",
    "# print the number of parameters in the model\n",
    "print(sum(p.numel() for p in m.parameters())/1e6, 'M parameters')"
   ]
  },
  {
   "cell_type": "markdown",
   "id": "deda9163",
   "metadata": {},
   "source": [
    "50x more parameters than the aboe 200k<br>\n",
    "run the larger model on a GPU (Karpathy ran on an A100 GPU, and doesn't recommend trying on a CPU),<br>\n",
    "and the 1.82 loss came down to 1.48, with even more Shakespeare-like generation:"
   ]
  },
  {
   "cell_type": "code",
   "execution_count": 53,
   "id": "d4199c45",
   "metadata": {
    "scrolled": false
   },
   "outputs": [
    {
     "name": "stdout",
     "output_type": "stream",
     "text": [
      "The top in a world by susphoring grace.\n",
      "\n",
      "LUCIO:\n",
      "We muse hath resistes him so sovere: son't his other wrough\n",
      "stands of coverent sh'd: he has here, and stand it\n",
      "and poor exceeder or a Henry's last, stay\n",
      "not in faith, forewell's base of graves, thanks, happy comparel,\n",
      "warmentfully: may as face by the courst, that strangth\n",
      "errise hath breathed. Hastings come to Valenting.\n",
      "\n",
      "HERMIONE:\n",
      "Well have been bolly poor late\n",
      "Is the lords.\n",
      "\n",
      "ABELLA:\n",
      "Let's found: I will kind him;\n",
      "I do braw'sy him business wherein far his face.\n",
      "\n",
      "LUCENTIO:\n",
      "He is last afford: make him diseably to London,\n",
      "Take him great Hastings, boldness in his natic keeps,\n",
      "To oftragn lost me ready glust through the house.\n",
      "Why chose that I dares it be a Montague.\n",
      "\n",
      "MONTAGUE:\n",
      "Woe's Claudly Haste of his own at last the Volscient,\n",
      "And seen'd helpit: bearn to do it be, and most hop,\n",
      "Miscause's more conterar than without this lambs\n",
      "Shall down appla fortune flight flowers.\n",
      "\n",
      "FRIAR LAUAURENCE:\n",
      "His son, do your morself, that leaven your honours\n",
      "Sufferable in more and suffer five.\n",
      "A horse! High-graced York rights. And bother Montague\n",
      "That the caapter, that I soughd him; such a chooson\n",
      "Woes, that they have splight that care\n",
      "Fades the respect to her spult: betfore him,\n",
      "Un tell him up hine, or hope, that throw'st thou carry\n",
      "apied sing with wear over the plenting long stamper\n",
      "That doth butcherity. For love, what arful was an soldier\n",
      "That last twain of all and Romeo runly Froth.\n",
      "\n",
      "VALHASINA:\n",
      "Nobleman; go, then both groans to us.\n",
      "\n",
      "AUFIDIUS:\n",
      "O those prepation!\n",
      "\n",
      "AUFIDIUS:\n",
      "It is: ever crimty be a house.\n",
      "\n",
      "Second Citizen:\n",
      "We give heed.\n",
      "\n",
      "All Clarence, that makes not know work. The may say speak way.\n",
      "How is my sorrow to strange on the fares\n",
      "That which to play some called Margaret\n",
      "The state town outward's wife, as the foul sleep;\n",
      "Trickly of from thy blod'sty day blows here,\n",
      "And pratess that chrospiles stalk falls up,\n",
      "The world's hollow princhment, which should a bankind,\n",
      "At till naKaina-daughter tae truth,\n",
      "Craged from lares an oar that rems' stol-eat with blass.\n",
      "Those is sometimes well call the Tale, the rod,\n",
      "Submished his truth; Right states; but for ourselves,\n",
      "Claud not thy hand, addingness.\n",
      "No, there all conslent here pue the fault that yokUCHastisful\n",
      "From servant and folling 'em how that: be drunk,\n",
      "Set was halt be else, I will betwixt thee three with Tewar:\n",
      "I am their man before a vile bad amiss'd\n",
      "And thought have shorn'd the back-flowed of mine,\n",
      "And ne'er than this, they leave spectiff.\n",
      "I am to sure,\n",
      "To maintain on what rash thy dam of suddise!\n",
      "Thyself thee pays wither edge.\n",
      "God I am speak to-morrow's like, to me speak,\n",
      "Am\n",
      "Dash your deliverance, nitted tongue to study.\n",
      "But if you were could not love, if you such commands,\n",
      "Your ignoration lightnifies\n",
      "Sufficed hath granted a sacret\n",
      "Divine: minute hath too should be assured,\n",
      "Unless, heaven to themselvish, as I am,\n",
      "Hance my father bend to them speak;\n",
      "His the business' hath themselves;\n",
      "For his ordance: bow his hand, hell pluck my pet!\n",
      "What it brace there of his oath?\n",
      "Rather? Where, whilst thou garling feet Bark? aim? stay;\n",
      "So if He and him come, and make his mostake\n",
      "You forbid you had stoopp'd your grace.\n",
      "\n",
      "Servant:\n",
      "He may once it indeces:\n",
      "See do it between.\n",
      "\n",
      "Provost:\n",
      "Ah, sir! shall it stay the heavy nights.\n",
      "\n",
      "PeRDINA:\n",
      "Behind-foot, sir; three manner did he remiss\n",
      "no slain up is disconful: slave you breast-wish.\n",
      "\n",
      "HUMIO:\n",
      "Why more lose on than ime well so fofter townd\n",
      "you.\n",
      "\n",
      "LUCIO:\n",
      "How find, I must by our son?\n",
      "\n",
      "PRINCE EDWARD:\n",
      "Not I, sir?\n",
      "\n",
      "PETHUMIO:\n",
      "Base my fa-lor; I have ports to guilty:\n",
      "It string is remorse: seldiers, thou retirest that Titus;\n",
      "And I will have my close father- place:\n",
      "I have well kings your husband; he will flow.\n",
      "\n",
      "FRIAR:\n",
      "I am nother for your highness' remain.\n",
      "\n",
      "GREMIO:\n",
      "O, ho! sent me you, mighty lord.\n",
      "\n",
      "LEONTES:\n",
      "Woe's condemn!\n"
     ]
    }
   ],
   "source": [
    "# create a PyTorch optimizer\n",
    "optimizer = torch.optim.AdamW(model.parameters(), lr=learning_rate)\n",
    "\n",
    "#...\n",
    "#1.82 loss goes down to 1.48 (15 min on Karpathy's A100 GPU, don't try on CPU ...):"
   ]
  },
  {
   "cell_type": "code",
   "execution_count": null,
   "id": "92331184",
   "metadata": {},
   "outputs": [],
   "source": []
  }
 ],
 "metadata": {
  "kernelspec": {
   "display_name": "Python 3 (ipykernel)",
   "language": "python",
   "name": "python3"
  },
  "language_info": {
   "codemirror_mode": {
    "name": "ipython",
    "version": 3
   },
   "file_extension": ".py",
   "mimetype": "text/x-python",
   "name": "python",
   "nbconvert_exporter": "python",
   "pygments_lexer": "ipython3",
   "version": "3.7.16"
  }
 },
 "nbformat": 4,
 "nbformat_minor": 5
}
