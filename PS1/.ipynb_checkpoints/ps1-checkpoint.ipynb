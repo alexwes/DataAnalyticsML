{
 "cells": [
  {
   "cell_type": "markdown",
   "metadata": {},
   "source": [
    "# Info 3950 ps1\n",
    "**due Thu evening 9 Feb 2023 23:00**\n",
    "\n",
    "Remember to include your name and netid in the first cell. Submit via [gradescope](https://gradescope.com) -- remember to click the 'code' button to ensure that it renders properly, and it is your final saved version.\n",
    "\n",
    "<font size=\"-1\">[Also note that these problem sets are not intended as group projects: the work you submit must be your own. You can discuss with other students at a high level, for example general methods or strategies to solve a problem, but you must cite the other student(s) in your submission. Any work you submit must be your own understanding of the solution, the details of which you personally and individually worked out, and written in your own words. In no cases should notebooks or code be shared.]</font>"
   ]
  },
  {
   "cell_type": "code",
   "execution_count": 61,
   "metadata": {
    "tags": []
   },
   "outputs": [],
   "source": [
    "#setup for inline plotting\n",
    "import matplotlib.pyplot as plt, numpy as np\n",
    "%matplotlib inline\n",
    "from collections import Counter, defaultdict\n",
    "from scipy.stats import binom, poisson"
   ]
  },
  {
   "cell_type": "markdown",
   "metadata": {
    "problem": "#1A"
   },
   "source": [
    "# 1)\n",
    "\n",
    "These are two more \"review\" problems from past early problem sets in Info 2950 (since the material was really from intro probability/statistics courses), to diagnose whether there are any systematic deficits that the TAs need to review.\n",
    "\n",
    "**A.** In [ps0](https://nbviewer.jupyter.org/url/courses.cit.cornell.edu/info3950_2023sp/ps0.ipynb), we considered the statistics for the number of heads recorded by 15000 Cornell undergraduate students. Consider the same number of Cornell undergraduates instead rolling a die 120 times each, and examine the number of 6's they record. (For this you can use either np.random.randint(6), or more generally check whether np.random.rand() is < 1/6.)\n",
    "\n",
    "**i)** Simulate the above, and determine for your simulation a) the mean number of 6's recorded, b) the median, c) the variance, d) the standard deviation.\n",
    "\n",
    "**ii)** What are the theoretically expected values of the mean and standard deviation in this situation?\n",
    "\n",
    "**iii)** Plot a histogram of the results in a figure as in the ps0 notebook, together with the expected normal distribution.\n",
    "\n",
    "**iv)** For your simulated data, what percentage of the number of 6's are within 1,2, and 3 standard deviations of the mean?<br>\n",
    "(As in the notebook, this will agree better with the values expected for a normal distribution if you use a strict inequality on only one of upper or lower boundary (i.e., < or >, rather than <= or >=, on one boundary)."
   ]
  },
  {
   "cell_type": "code",
   "execution_count": 11,
   "metadata": {},
   "outputs": [],
   "source": [
    "arr = np.array(0)\n",
    "total_sixes = np.array(0)\n",
    "\n",
    "for i in range(0,15000): \n",
    "    count = 0\n",
    "    for j in np.random.randint(1,7,120):\n",
    "        if j == 6:\n",
    "            count += 1\n",
    "    total_sixes = np.append(total_sixes, count)"
   ]
  },
  {
   "cell_type": "code",
   "execution_count": 12,
   "metadata": {},
   "outputs": [
    {
     "name": "stdout",
     "output_type": "stream",
     "text": [
      "mean 6's recorded: 19.933671088594092\n",
      "median 6's recorded:  20.0\n",
      "variance of 6's recorded 16.702953318655496\n",
      "standard deviation of 6s recorded:  4.086924677389527\n"
     ]
    }
   ],
   "source": [
    "# (i)\n",
    "mean = total_sixes.mean()\n",
    "print(\"mean 6's recorded:\", mean)\n",
    "print(\"median 6's recorded: \", np.median(total_sixes))\n",
    "print(\"variance of 6's recorded\", np.var(total_sixes))\n",
    "std = np.std(total_sixes)\n",
    "print(\"standard deviation of 6s recorded: \", std )"
   ]
  },
  {
   "cell_type": "code",
   "execution_count": 13,
   "metadata": {},
   "outputs": [
    {
     "name": "stdout",
     "output_type": "stream",
     "text": [
      "The theoretically expected values of the mean and standard deviation in this situation are 20.0 and 4.08 respectively\n"
     ]
    }
   ],
   "source": [
    "# (ii)\n",
    "exp_mean = 120/6\n",
    "exp_std = np.sqrt(120/6*(5/6))\n",
    "print(f'The theoretically expected values of the mean and standard deviation in this situation are {exp_mean} and {round(exp_std,2)} respectively')"
   ]
  },
  {
   "cell_type": "code",
   "execution_count": 21,
   "metadata": {},
   "outputs": [
    {
     "data": {
      "text/plain": [
       "<matplotlib.legend.Legend at 0x7ff3b80b7f40>"
      ]
     },
     "execution_count": 21,
     "metadata": {},
     "output_type": "execute_result"
    },
    {
     "data": {
      "image/png": "[encoded data removed]",
      "text/plain": [
       "<Figure size 432x288 with 1 Axes>"
      ]
     },
     "metadata": {
      "needs_background": "light"
     },
     "output_type": "display_data"
    }
   ],
   "source": [
    "# (iii)\n",
    "normal_dist = np.random.normal(20, 4, 15000)\n",
    "plt.hist(normal_dist, bins = 30, alpha = 0.5, label = \"normal dist.\")\n",
    "plt.hist(total_sixes, bins = 30, alpha = 0.5, label = \"actual dist.\")\n",
    "plt.legend()"
   ]
  },
  {
   "cell_type": "code",
   "execution_count": 15,
   "metadata": {},
   "outputs": [
    {
     "name": "stdout",
     "output_type": "stream",
     "text": [
      "pct within 1 std:  73.00846610225985\n",
      "pct within 2 std:  96.44690353976402\n",
      "pct within 3 std:  99.68668755416306\n"
     ]
    }
   ],
   "source": [
    "# (iv)\n",
    "count_1std = 0\n",
    "count_2std = 0\n",
    "count_3std = 0\n",
    "\n",
    "for i in total_sixes:\n",
    "    if( (i <= (mean + std)) and (i > (mean - std)) ):\n",
    "        count_1std += 1\n",
    "    if( (i <= (mean + 2 * std)) and (i > (mean - 2 * std)) ):\n",
    "            count_2std += 1\n",
    "    if( (i <= (mean + 3 * std)) and (i > (mean - 3 * std)) ):\n",
    "            count_3std += 1\n",
    "        \n",
    "    \n",
    "print( \"pct within 1 std: \", count_1std/total_sixes.size*100 )\n",
    "print( \"pct within 2 std: \", count_2std/total_sixes.size*100 )\n",
    "print( \"pct within 3 std: \", count_3std/total_sixes.size*100 )"
   ]
  },
  {
   "cell_type": "markdown",
   "metadata": {
    "problem": "#1D"
   },
   "source": [
    "**B.** In the \"birthday paradox\" problem in\n",
    "[ps0](https://nbviewer.jupyter.org/url/courses.cit.cornell.edu/info3950_2023sp/ps0.ipynb),\n",
    "you calculated the probability of *at least one* coincident birthday. (Continue to assume only 365 days and birthdays uniformly distributed in the below.) Empirically, we found in lecs 2,3 that there were at least two pairs of coincident birthdays within the classroom (and there are of course many more).\n",
    "\n",
    "You can easily simulate this by choosing 50 random integers in the range 0 to 364 (try it):\n",
    "\n",
    "    Counter(np.random.randint(365, size=50)).most_common(10)\n",
    "\n",
    "to see days that occur multiple times. If you rerun a few times, you'll see different 'dates' and different numbers of collisions that occur (sometimes triples, and so on). Applying another `Counter()` to the values of the above (i.e., without the `.most_common()` method) will give the number of singles, doubles, triples, etc. Repeating this, say, 1000 times and averaging will give the expected numbers of singles, doubles, triples, etc, for this number of people.\n",
    "\n",
    "**i)** Do this simulation 1000 times for the full class, assuming `n=94`\n",
    "\n",
    "**ii)** As explained in ps0, the expected number of each type of coincidence can also be estimated by considering a Bernoulli-like process. The idea was to think about throwing 94 balls (the students) randomly into 365 bins (the days). The average number of balls per bin at the end of the process is 94/365, so most bins will be unoccupied, but many bins will get 1 ball, and a small number of \"lucky\" bins will get two, three, or even four balls. The bins are the birthdays, and the ones with multiple balls are the days with coincident birthdays.\n",
    "\n",
    "From the standpoint of any given bin, this is like flipping a coin 94 times, only the probability of \"success\" for each flip is only 1/365. That means that the bins follow the `binom.pmf(range(1,6), n, 1/365)` probability distribution for the number of coincident birthdays, and multiplying by 365 will give an exact estimate of the expected number of days with singles, doubles, triples. Add this \"theoretical estimate\" to the plot in **i)**.  (Your plot should look something like the below, which was for `n=50` [for which the probability of at least one collision was 97%], except use `n=` 94).\n",
    "\n",
    "iii) `p=1/365` is small enough that the binomial distribution deforms to the so-called Poisson distribution (`scipy.stats.poisson`), which depends only on the mean `n/365`, rather than independently on the two parameters `n` and `p=1/365`. Replot the simulated data from i) along with `365*poisson.pmf(range(1,6), n/365)` instead as the \"theory\"."
   ]
  },
  {
   "cell_type": "code",
   "execution_count": 16,
   "metadata": {},
   "outputs": [
    {
     "name": "stdout",
     "output_type": "stream",
     "text": [
      "{1: 73.022, 2: 9.242, 3: 0.778, 4: 0.04}\n"
     ]
    },
    {
     "data": {
      "text/plain": [
       "<matplotlib.legend.Legend at 0x7ff3f89e0d30>"
      ]
     },
     "execution_count": 16,
     "metadata": {},
     "output_type": "execute_result"
    },
    {
     "data": {
      "image/png": "[encoded data removed]",
      "text/plain": [
       "<Figure size 432x288 with 1 Axes>"
      ]
     },
     "metadata": {
      "needs_background": "light"
     },
     "output_type": "display_data"
    }
   ],
   "source": [
    "# (i)\n",
    "\n",
    "# Simulation to find averages\n",
    "\n",
    "count1 = 0\n",
    "count2 = 0\n",
    "count3 = 0\n",
    "count4 = 0\n",
    "\n",
    "counts_all = {}\n",
    "\n",
    "for i in range(0,1000):\n",
    "    counts = Counter(Counter(np.random.randint(365, size=94)).values())\n",
    "    \n",
    "    count1 += counts[1]\n",
    "    count2 += counts[2]\n",
    "    count3 += counts[3]\n",
    "    count4 += counts[4]\n",
    "    \n",
    "counts_all[1] = (count1 / 1000)\n",
    "counts_all[2]  = (count2 / 1000)\n",
    "counts_all[3]  = (count3 / 1000)\n",
    "counts_all[4]  = (count4 / 1000)\n",
    "\n",
    "print(counts_all)\n",
    "\n",
    "# Binomial\n",
    "\n",
    "plt.bar(counts_all.keys(), counts_all.values(), label=\"sim\")\n",
    "plt.title(\"Coincident birthdays for n=94 people\")\n",
    "plt.xlabel(\"Number of collisions\")\n",
    "plt.ylabel(\"Expected number of such collisions\")\n",
    "plt.plot(range(1,6), binom.pmf(range(1,6), 94, 1/365)*365, \"o-\", color=\"C1\", label=\"theory\")\n",
    "plt.legend()"
   ]
  },
  {
   "cell_type": "code",
   "execution_count": 17,
   "metadata": {},
   "outputs": [
    {
     "data": {
      "text/plain": [
       "<matplotlib.legend.Legend at 0x7ff3d8265370>"
      ]
     },
     "execution_count": 17,
     "metadata": {},
     "output_type": "execute_result"
    },
    {
     "data": {
      "image/png": "[encoded data removed]",
      "text/plain": [
       "<Figure size 432x288 with 1 Axes>"
      ]
     },
     "metadata": {
      "needs_background": "light"
     },
     "output_type": "display_data"
    }
   ],
   "source": [
    "# Poisson\n",
    "plt.bar(counts_all.keys(), counts_all.values(), label=\"sim\")\n",
    "plt.title(\"Coincident birthdays for n=94 people\")\n",
    "plt.xlabel(\"Number of collisions\")\n",
    "plt.ylabel(\"Expected number of such collisions\")\n",
    "plt.plot(range(1,6), 365*poisson.pmf(range(1,6), 94/365), \"o-\", color=\"C1\", label=\"theory\")\n",
    "plt.legend()"
   ]
  },
  {
   "cell_type": "code",
   "execution_count": 1,
   "metadata": {},
   "outputs": [
    {
     "data": {
      "image/png": "[encoded data removed]",
      "text/plain": [
       "<IPython.core.display.Image object>"
      ]
     },
     "execution_count": 1,
     "metadata": {},
     "output_type": "execute_result"
    }
   ],
   "source": [
    "plt.bar(..., ..., label='simulation')\n",
    "plt.plot(..., ..., 'o-', color='C1', label='theory')\n",
    "plt.xlabel('# people with coincident birthday')\n",
    "plt.ylabel('expected number of such days')\n",
    "plt.title(f'coincident birthdays for n={n} people')\n",
    "...\n",
    "plt.legend();"
   ]
  },
  {
   "cell_type": "markdown",
   "metadata": {
    "problem": "#2"
   },
   "source": [
    "## 2) Naive Bayes text classifier\n",
    "\n",
    "\n",
    "An example used in [lec3.ipynb](https://nbviewer.jupyter.org/url/courses.cit.cornell.edu/info3950_2023sp/lec3.ipynb) involved building a Bernoulli Naive Bayes classifier based on 1000 abstracts each from a single physics category and a single biology category (1800 training texts, and 200 test texts; \"Bernoulli\" in this case just means consider only whether or not a word occurs in a document, not how many times). This dataset [ps1data.py.gz](https://courses.cit.cornell.edu/info3950_2023sp/ps1data.py.gz) expands on that with similar data from twelve categories. gunzip that file and use\n",
    "\n",
    "    from ps1data import absdata\n",
    "\n",
    "to import absdata, which will then be a dictionary of twelve subject areas in fields of astrophysics (GA = galaxies), condensed matter, computer science (CV= computer vision, HC = human computer interactions, LG = machine learning), two closely related areas of high energy physics (phenomenology and theory), math, applied physics, computational physics, biology (NC= neurons and cognition), and quantum physics. The value of each is a list of the texts of 1000 recent abstracts, for a total of 12000 abstracts."
   ]
  },
  {
   "cell_type": "code",
   "execution_count": 22,
   "metadata": {
    "tags": []
   },
   "outputs": [
    {
     "name": "stdout",
     "output_type": "stream",
     "text": [
      "['astro-ph.GA', 'cond-mat.mes-hall', 'cs.CV', 'cs.HC', 'cs.LG', 'hep-ph', 'hep-th', 'math.AP', 'physics.app-ph', 'physics.comp-ph', 'q-bio.NC', 'quant-ph']\n"
     ]
    }
   ],
   "source": [
    "from ps1data import absdata\n",
    "print (sorted(absdata))"
   ]
  },
  {
   "cell_type": "code",
   "execution_count": 19,
   "metadata": {
    "tags": []
   },
   "outputs": [
    {
     "name": "stdout",
     "output_type": "stream",
     "text": [
      "[1000, 1000, 1000, 1000, 1000, 1000, 1000, 1000, 1000, 1000, 1000, 1000]\n"
     ]
    }
   ],
   "source": [
    "print ([len(absdata[cat]) for cat in absdata])  #cat = \"category\""
   ]
  },
  {
   "cell_type": "code",
   "execution_count": 20,
   "metadata": {
    "tags": []
   },
   "outputs": [
    {
     "data": {
      "text/plain": [
       "'Data-driven decision making related to individuals has become increasingly pervasive, but the issue concerning the potential discrimination has been raised by recent studies. In response, researchers have made efforts to propose and implement fairness measures and algorithms, but those efforts have not been translated to the real-world practice of data-driven decision making. As such, there is still an urgent need to create a viable tool to facilitate fair decision making. We propose FairSight, a visual analytic system to address this need; it is designed to achieve different notions of fairness in ranking decisions through identifying the required actions -- understanding, measuring, diagnosing and mitigating biases -- that together lead to fairer decision making. Through a case study and user study, we demonstrate that the proposed visual analytic and diagnostic modules in the system are effective in understanding the fairness-aware decision pipeline and obtaining more fair outcomes.'"
      ]
     },
     "execution_count": 20,
     "metadata": {},
     "output_type": "execute_result"
    }
   ],
   "source": [
    "#first cs.HC abstract\n",
    "absdata['cs.HC'][0]"
   ]
  },
  {
   "cell_type": "markdown",
   "metadata": {},
   "source": [
    "As discussed in lecs 3,4, it's necessary to tokenize, or split the texts into something like words. Text can be split on whitespace using the `.split()` method, but that leaves punctuation characters.\n",
    "For a more useful spliting, words can be considered strings of lower case letters a-z plus apostrophes, and extracted as a list. For example, for the first cs.HC text above, and using a regular expression that finds all strings with a-z and ':"
   ]
  },
  {
   "cell_type": "code",
   "execution_count": 23,
   "metadata": {
    "collapsed": true,
    "jupyter": {
     "outputs_hidden": true
    },
    "tags": []
   },
   "outputs": [
    {
     "data": {
      "text/plain": [
       "['data',\n",
       " 'driven',\n",
       " 'decision',\n",
       " 'making',\n",
       " 'related',\n",
       " 'to',\n",
       " 'individuals',\n",
       " 'has',\n",
       " 'become',\n",
       " 'increasingly',\n",
       " 'pervasive',\n",
       " 'but',\n",
       " 'the',\n",
       " 'issue',\n",
       " 'concerning',\n",
       " 'the',\n",
       " 'potential',\n",
       " 'discrimination',\n",
       " 'has',\n",
       " 'been',\n",
       " 'raised',\n",
       " 'by',\n",
       " 'recent',\n",
       " 'studies',\n",
       " 'in',\n",
       " 'response',\n",
       " 'researchers',\n",
       " 'have',\n",
       " 'made',\n",
       " 'efforts',\n",
       " 'to',\n",
       " 'propose',\n",
       " 'and',\n",
       " 'implement',\n",
       " 'fairness',\n",
       " 'measures',\n",
       " 'and',\n",
       " 'algorithms',\n",
       " 'but',\n",
       " 'those',\n",
       " 'efforts',\n",
       " 'have',\n",
       " 'not',\n",
       " 'been',\n",
       " 'translated',\n",
       " 'to',\n",
       " 'the',\n",
       " 'real',\n",
       " 'world',\n",
       " 'practice',\n",
       " 'of',\n",
       " 'data',\n",
       " 'driven',\n",
       " 'decision',\n",
       " 'making',\n",
       " 'as',\n",
       " 'such',\n",
       " 'there',\n",
       " 'is',\n",
       " 'still',\n",
       " 'an',\n",
       " 'urgent',\n",
       " 'need',\n",
       " 'to',\n",
       " 'create',\n",
       " 'a',\n",
       " 'viable',\n",
       " 'tool',\n",
       " 'to',\n",
       " 'facilitate',\n",
       " 'fair',\n",
       " 'decision',\n",
       " 'making',\n",
       " 'we',\n",
       " 'propose',\n",
       " 'fairsight',\n",
       " 'a',\n",
       " 'visual',\n",
       " 'analytic',\n",
       " 'system',\n",
       " 'to',\n",
       " 'address',\n",
       " 'this',\n",
       " 'need',\n",
       " 'it',\n",
       " 'is',\n",
       " 'designed',\n",
       " 'to',\n",
       " 'achieve',\n",
       " 'different',\n",
       " 'notions',\n",
       " 'of',\n",
       " 'fairness',\n",
       " 'in',\n",
       " 'ranking',\n",
       " 'decisions',\n",
       " 'through',\n",
       " 'identifying',\n",
       " 'the',\n",
       " 'required',\n",
       " 'actions',\n",
       " 'understanding',\n",
       " 'measuring',\n",
       " 'diagnosing',\n",
       " 'and',\n",
       " 'mitigating',\n",
       " 'biases',\n",
       " 'that',\n",
       " 'together',\n",
       " 'lead',\n",
       " 'to',\n",
       " 'fairer',\n",
       " 'decision',\n",
       " 'making',\n",
       " 'through',\n",
       " 'a',\n",
       " 'case',\n",
       " 'study',\n",
       " 'and',\n",
       " 'user',\n",
       " 'study',\n",
       " 'we',\n",
       " 'demonstrate',\n",
       " 'that',\n",
       " 'the',\n",
       " 'proposed',\n",
       " 'visual',\n",
       " 'analytic',\n",
       " 'and',\n",
       " 'diagnostic',\n",
       " 'modules',\n",
       " 'in',\n",
       " 'the',\n",
       " 'system',\n",
       " 'are',\n",
       " 'effective',\n",
       " 'in',\n",
       " 'understanding',\n",
       " 'the',\n",
       " 'fairness',\n",
       " 'aware',\n",
       " 'decision',\n",
       " 'pipeline',\n",
       " 'and',\n",
       " 'obtaining',\n",
       " 'more',\n",
       " 'fair',\n",
       " 'outcomes']"
      ]
     },
     "execution_count": 23,
     "metadata": {},
     "output_type": "execute_result"
    }
   ],
   "source": [
    "import re\n",
    "re.findall(\"[a-z0-9']+\", absdata['cs.HC'][0].lower())"
   ]
  },
  {
   "cell_type": "markdown",
   "metadata": {},
   "source": [
    "(`re.findall(\"[a-z0-9']+\",txt)` just finds all contiguous strings made up of the characters a-z or digits 0-9 or apostrophe ', and returns them as a list.)\n",
    "\n",
    "This will return a list of all the 'words' in that document (try it). For the time being, we only want to count the *number of documents* in which a word occurs (not the number of *occurrences* within the document), so we apply `set()` to the above list so that each word only appears once.\n",
    "Finally, it's convenient to use the Counter object (https://docs.python.org/3/library/collections.html#collections.Counter), which is just a dictionary to accumulate counts for the words. The result is (try it):"
   ]
  },
  {
   "cell_type": "code",
   "execution_count": 24,
   "metadata": {
    "tags": []
   },
   "outputs": [
    {
     "data": {
      "text/plain": [
       "[('to', 8),\n",
       " ('the', 7),\n",
       " ('and', 6),\n",
       " ('decision', 5),\n",
       " ('making', 4),\n",
       " ('in', 4),\n",
       " ('fairness', 3),\n",
       " ('a', 3),\n",
       " ('data', 2),\n",
       " ('driven', 2),\n",
       " ('has', 2),\n",
       " ('but', 2),\n",
       " ('been', 2),\n",
       " ('have', 2),\n",
       " ('efforts', 2),\n",
       " ('propose', 2),\n",
       " ('of', 2),\n",
       " ('is', 2),\n",
       " ('need', 2),\n",
       " ('fair', 2)]"
      ]
     },
     "execution_count": 24,
     "metadata": {},
     "output_type": "execute_result"
    }
   ],
   "source": [
    "from collections import Counter\n",
    "Counter( re.findall(\"[a-z0-9']+\", absdata['cs.HC'][0].lower()) ).most_common(20)\n",
    "# 20 most common, 'the' should appear 7 times"
   ]
  },
  {
   "cell_type": "markdown",
   "metadata": {
    "problem": "#3"
   },
   "source": [
    "Here you will train a simple binary classifier, for cs.HC = Human computer interactions vs. cs.LG = machine learning, based on the first 900 abstracts in each of those two categories, and test it on the last 100 \"test\" abstracts from each category. This follows the example given in [lec3.ipynb](https://nbviewer.jupyter.org/url/courses.cit.cornell.edu/info3950_2023sp/lec3.ipynb).\n",
    "\n",
    "[Parts of the remainder of this notebook are useful only if it isn't clear how to proceed.]\n",
    "\n",
    "As in the above [lec3.ipynb](https://nbviewer.jupyter.org/url/courses.cit.cornell.edu/info3950_2023sp/lec3.ipynb), we'll count only the *number of documents* in which a word occurs (not the number of *occurrences* within the document). To this end, we apply set() to the list of words so that each word only appears once.\n",
    "Again using the `Counter()` object, the result of inserting `set()` is (try it):"
   ]
  },
  {
   "cell_type": "markdown",
   "metadata": {},
   "source": [
    "The number counts (number of documents in which word occurs) can be accumulated as was done for bvocab and pvocab in cell [10] of [lec3.ipynb](https://nbviewer.jupyter.org/url/courses.cit.cornell.edu/info3950_2023sp/lec3.ipynb), perhaps call them `HCvocab` and `LGvocab`."
   ]
  },
  {
   "cell_type": "code",
   "execution_count": 77,
   "metadata": {},
   "outputs": [],
   "source": [
    "def words(txt):\n",
    "    return re.findall(\"[a-z0-9']+\",txt.lower())"
   ]
  },
  {
   "cell_type": "code",
   "execution_count": 93,
   "metadata": {},
   "outputs": [],
   "source": [
    "HCvocab = defaultdict(lambda : .5)\n",
    "hcabs = absdata['cs.HC']\n",
    "for abs in hcabs[:900]:\n",
    "    for w in set(words(abs)): \n",
    "        HCvocab[w] += 1"
   ]
  },
  {
   "cell_type": "markdown",
   "metadata": {},
   "source": [
    "Again using the `Counter()` object's convenient `most_common` method, you can look at the numbers for the most frequent words (where 900 would mean they occurred in all 900 training documents):"
   ]
  },
  {
   "cell_type": "code",
   "execution_count": 79,
   "metadata": {
    "tags": []
   },
   "outputs": [
    {
     "data": {
      "text/plain": [
       "[('the', 896.5),\n",
       " ('and', 894.5),\n",
       " ('of', 893.5),\n",
       " ('to', 878.5),\n",
       " ('a', 858.5),\n",
       " ('in', 845.5),\n",
       " ('for', 735.5),\n",
       " ('this', 725.5),\n",
       " ('we', 705.5),\n",
       " ('that', 673.5)]"
      ]
     },
     "execution_count": 79,
     "metadata": {},
     "output_type": "execute_result"
    }
   ],
   "source": [
    "Counter(HCvocab).most_common(10)"
   ]
  },
  {
   "cell_type": "markdown",
   "metadata": {},
   "source": [
    "or to see the 285th through 296th, use (try it, should give words appearing in only forty eight of the training documents):"
   ]
  },
  {
   "cell_type": "code",
   "execution_count": 80,
   "metadata": {
    "tags": []
   },
   "outputs": [
    {
     "data": {
      "text/plain": [
       "[('goal', 48.5),\n",
       " ('health', 48.5),\n",
       " ('survey', 48.5),\n",
       " ('implications', 48.5),\n",
       " ('if', 48.5),\n",
       " ('technique', 48.5),\n",
       " ('presented', 48.5),\n",
       " ('less', 48.5),\n",
       " ('significantly', 48.5),\n",
       " ('language', 48.5),\n",
       " ('investigate', 48.5)]"
      ]
     },
     "execution_count": 80,
     "metadata": {},
     "output_type": "execute_result"
    }
   ],
   "source": [
    "Counter(HCvocab).most_common()[285:296]"
   ]
  },
  {
   "cell_type": "code",
   "execution_count": 95,
   "metadata": {
    "tags": []
   },
   "outputs": [],
   "source": [
    "LGvocab = defaultdict(lambda : .5)\n",
    "lgabs = absdata['cs.LG']\n",
    "for abs in lgabs[:900]:\n",
    "    for w in set(words(abs)): \n",
    "        LGvocab[w] += 1"
   ]
  },
  {
   "cell_type": "code",
   "execution_count": 96,
   "metadata": {},
   "outputs": [
    {
     "data": {
      "text/plain": [
       "[('the', 897.5),\n",
       " ('of', 889.5),\n",
       " ('to', 876.5),\n",
       " ('and', 872.5),\n",
       " ('a', 867.5),\n",
       " ('in', 848.5),\n",
       " ('we', 821.5),\n",
       " ('that', 757.5),\n",
       " ('is', 731.5),\n",
       " ('for', 727.5)]"
      ]
     },
     "execution_count": 96,
     "metadata": {},
     "output_type": "execute_result"
    }
   ],
   "source": [
    "Counter(LGvocab).most_common(10)"
   ]
  },
  {
   "cell_type": "markdown",
   "metadata": {
    "problem": "#2A"
   },
   "source": [
    "and similarly for `LGvocab` for the machine learning documents.<br>\n",
    "Finally you need to write the classifier code (will be roughly a grand total of less than 10 lines of code) to implement the Naive Bayes classifier (or repurpose the code from lec3.ipynb). The formula to implement (for a flat prior $p({\\rm HC})=p({\\rm LG})=.5$) is\n",
    "$$\n",
    "p({\\rm HC}\\ |\\ words) = \\frac{p(words\\ |\\ {\\rm HC})\\,p({\\rm HC})}\n",
    "{p(words\\ |\\ {\\rm HC})\\,p({\\rm HC})+p(words\\ |\\ {\\rm LG})\\,p({\\rm LG})}\n",
    "\\approx\\frac{\\prod_i p(w_i\\ |\\ {\\rm HC})}{\\prod_i p(w_i\\ |\\ {\\rm HC})+\\prod_i p(w_i\\ |\\ {\\rm LG})}\n",
    "$$\n",
    "<br>\n",
    "This formula might look unfamiliar so let's try to unwrap it. (This will be done in Lec4.) The conditional word probabilities, e.g., $p(w_i\\ |\\ {\\rm HC})$ (\"the probability that word $w_i$ occurs if the abstract is labelled HC), are estimated based on the number of HC documents in which they occur in the training set. So if the word 'health' appears in 48 such documents, then we would estimate that $p($'health' $|\\ {\\rm HC}) = 48/1000$. The product signs $\\Pi_i$ in the above just mean that we multiply those probabilities for each word that appears in the test document.<br>\n",
    "Intuitively, the above formula considers the words in a text document, and if more of those words tend to occur preferentially in the HC abstracts in the training set, then the test abstract is determined to be more likely an HC abstract (because the numerator is more than half the denominator), and vice versa if its words tend to occur more often in the LG abstracts in the training set.\n",
    "<br><br>\n",
    "\n",
    "As in [lec3.ipynb](https://nbviewer.jupyter.org/url/courses.cit.cornell.edu/info3950_2023sp/lec3.ipynb), you can try using the full vocabulary, and then experiment with using the most common words, or the most discriminating:\n",
    "\n",
    "**A.** i) Train on the first 900 documents in each of the cs.HC and cs.LG abstracts (a total of 1800 documents), and test on the last 100 in each of the classes (a total of 200 documents). What is the test score: i.e., on the 200 test documents, what is the percentage predicted correctly?<br>\n",
    "\n",
    "ii) In class (lec4), the importance of \"feature set selection\" will be mentioned. Instead of using the full vocabulary, try using just the 500 most common words (highest percentage of documents) from each of the two categories, for a total of somewhat under 1000 words (due to overlaps between the two lists). How does that affect the test score? (note that the full vocabulary for the two classes consisted of more than 15,000 words in each class)\n",
    "\n",
    "iii) The above feature set, of 1000 most frequent terms, might not be optimal for this classification task, since many of those terms (the, of, and, or, ...) might not discriminate systematically between the two classes. They could just add noise and have an adverse effect on classifier performance. Instead we can try to use the terms that are most discriminating, in the sense of having the largest disparities in numbers of occurrences between the two classes (as will be illustrated in lec5 for the biology/physics classifier).\n",
    "\n",
    "First list the top 20 terms most discriminating in the HC direction (highest ratio (.5 + #HCtexts with word)/(.5 + #LGtexts with word)),$^{*}$ and the top 20 most discriminating in the LG direction (highest reciprocal of above ratio).\n",
    "\n",
    "Then construct a new feature set consisting of just the 200 most discriminating terms in each direction *and* which occur in at least 10 of the 1800 texts$^{**}$ (a total of 400 since there won't be overlap). What are the 20 most discriminating terms in this set?\n",
    "\n",
    "How does the test score of the classifier on the 200 test documents compare with parts i, ii)?\n",
    "\n",
    "$^*$The .5 is again \"smoothing\", to avoid division by zero for words that occur in only one of the two classes.\n",
    "\n",
    "$^{**}$This is so that excessive bias isn't given to terms that happen to occur very few times in the training set."
   ]
  },
  {
   "cell_type": "code",
   "execution_count": 97,
   "metadata": {},
   "outputs": [],
   "source": [
    "# 2 A \n",
    "#  i)\n",
    "\n",
    "def classify(txt):\n",
    "    hcc = np.prod([HCvocab[w] for w in set(words(txt))]) \n",
    "    lgc = np.prod([LGvocab[w] for w in set(words(txt))])\n",
    "    r = hcc/(hcc + lgc)\n",
    "    return (r, 'HC' if r>.5 else 'LG')"
   ]
  },
  {
   "cell_type": "code",
   "execution_count": 99,
   "metadata": {},
   "outputs": [
    {
     "name": "stdout",
     "output_type": "stream",
     "text": [
      "(1.0, 'HC')\n",
      "(9.27277389823273e-21, 'LG')\n"
     ]
    }
   ],
   "source": [
    "print (classify(hcabs[901]), '\\n', classify(lgabs[901]), sep='')"
   ]
  },
  {
   "cell_type": "code",
   "execution_count": 89,
   "metadata": {},
   "outputs": [
    {
     "data": {
      "text/plain": [
       "0.5"
      ]
     },
     "execution_count": 89,
     "metadata": {},
     "output_type": "execute_result"
    }
   ],
   "source": [
    "for i in range(900,1000):\n",
    "    print(classify(hcabs[i]), '\\n', classify(lgabs[i]), sep='')    "
   ]
  },
  {
   "cell_type": "markdown",
   "metadata": {
    "problem": "#2B"
   },
   "source": [
    "---\n",
    "**B.** As mentioned above, there are 10000 more abstracts in the ps1data.py (for a total of 12 classes).\n",
    "\n",
    "Implement a four way classifier (cs.HC, cs.LG, cs.CV = computer vision, q-bio.NC = neurons and cognition), where for example the probability of cs.HC would now be:\n",
    "$$p({\\rm HC}\\ |\\ words) = \\frac{p(words\\ |\\ {\\rm HC})\\,p({\\rm HC})}{p(words\\ |\\ {\\rm HC})\\,p({\\rm HC}) + p(words\\ |\\ {\\rm LG})\\,p({\\rm LG}) + p(words\\ |\\ {\\rm CV})\\,p({\\rm CV}) + p(words\\ |\\ {\\rm NC})\\,p({\\rm NC})} \\approx \\frac{\\prod_i p(w_i\\ |\\ {\\rm HC})}{\\prod_i p(w_i\\ |\\ {\\rm HC}) + \\prod_i p(w_i\\ |\\ {\\rm LG}) + \\prod_i p(w_i\\ |\\ {\\rm CV}) + \\prod_i p(w_i\\ |\\ {\\rm NC})}$$\n",
    "<br>\n",
    "and similarly for cs.LG, cs.CV, and q-bio.NC. The predicted classification is the one with the highest probability.\n",
    "\n",
    "Train it on the first 900 abstracts in each of those four categories (a total of 3600 documents), and test on the last 100 from each of those four categories (a total of 400 documents).\n",
    "\n",
    "---\n",
    "**C. [bonus]** Implement a twelve way classifier (all twelve classes in cell [1] above), \n",
    "trained on the first 900 abstracts in each of the categories (a total of 10800 documents), and test on the last 100 from each of those twelve categories (a total of 1200 documents). In class we'll consider metrics to disentangle the performance on multiple classes (using [classification_report](https://scikit-learn.org/stable/modules/generated/sklearn.metrics.classification_report.html),\n",
    "[confusion_matrix](https://scikit-learn.org/stable/modules/generated/sklearn.metrics.confusion_matrix.html), or\n",
    "[ConfusionMatrixDisplay](https://scikit-learn.org/stable/modules/generated/sklearn.metrics.ConfusionMatrixDisplay.html)).\n",
    "\n",
    "\n",
    "---\n",
    "**D. [really optional bonus]** If you're already familiar with scikit-learn data formats, then it's instructive (and very quick) to redo the above using either [Bernoulli Naive Bayes](https://scikit-learn.org/stable/modules/generated/sklearn.naive_bayes.BernoulliNB.html) (i.e., True/False whether or not word is in document as above), or \n",
    "[Multinomial Naive Bayes](https://scikit-learn.org/stable/modules/generated/sklearn.naive_bayes.MultinomialNB.html)\n",
    "(using the number counts within documents). This will be the subject of next week's lectures."
   ]
  },
  {
   "cell_type": "code",
   "execution_count": null,
   "metadata": {
    "collapsed": true,
    "jupyter": {
     "outputs_hidden": true
    }
   },
   "outputs": [],
   "source": []
  }
 ],
 "metadata": {
  "kernelspec": {
   "display_name": "Python 3",
   "language": "python",
   "name": "python3"
  },
  "language_info": {
   "codemirror_mode": {
    "name": "ipython",
    "version": 3
   },
   "file_extension": ".py",
   "mimetype": "text/x-python",
   "name": "python",
   "nbconvert_exporter": "python",
   "pygments_lexer": "ipython3",
   "version": "3.8.8"
  }
 },
 "nbformat": 4,
 "nbformat_minor": 4
}
