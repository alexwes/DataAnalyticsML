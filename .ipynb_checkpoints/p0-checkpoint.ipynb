{
 "cells": [
  {
   "cell_type": "markdown",
   "metadata": {},
   "source": [
    "# Ps0"
   ]
  },
  {
   "cell_type": "markdown",
   "metadata": {},
   "source": [
    "**IMPORTANT**: please remember to replace the text in this markdown cell with your name and netid (and continue to do this on subsequent problem sets).  Whether or not you do this successfully is the only graded component of this exercise.\n",
    "\n",
    "This is not a real problem set -- it is intended to check that your python installation works properly, and that we'll be able to process these when submitted via [gradescope.com](https://www.gradescope.com/courses/499876), so that there are no last minute surprises when ps1 is due.\n",
    "\n",
    "Please verify that everything works and submit your .ipynb file by Friday night, 27 Jan 2023, as 23:00.  The problems are all taken directly from past problem sets given in the prerequisite course Info 2950, so should be straightforward reminders of the material. (And feel free to pose any questions via Ed in the 'Ps0' category)"
   ]
  },
  {
   "cell_type": "code",
   "execution_count": 1,
   "metadata": {},
   "outputs": [],
   "source": [
    "#import some random resources:\n",
    "from numpy.random import random,randint\n",
    "#and some plotting functions\n",
    "import matplotlib.pyplot as plt, numpy as np\n",
    "import sklearn, pandas #just checking\n",
    "%matplotlib inline"
   ]
  },
  {
   "cell_type": "markdown",
   "metadata": {},
   "source": [
    "## 1.\n",
    "\n",
    "a) Consider guessing the result of ten random coinflips. (i) What is the probability of guessing *at least* 8 correctly? (ii) What is the conditional probability of guessing *at least* 8 correctly, given that the first guess is correct? (iii) What is the conditional probability of guessing *at least* 8 correctly, given that the first guess is incorrect?\n",
    "\n",
    "b) Use `randint(0,2,size=(N,10))` to simulate repeating the experiment `N = 1000000` times. Using [plt.hist()](https://matplotlib.org/stable/api/_as_gen/matplotlib.pyplot.hist.html), plot a histogram of the number of correct guesses in ten trials. (It should look something like the below.)"
   ]
  },
  {
   "cell_type": "markdown",
   "metadata": {},
   "source": [
    "a) (i) 7/128 (ii) 27/128 (iii) 4/128"
   ]
  },
  {
   "cell_type": "code",
   "execution_count": 77,
   "metadata": {},
   "outputs": [
    {
     "data": {
      "text/plain": [
       "(array([[499171.,      0.,      0.,      0.,      0.,      0.,      0.,\n",
       "              0.,      0., 500829.],\n",
       "        [499977.,      0.,      0.,      0.,      0.,      0.,      0.,\n",
       "              0.,      0., 500023.],\n",
       "        [500356.,      0.,      0.,      0.,      0.,      0.,      0.,\n",
       "              0.,      0., 499644.],\n",
       "        [501171.,      0.,      0.,      0.,      0.,      0.,      0.,\n",
       "              0.,      0., 498829.],\n",
       "        [500181.,      0.,      0.,      0.,      0.,      0.,      0.,\n",
       "              0.,      0., 499819.],\n",
       "        [501156.,      0.,      0.,      0.,      0.,      0.,      0.,\n",
       "              0.,      0., 498844.],\n",
       "        [499544.,      0.,      0.,      0.,      0.,      0.,      0.,\n",
       "              0.,      0., 500456.],\n",
       "        [500570.,      0.,      0.,      0.,      0.,      0.,      0.,\n",
       "              0.,      0., 499430.],\n",
       "        [500165.,      0.,      0.,      0.,      0.,      0.,      0.,\n",
       "              0.,      0., 499835.],\n",
       "        [499209.,      0.,      0.,      0.,      0.,      0.,      0.,\n",
       "              0.,      0., 500791.]]),\n",
       " array([0. , 0.1, 0.2, 0.3, 0.4, 0.5, 0.6, 0.7, 0.8, 0.9, 1. ]),\n",
       " <a list of 10 BarContainer objects>)"
      ]
     },
     "execution_count": 77,
     "metadata": {},
     "output_type": "execute_result"
    },
    {
     "data": {
      "image/png": "[encoded data removed]",
      "text/plain": [
       "<Figure size 432x288 with 1 Axes>"
      ]
     },
     "metadata": {
      "needs_background": "light"
     },
     "output_type": "display_data"
    }
   ],
   "source": [
    "# b)\n",
    "N = 1000000\n",
    "plt.hist(randint(0,2, size = (N,10)))"
   ]
  },
  {
   "cell_type": "markdown",
   "metadata": {},
   "source": [
    "## 2.\n",
    "a) What is the variance for flipping a fair coin 100 times?<br>\n",
    "Suppose 15000 cornell undergrads flip a fair coin 100 times apiece. The number of flips is large enough that the distribution is well approximated by a normal distribution. Using the [68-95-99.7](https://en.wikipedia.org/wiki/68%E2%80%9395%E2%80%9399.7_rule) rule, estimate the percentage of undergrads who will get at least 45 and less than 55 heads.\n",
    "\n",
    "b) Use `randint()` to simulate the percentage that gets 'between' 45 and 55 heads (specifically >=45 and < 55 heads).\n",
    "(Note that this can be done in a one-line list comprehension, but that is not necessary.)\n",
    "\n",
    "c) As in 1b above, plot a histogram of the simulation results, now with axes as below"
   ]
  },
  {
   "cell_type": "markdown",
   "metadata": {},
   "source": [
    "a) 25, 68%"
   ]
  },
  {
   "cell_type": "code",
   "execution_count": 115,
   "metadata": {},
   "outputs": [
    {
     "data": {
      "text/plain": [
       "(array([  15.,  147.,  833., 2678., 3268., 4373., 2685.,  838.,  153.,\n",
       "          10.]),\n",
       " array([31. , 34.8, 38.6, 42.4, 46.2, 50. , 53.8, 57.6, 61.4, 65.2, 69. ]),\n",
       " <BarContainer object of 10 artists>)"
      ]
     },
     "execution_count": 115,
     "metadata": {},
     "output_type": "execute_result"
    },
    {
     "data": {
      "image/png": "[encoded data removed]",
      "text/plain": [
       "<Figure size 432x288 with 1 Axes>"
      ]
     },
     "metadata": {
      "needs_background": "light"
     },
     "output_type": "display_data"
    }
   ],
   "source": [
    "results = [randint(0,2, size = (1,100)).sum() for i in range(0,15000)]\n",
    "plt.hist(results)"
   ]
  },
  {
   "cell_type": "markdown",
   "metadata": {},
   "source": [
    "# 3.\n",
    "A problem known as the \"[birthday paradox](https://en.wikipedia.org/wiki/Birthday_problem)\" plays an important role in a variety of collision problems. Assume that birthdays are uniformly distributed over 365 days (i.e., no leap day).\n",
    "\n",
    "a) Assume all 94 seats in Thurston 205 are occupied by students. What is the probability that at least one pair of students has the same birthday?<br>\n",
    "(As usual, \"at least one\" means to calculate (1- probability of no coincident birthdays), where the probability of no coindence for two students is $1\\cdot(364/365)$, for three is $1\\cdot(364/365)\\cdot(363/365)$, and so on.)\n",
    "\n",
    "b) The setup above is equivalent to throwing 94 balls uniformly at random into 365 bins, with the expectation value of the number of balls in each bin given by 94/365. Note that 365 is large enough that the distribution is well approximated by a Poisson distribution.<br>\n",
    "What is the expectation value for the number of pairs of students with coincident birthdays (i.e., the number of bins with two balls)?<br>\n",
    "What is the expectation value for the number of triples of students with the same birthday?\n",
    "\n",
    "c) If two students are chosen at random, what is the probability they have the same birthday?"
   ]
  },
  {
   "cell_type": "markdown",
   "metadata": {},
   "source": [
    "a) ~99.999\n",
    "b) 5, 1\n",
    "c) 1%"
   ]
  }
 ],
 "metadata": {
  "kernelspec": {
   "display_name": "Python 3",
   "language": "python",
   "name": "python3"
  },
  "language_info": {
   "codemirror_mode": {
    "name": "ipython",
    "version": 3
   },
   "file_extension": ".py",
   "mimetype": "text/x-python",
   "name": "python",
   "nbconvert_exporter": "python",
   "pygments_lexer": "ipython3",
   "version": "3.8.8"
  },
  "vscode": {
   "interpreter": {
    "hash": "31f2aee4e71d21fbe5cf8b01ff0e069b9275f58929596ceb00d14d90e3e16cd6"
   }
  }
 },
 "nbformat": 4,
 "nbformat_minor": 4
}
